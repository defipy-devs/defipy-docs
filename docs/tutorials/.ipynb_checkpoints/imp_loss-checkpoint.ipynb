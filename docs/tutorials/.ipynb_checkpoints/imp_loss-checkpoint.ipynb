{
 "cells": [
  {
   "cell_type": "code",
   "execution_count": 270,
   "id": "e789441b-d074-48ef-a9c9-92f6aa304f95",
   "metadata": {},
   "outputs": [],
   "source": [
    "from defipy import *\n",
    "import numpy as np\n",
    "import datetime\n",
    "import matplotlib.pyplot as plt"
   ]
  },
  {
   "cell_type": "code",
   "execution_count": 301,
   "id": "11f3151e-6662-4c9c-8c51-54dcbc5f4319",
   "metadata": {},
   "outputs": [],
   "source": [
    "from math import sqrt\n",
    "\n",
    "class UniswapImpLoss:\n",
    "    def __init__(self, lp, lp_init_amt):\n",
    "        self.lp = lp\n",
    "        self.lp_init = lp_init_amt\n",
    "        self.x_tkn_init = self._calc_dx(dL)\n",
    "        self.y_tkn_init = self._calc_dy(dL)\n",
    "\n",
    "    def current_position_value(self, tkn):\n",
    "        \"\"\"Calculate the current value of the LP position in terms of input token.\"\"\" \n",
    "        return LPQuote(False).get_amount_from_lp(lp, tkn, self.lp_init)\n",
    "\n",
    "    def hold_value(self, tkn):\n",
    "        \"\"\"Calculate the value if initial tokens were held.\"\"\"\n",
    "        tokens = lp.factory.token_from_exchange[lp.name]\n",
    "        current_price = self.lp.get_price(tkn)\n",
    "        if(tkn.token_name == lp.token0):\n",
    "            val = self.y_tkn_init/current_price + self.x_tkn_init\n",
    "            #val = self.x_tkn_init\n",
    "        elif(tkn.token_name == lp.token1):   \n",
    "            current_price = self.lp.get_price(tokens[lp.token0])\n",
    "            val = self.x_tkn_init * current_price + self.y_tkn_init\n",
    "        return val \n",
    "\n",
    "    def apply(self):\n",
    "        \"\"\"Calculate IL based on price ratio.\"\"\"\n",
    "        tokens = lp.factory.token_from_exchange[lp.name]\n",
    "        x_tkn = tokens[lp.token0]\n",
    "        y_tkn = tokens[lp.token1]\n",
    "        initial_price = self.y_tkn_init / self.x_tkn_init\n",
    "        current_price = self.lp.get_price(y_tkn)\n",
    "        r = current_price / initial_price\n",
    "        return (2 * sqrt(r)) / (1 + r) - 1\n",
    "\n",
    "    def _calc_dx(self, dL):\n",
    "        tokens = lp.factory.token_from_exchange[lp.name]\n",
    "        x_tkn = tokens[lp.token0]\n",
    "        x = lp.get_reserve(x_tkn)\n",
    "        L = lp.get_liquidity()\n",
    "        return x*dL/L\n",
    "\n",
    "    def _calc_dy(self, dL):\n",
    "        tokens = lp.factory.token_from_exchange[lp.name]\n",
    "        y_tkn = tokens[lp.token1]\n",
    "        y = lp.get_reserve(y_tkn)\n",
    "        L = lp.get_liquidity()\n",
    "        return y*dL/L"
   ]
  },
  {
   "cell_type": "code",
   "execution_count": 302,
   "id": "dc448e92-a532-4dcc-9e1b-2bd76ddc1a1c",
   "metadata": {},
   "outputs": [],
   "source": [
    "# Instantiation Parameters\n",
    "n_steps = 500     # Number of steps \n",
    "start_price = 10 # Initial price SYS/USD\n",
    "mu = 0.1; sigma = 0.5\n",
    "n_paths = 1      # Number of simulationed paths\n",
    "seconds_year = 31536000\n",
    "\n",
    "# Brownian Model \n",
    "bm = BrownianModel(start_price)\n",
    "p_arr = bm.gen_gbms(mu, sigma, n_steps-1, n_paths).flatten()\n",
    "\n",
    "dt = datetime.timedelta(seconds=seconds_year/n_steps)\n",
    "dates = [datetime.datetime.strptime(\"2024-09-01\", '%Y-%m-%d') + k*dt for k in range(n_steps)]"
   ]
  },
  {
   "cell_type": "code",
   "execution_count": 303,
   "id": "9c0f9188-ad12-4f3e-81fa-4cf84af8ba1d",
   "metadata": {},
   "outputs": [
    {
     "name": "stdout",
     "output_type": "stream",
     "text": [
      "Exchange TKN1-TKN2 (LP)\n",
      "Reserves: TKN1 = 1000.0, TKN2 = 10000.0\n",
      "Liquidity: 3162.2776601683795 \n",
      "\n"
     ]
    }
   ],
   "source": [
    "user_nm = 'user0'\n",
    "tkn1_amount = 1000\n",
    "tkn2_amount = p_arr[0]*tkn1_amount\n",
    "\n",
    "tkn1_nm = 'TKN1'\n",
    "tkn2_nm = 'TKN2'\n",
    "\n",
    "tkn1 = ERC20('TKN1', \"0x111\")\n",
    "tkn2 = ERC20('TKN2', \"0x09\")\n",
    "exchg_data = UniswapExchangeData(tkn0 = tkn1, tkn1 = tkn2, symbol=\"LP\", address=\"0x011\")\n",
    "\n",
    "factory = UniswapFactory(\"pool factory\", \"0x2\")\n",
    "lp = factory.deploy(exchg_data)\n",
    "Join().apply(lp, user_nm, tkn1_amount, tkn2_amount)\n",
    "\n",
    "lp.summary()"
   ]
  },
  {
   "cell_type": "code",
   "execution_count": 304,
   "id": "9515c0d1-b996-48f3-8d3a-ed00478425f5",
   "metadata": {},
   "outputs": [
    {
     "name": "stdout",
     "output_type": "stream",
     "text": [
      "Exchange TKN1-TKN2 (LP)\n",
      "Reserves: TKN1 = 1010.0, TKN2 = 10100.0\n",
      "Liquidity: 3193.900436770063 \n",
      "\n"
     ]
    }
   ],
   "source": [
    "out = AddLiquidity().apply(lp, tkn1, user_nm, 10)\n",
    "lp.summary()\n",
    "\n",
    "dL = lp.get_last_liquidity_deposit()\n",
    "iLoss = UniswapImpLoss(lp, dL)"
   ]
  },
  {
   "cell_type": "code",
   "execution_count": 305,
   "id": "91bf26a0-0956-4264-b76d-890567873dfb",
   "metadata": {},
   "outputs": [
    {
     "data": {
      "text/plain": [
       "19.871580343970614"
      ]
     },
     "execution_count": 305,
     "metadata": {},
     "output_type": "execute_result"
    }
   ],
   "source": [
    "iLoss.current_position_value(tkn1)"
   ]
  },
  {
   "cell_type": "code",
   "execution_count": 306,
   "id": "af913580-4438-4d93-809e-8a0a63433fe7",
   "metadata": {},
   "outputs": [
    {
     "data": {
      "text/plain": [
       "20.0"
      ]
     },
     "execution_count": 306,
     "metadata": {},
     "output_type": "execute_result"
    }
   ],
   "source": [
    "iLoss.hold_value(tkn1)"
   ]
  },
  {
   "cell_type": "code",
   "execution_count": 307,
   "id": "f79488f0-a387-450d-8ac4-b3b5dd06fa19",
   "metadata": {},
   "outputs": [
    {
     "data": {
      "text/plain": [
       "200.0"
      ]
     },
     "execution_count": 307,
     "metadata": {},
     "output_type": "execute_result"
    }
   ],
   "source": [
    "iLoss.hold_value(tkn2)"
   ]
  },
  {
   "cell_type": "code",
   "execution_count": 308,
   "id": "57e860b8-f684-47fa-9820-54c143858df1",
   "metadata": {},
   "outputs": [
    {
     "data": {
      "text/plain": [
       "31.622776601683796"
      ]
     },
     "execution_count": 308,
     "metadata": {},
     "output_type": "execute_result"
    }
   ],
   "source": [
    "tokens = lp.factory.token_from_exchange[lp.name]\n",
    "x_tkn = tokens[lp.token0]\n",
    "y_tkn = tokens[lp.token1]\n",
    "x = lp.get_reserve(x_tkn)\n",
    "y = lp.get_reserve(y_tkn)\n",
    "L = lp.get_liquidity()\n",
    "dx*L/x"
   ]
  },
  {
   "cell_type": "code",
   "execution_count": 309,
   "id": "143bf2dd-004d-499d-9b48-4e27083d8e55",
   "metadata": {},
   "outputs": [
    {
     "name": "stdout",
     "output_type": "stream",
     "text": [
      "Exchange TKN1-TKN2 (LP)\n",
      "Reserves: TKN1 = 1584.2351529825619, TKN2 = 9595.882481037748\n",
      "Liquidity: 3748.0868669720276 \n",
      "\n"
     ]
    }
   ],
   "source": [
    "arb = CorrectReserves(lp, x0 = p_arr[0])\n",
    "TKN_amt = TokenDeltaModel(100)\n",
    "pTKN1_TKN2_arr = []; \n",
    "\n",
    "for k in range(n_steps):\n",
    "\n",
    "    # *****************************\n",
    "    # ***** Random Swapping ******\n",
    "    # *****************************\n",
    "    Swap().apply(lp, tkn1, user_nm, TKN_amt.delta())\n",
    "    Swap().apply(lp, tkn2, user_nm, p_arr[k]*TKN_amt.delta())\n",
    "    \n",
    "    # *****************************\n",
    "    # ***** Rebalance ******\n",
    "    # *****************************\n",
    "    arb.apply(p_arr[k])\n",
    "\n",
    "    # *****************************\n",
    "    # ******* Data Capture ********\n",
    "    # *****************************\n",
    "    pTKN1_TKN2_arr.append(LPQuote().get_price(lp, tkn1))\n",
    "\n",
    "lp.summary()"
   ]
  }
 ],
 "metadata": {
  "kernelspec": {
   "display_name": "Python 3 (ipykernel)",
   "language": "python",
   "name": "python3"
  },
  "language_info": {
   "codemirror_mode": {
    "name": "ipython",
    "version": 3
   },
   "file_extension": ".py",
   "mimetype": "text/x-python",
   "name": "python",
   "nbconvert_exporter": "python",
   "pygments_lexer": "ipython3",
   "version": "3.10.0rc2"
  }
 },
 "nbformat": 4,
 "nbformat_minor": 5
}
