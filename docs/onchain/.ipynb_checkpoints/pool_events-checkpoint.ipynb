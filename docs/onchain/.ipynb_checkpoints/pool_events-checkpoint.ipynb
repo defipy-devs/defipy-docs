{
 "cells": [
  {
   "cell_type": "markdown",
   "id": "9a59d930-6727-49aa-8040-c1e50469e70e",
   "metadata": {},
   "source": [
    "# Pool Events\n",
    "\n",
    "This script shows how to leverage the Web3Scout package to read pool events, effectively serving as an extension of web3.py package. These pool events can serve as data feeds for DeFiPy analytics tooling.\n"
   ]
  },
  {
   "cell_type": "markdown",
   "id": "4a198106-9b86-4083-a4f0-ed0279a2774e",
   "metadata": {},
   "source": [
    "## Uniswap V2"
   ]
  },
  {
   "cell_type": "markdown",
   "id": "19c3e46d-9c6a-4a84-8ec9-0c58bdfc024f",
   "metadata": {},
   "source": [
    "### 📘 Notable Classes\n",
    "\n",
    "---\n",
    "\n",
    "* **Class**: 📘 ``web3scout.abi.ABILoad`` \n",
    "    * **Purpose**: Load Web3Scout embedded Solidity JSON ABI\n",
    "    * **Methods**:\n",
    "        * `` apply(web3: Web3, address: Optional[str] = None)``  \n",
    "        * **Parameters**:\n",
    "            * `web3`: Web3.py object (`Web3`).\n",
    "            * `address`: List of addresses (optional)(`list`).\n",
    "             \n",
    "* **Class**: 📘 ``web3scout.utils.connect.ConnectW3`` \n",
    "    * **Purpose**: Connect to a remote node using Web3.py\n",
    "    * **Methods**:\n",
    "        * ``apply()``\n",
    "     \n",
    "* **Class**: 📘 ``web3scout.event.process.RetrieveEvents`` \n",
    "    * **Purpose**: Retrieve pool events\n",
    "    * **Methods**:\n",
    "        * ``apply(event_type: str, address: str = None, start_block = None, end_block = None)``\n",
    "        * **Parameters**:\n",
    "            * `event_type`: EventType (eg, SWAP, MINT, etc.)  (`str`).\n",
    "            * `address`: address (`str`).\n",
    "            * `start_block`: start block number (`int`).\n",
    "            * `end_block`: end block number (`int`)."
   ]
  },
  {
   "cell_type": "code",
   "execution_count": 1,
   "id": "1834d1f6-a675-4a19-855e-c43b3e8b9449",
   "metadata": {},
   "outputs": [],
   "source": [
    "import json\n",
    "import time\n",
    "from web3scout import *"
   ]
  },
  {
   "cell_type": "code",
   "execution_count": 2,
   "id": "a94eca06-404c-444d-9d56-58d012f7737d",
   "metadata": {},
   "outputs": [],
   "source": [
    "PAIR_ADDRESS_UNIV2 = \"0xB4e16d0168e52d35CaCD2c6185b44281Ec28C9Dc\"\n",
    "PROVIDER_URL = \"https://mainnet.infura.io/v3/xxxxxxxxxxxxx\"\n",
    "PLATFORM = Platform.AGNOSTIC\n",
    "ABI_NAME_UNIV2 = JSONContract.UniswapV2Pair"
   ]
  },
  {
   "cell_type": "code",
   "execution_count": 3,
   "id": "7a57fb8e-201f-4fdd-9275-6b2b0cc2e326",
   "metadata": {},
   "outputs": [],
   "source": [
    "abi = ABILoad(PLATFORM, ABI_NAME_UNIV2)\n",
    "connect = ConnectW3(PROVIDER_URL)\n",
    "connect.apply()"
   ]
  },
  {
   "cell_type": "code",
   "execution_count": 4,
   "id": "2d011e0a-4038-4c7a-9673-dfca7fa3fbdf",
   "metadata": {},
   "outputs": [],
   "source": [
    "rEvents = RetrieveEvents(connect, abi)\n",
    "last_block = rEvents.latest_block()\n",
    "start_block = last_block - 100000"
   ]
  },
  {
   "cell_type": "markdown",
   "id": "3c8e1ebd-4be4-4759-ae61-d132738d9ed8",
   "metadata": {},
   "source": [
    "### Extract Mint Events"
   ]
  },
  {
   "cell_type": "code",
   "execution_count": 5,
   "id": "43a0b936-a6c7-4f4a-9162-47a2cd11e874",
   "metadata": {},
   "outputs": [
    {
     "data": {
      "text/html": [
       "<div>\n",
       "<style scoped>\n",
       "    .dataframe tbody tr th:only-of-type {\n",
       "        vertical-align: middle;\n",
       "    }\n",
       "\n",
       "    .dataframe tbody tr th {\n",
       "        vertical-align: top;\n",
       "    }\n",
       "\n",
       "    .dataframe thead th {\n",
       "        text-align: right;\n",
       "    }\n",
       "</style>\n",
       "<table border=\"1\" class=\"dataframe\">\n",
       "  <thead>\n",
       "    <tr style=\"text-align: right;\">\n",
       "      <th></th>\n",
       "      <th>blockNumber</th>\n",
       "      <th>event</th>\n",
       "      <th>address</th>\n",
       "      <th>blockHash</th>\n",
       "      <th>logIndex</th>\n",
       "      <th>transactionHash</th>\n",
       "      <th>transactionIndex</th>\n",
       "      <th>args</th>\n",
       "    </tr>\n",
       "  </thead>\n",
       "  <tbody>\n",
       "    <tr>\n",
       "      <th>0</th>\n",
       "      <td>23371798</td>\n",
       "      <td>Mint</td>\n",
       "      <td>0xB4e16d0168e52d35CaCD2c6185b44281Ec28C9Dc</td>\n",
       "      <td>0xa1ea6a48f44d23bb2f12ce7abd3b4f5cc2805ae8d96b...</td>\n",
       "      <td>368</td>\n",
       "      <td>0xaff54c10394d9b196581b131819fe2fd70ee590e4ca2...</td>\n",
       "      <td>144</td>\n",
       "      <td>{'sender': '0x7a250d5630B4cF539739dF2C5dAcb4c6...</td>\n",
       "    </tr>\n",
       "    <tr>\n",
       "      <th>1</th>\n",
       "      <td>23377169</td>\n",
       "      <td>Mint</td>\n",
       "      <td>0xB4e16d0168e52d35CaCD2c6185b44281Ec28C9Dc</td>\n",
       "      <td>0xbe339a42ba9070d756d05bf9c90c7521c85917258766...</td>\n",
       "      <td>344</td>\n",
       "      <td>0xc16a56b8ac683b724f338d0073a289c7429879aafa5b...</td>\n",
       "      <td>71</td>\n",
       "      <td>{'sender': '0x7a250d5630B4cF539739dF2C5dAcb4c6...</td>\n",
       "    </tr>\n",
       "  </tbody>\n",
       "</table>\n",
       "</div>"
      ],
      "text/plain": [
       "   blockNumber event                                     address  \\\n",
       "0     23371798  Mint  0xB4e16d0168e52d35CaCD2c6185b44281Ec28C9Dc   \n",
       "1     23377169  Mint  0xB4e16d0168e52d35CaCD2c6185b44281Ec28C9Dc   \n",
       "\n",
       "                                           blockHash  logIndex  \\\n",
       "0  0xa1ea6a48f44d23bb2f12ce7abd3b4f5cc2805ae8d96b...       368   \n",
       "1  0xbe339a42ba9070d756d05bf9c90c7521c85917258766...       344   \n",
       "\n",
       "                                     transactionHash  transactionIndex  \\\n",
       "0  0xaff54c10394d9b196581b131819fe2fd70ee590e4ca2...               144   \n",
       "1  0xc16a56b8ac683b724f338d0073a289c7429879aafa5b...                71   \n",
       "\n",
       "                                                args  \n",
       "0  {'sender': '0x7a250d5630B4cF539739dF2C5dAcb4c6...  \n",
       "1  {'sender': '0x7a250d5630B4cF539739dF2C5dAcb4c6...  "
      ]
     },
     "execution_count": 5,
     "metadata": {},
     "output_type": "execute_result"
    }
   ],
   "source": [
    "events = rEvents.apply(EventType.MINT, address = PAIR_ADDRESS_UNIV2, start_block=start_block, end_block=last_block)\n",
    "rEvents.to_dataframe(events).head(2)"
   ]
  },
  {
   "cell_type": "markdown",
   "id": "2971d7f2-aeb2-42ac-a873-a27fe5d60552",
   "metadata": {},
   "source": [
    "### Extract Swap Events"
   ]
  },
  {
   "cell_type": "code",
   "execution_count": 6,
   "id": "c98a5d7c-b8e7-40c2-ab4b-4e5c5e262325",
   "metadata": {},
   "outputs": [],
   "source": [
    "connect = ConnectW3(PROVIDER_URL)\n",
    "connect.apply()"
   ]
  },
  {
   "cell_type": "code",
   "execution_count": 7,
   "id": "76be17b2-4163-4ee6-afd6-314ceb6cee27",
   "metadata": {},
   "outputs": [],
   "source": [
    "rEvents = RetrieveEvents(connect, abi)\n",
    "last_block = rEvents.latest_block()\n",
    "start_block = last_block - 200"
   ]
  },
  {
   "cell_type": "code",
   "execution_count": 8,
   "id": "ffbfd69c-db7b-4c1d-b18f-8eb2d02a96d9",
   "metadata": {},
   "outputs": [
    {
     "data": {
      "text/html": [
       "<div>\n",
       "<style scoped>\n",
       "    .dataframe tbody tr th:only-of-type {\n",
       "        vertical-align: middle;\n",
       "    }\n",
       "\n",
       "    .dataframe tbody tr th {\n",
       "        vertical-align: top;\n",
       "    }\n",
       "\n",
       "    .dataframe thead th {\n",
       "        text-align: right;\n",
       "    }\n",
       "</style>\n",
       "<table border=\"1\" class=\"dataframe\">\n",
       "  <thead>\n",
       "    <tr style=\"text-align: right;\">\n",
       "      <th></th>\n",
       "      <th>blockNumber</th>\n",
       "      <th>event</th>\n",
       "      <th>address</th>\n",
       "      <th>blockHash</th>\n",
       "      <th>logIndex</th>\n",
       "      <th>transactionHash</th>\n",
       "      <th>transactionIndex</th>\n",
       "      <th>args</th>\n",
       "    </tr>\n",
       "  </thead>\n",
       "  <tbody>\n",
       "    <tr>\n",
       "      <th>0</th>\n",
       "      <td>23465207</td>\n",
       "      <td>Swap</td>\n",
       "      <td>0xB4e16d0168e52d35CaCD2c6185b44281Ec28C9Dc</td>\n",
       "      <td>0xe19cb4648c2843e0e5e1b9b4b5a6a4077637d8c5f77f...</td>\n",
       "      <td>70</td>\n",
       "      <td>0x714d53f50f4f66361fb294b5ca72214448c740352eae...</td>\n",
       "      <td>7</td>\n",
       "      <td>{'sender': '0x7a250d5630B4cF539739dF2C5dAcb4c6...</td>\n",
       "    </tr>\n",
       "    <tr>\n",
       "      <th>1</th>\n",
       "      <td>23465266</td>\n",
       "      <td>Swap</td>\n",
       "      <td>0xB4e16d0168e52d35CaCD2c6185b44281Ec28C9Dc</td>\n",
       "      <td>0xdcddce03378ef0979a7324268bc434f17ab26496466f...</td>\n",
       "      <td>596</td>\n",
       "      <td>0xa7c3a5cbd3792cda4c8b75fe36b9e8f97aabbe169c10...</td>\n",
       "      <td>155</td>\n",
       "      <td>{'sender': '0x5141B82f5fFDa4c6fE1E372978F1C542...</td>\n",
       "    </tr>\n",
       "  </tbody>\n",
       "</table>\n",
       "</div>"
      ],
      "text/plain": [
       "   blockNumber event                                     address  \\\n",
       "0     23465207  Swap  0xB4e16d0168e52d35CaCD2c6185b44281Ec28C9Dc   \n",
       "1     23465266  Swap  0xB4e16d0168e52d35CaCD2c6185b44281Ec28C9Dc   \n",
       "\n",
       "                                           blockHash  logIndex  \\\n",
       "0  0xe19cb4648c2843e0e5e1b9b4b5a6a4077637d8c5f77f...        70   \n",
       "1  0xdcddce03378ef0979a7324268bc434f17ab26496466f...       596   \n",
       "\n",
       "                                     transactionHash  transactionIndex  \\\n",
       "0  0x714d53f50f4f66361fb294b5ca72214448c740352eae...                 7   \n",
       "1  0xa7c3a5cbd3792cda4c8b75fe36b9e8f97aabbe169c10...               155   \n",
       "\n",
       "                                                args  \n",
       "0  {'sender': '0x7a250d5630B4cF539739dF2C5dAcb4c6...  \n",
       "1  {'sender': '0x5141B82f5fFDa4c6fE1E372978F1C542...  "
      ]
     },
     "execution_count": 8,
     "metadata": {},
     "output_type": "execute_result"
    }
   ],
   "source": [
    "events = rEvents.apply(EventType.SWAP, address = PAIR_ADDRESS_UNIV2, start_block=start_block, end_block=last_block)\n",
    "rEvents.to_dataframe(events).head(2)"
   ]
  },
  {
   "cell_type": "markdown",
   "id": "73f3494c-c5dd-41e4-b4be-3bc5e339da35",
   "metadata": {},
   "source": [
    "### Extract Burn Events"
   ]
  },
  {
   "cell_type": "code",
   "execution_count": 9,
   "id": "ad241068-5de6-44c4-ac89-ae159ff84db7",
   "metadata": {},
   "outputs": [],
   "source": [
    "connect = ConnectW3(PROVIDER_URL)\n",
    "connect.apply()"
   ]
  },
  {
   "cell_type": "code",
   "execution_count": 10,
   "id": "da6fa72b-3561-438c-84fa-cd94c1eabeab",
   "metadata": {},
   "outputs": [],
   "source": [
    "rEvents = RetrieveEvents(connect, abi)\n",
    "last_block = rEvents.latest_block()\n",
    "start_block = last_block - 20000"
   ]
  },
  {
   "cell_type": "code",
   "execution_count": 11,
   "id": "ccdd4e8d-dd3d-4a1e-8e30-bde797b20e99",
   "metadata": {},
   "outputs": [
    {
     "data": {
      "text/html": [
       "<div>\n",
       "<style scoped>\n",
       "    .dataframe tbody tr th:only-of-type {\n",
       "        vertical-align: middle;\n",
       "    }\n",
       "\n",
       "    .dataframe tbody tr th {\n",
       "        vertical-align: top;\n",
       "    }\n",
       "\n",
       "    .dataframe thead th {\n",
       "        text-align: right;\n",
       "    }\n",
       "</style>\n",
       "<table border=\"1\" class=\"dataframe\">\n",
       "  <thead>\n",
       "    <tr style=\"text-align: right;\">\n",
       "      <th></th>\n",
       "      <th>blockNumber</th>\n",
       "      <th>event</th>\n",
       "      <th>address</th>\n",
       "      <th>blockHash</th>\n",
       "      <th>logIndex</th>\n",
       "      <th>transactionHash</th>\n",
       "      <th>transactionIndex</th>\n",
       "      <th>args</th>\n",
       "    </tr>\n",
       "  </thead>\n",
       "  <tbody>\n",
       "    <tr>\n",
       "      <th>0</th>\n",
       "      <td>23450422</td>\n",
       "      <td>Burn</td>\n",
       "      <td>0xB4e16d0168e52d35CaCD2c6185b44281Ec28C9Dc</td>\n",
       "      <td>0x860708394ddb55a57a43dc29fd4130566c4ed44509a1...</td>\n",
       "      <td>78</td>\n",
       "      <td>0xb612ada9b0a38ff64588961e73fc1d950b023dcfc052...</td>\n",
       "      <td>9</td>\n",
       "      <td>{'sender': '0x0e00E9F2Ed00003b37dc611D41b10029...</td>\n",
       "    </tr>\n",
       "    <tr>\n",
       "      <th>1</th>\n",
       "      <td>23455503</td>\n",
       "      <td>Burn</td>\n",
       "      <td>0xB4e16d0168e52d35CaCD2c6185b44281Ec28C9Dc</td>\n",
       "      <td>0x7d8ccf83b41b7c61ad2bf3012e28e4bef4652ad2e4dc...</td>\n",
       "      <td>133</td>\n",
       "      <td>0xca16994b4be4be987abb5c20c8a4c760f19a2c5597b3...</td>\n",
       "      <td>24</td>\n",
       "      <td>{'sender': '0x7a250d5630B4cF539739dF2C5dAcb4c6...</td>\n",
       "    </tr>\n",
       "  </tbody>\n",
       "</table>\n",
       "</div>"
      ],
      "text/plain": [
       "   blockNumber event                                     address  \\\n",
       "0     23450422  Burn  0xB4e16d0168e52d35CaCD2c6185b44281Ec28C9Dc   \n",
       "1     23455503  Burn  0xB4e16d0168e52d35CaCD2c6185b44281Ec28C9Dc   \n",
       "\n",
       "                                           blockHash  logIndex  \\\n",
       "0  0x860708394ddb55a57a43dc29fd4130566c4ed44509a1...        78   \n",
       "1  0x7d8ccf83b41b7c61ad2bf3012e28e4bef4652ad2e4dc...       133   \n",
       "\n",
       "                                     transactionHash  transactionIndex  \\\n",
       "0  0xb612ada9b0a38ff64588961e73fc1d950b023dcfc052...                 9   \n",
       "1  0xca16994b4be4be987abb5c20c8a4c760f19a2c5597b3...                24   \n",
       "\n",
       "                                                args  \n",
       "0  {'sender': '0x0e00E9F2Ed00003b37dc611D41b10029...  \n",
       "1  {'sender': '0x7a250d5630B4cF539739dF2C5dAcb4c6...  "
      ]
     },
     "execution_count": 11,
     "metadata": {},
     "output_type": "execute_result"
    }
   ],
   "source": [
    "events = rEvents.apply(EventType.BURN, address = PAIR_ADDRESS_UNIV2, start_block=start_block, end_block=last_block)\n",
    "rEvents.to_dataframe(events).head(2)"
   ]
  },
  {
   "cell_type": "markdown",
   "id": "2863ae57-f498-45c0-971f-d4afc1c58449",
   "metadata": {},
   "source": [
    "### Extract Sync Events (Price Oracle)"
   ]
  },
  {
   "cell_type": "code",
   "execution_count": 12,
   "id": "23aa9b9f-68b0-42f1-938f-3ee608074014",
   "metadata": {},
   "outputs": [],
   "source": [
    "pair_address = \"0xB4e16d0168e52d35CaCD2c6185b44281Ec28C9Dc\"\n",
    "provider_url = \"https://mainnet.infura.io/v3/9624e3e5c40f4ac3958b79fa5aa2562d\"\n",
    "platform = Platform.AGNOSTIC\n",
    "abi_name = JSONContract.UniswapV2Pair"
   ]
  },
  {
   "cell_type": "code",
   "execution_count": 13,
   "id": "59951f80-9b6f-40c1-adad-0a741e27b6fc",
   "metadata": {},
   "outputs": [],
   "source": [
    "abi = ABILoad(PLATFORM, ABI_NAME_UNIV2)\n",
    "connect = ConnectW3(PROVIDER_URL)\n",
    "connect.apply()"
   ]
  },
  {
   "cell_type": "code",
   "execution_count": 14,
   "id": "a5b848eb-4b71-4318-989c-6b13ba28edcb",
   "metadata": {},
   "outputs": [
    {
     "data": {
      "text/html": [
       "<div>\n",
       "<style scoped>\n",
       "    .dataframe tbody tr th:only-of-type {\n",
       "        vertical-align: middle;\n",
       "    }\n",
       "\n",
       "    .dataframe tbody tr th {\n",
       "        vertical-align: top;\n",
       "    }\n",
       "\n",
       "    .dataframe thead th {\n",
       "        text-align: right;\n",
       "    }\n",
       "</style>\n",
       "<table border=\"1\" class=\"dataframe\">\n",
       "  <thead>\n",
       "    <tr style=\"text-align: right;\">\n",
       "      <th></th>\n",
       "      <th>blockNumber</th>\n",
       "      <th>event</th>\n",
       "      <th>address</th>\n",
       "      <th>blockHash</th>\n",
       "      <th>logIndex</th>\n",
       "      <th>transactionHash</th>\n",
       "      <th>transactionIndex</th>\n",
       "      <th>args</th>\n",
       "    </tr>\n",
       "  </thead>\n",
       "  <tbody>\n",
       "    <tr>\n",
       "      <th>0</th>\n",
       "      <td>23465297</td>\n",
       "      <td>Sync</td>\n",
       "      <td>0xB4e16d0168e52d35CaCD2c6185b44281Ec28C9Dc</td>\n",
       "      <td>0x9222687c4e46e75da9ffa9b0a6272cfbcb4bb89a6ceb...</td>\n",
       "      <td>287</td>\n",
       "      <td>0xf986f4b7cf60f36502b9f2d424db4398bfc736712d89...</td>\n",
       "      <td>64</td>\n",
       "      <td>{'reserve0': 14160247492323, 'reserve1': 34248...</td>\n",
       "    </tr>\n",
       "    <tr>\n",
       "      <th>1</th>\n",
       "      <td>23465299</td>\n",
       "      <td>Sync</td>\n",
       "      <td>0xB4e16d0168e52d35CaCD2c6185b44281Ec28C9Dc</td>\n",
       "      <td>0xa9347912eb674c318ce4ff89adf2187793336daef54a...</td>\n",
       "      <td>919</td>\n",
       "      <td>0x3d3c4a04fc440289004003c7e132f11b46bc842ccf39...</td>\n",
       "      <td>253</td>\n",
       "      <td>{'reserve0': 14160249143395, 'reserve1': 34248...</td>\n",
       "    </tr>\n",
       "  </tbody>\n",
       "</table>\n",
       "</div>"
      ],
      "text/plain": [
       "   blockNumber event                                     address  \\\n",
       "0     23465297  Sync  0xB4e16d0168e52d35CaCD2c6185b44281Ec28C9Dc   \n",
       "1     23465299  Sync  0xB4e16d0168e52d35CaCD2c6185b44281Ec28C9Dc   \n",
       "\n",
       "                                           blockHash  logIndex  \\\n",
       "0  0x9222687c4e46e75da9ffa9b0a6272cfbcb4bb89a6ceb...       287   \n",
       "1  0xa9347912eb674c318ce4ff89adf2187793336daef54a...       919   \n",
       "\n",
       "                                     transactionHash  transactionIndex  \\\n",
       "0  0xf986f4b7cf60f36502b9f2d424db4398bfc736712d89...                64   \n",
       "1  0x3d3c4a04fc440289004003c7e132f11b46bc842ccf39...               253   \n",
       "\n",
       "                                                args  \n",
       "0  {'reserve0': 14160247492323, 'reserve1': 34248...  \n",
       "1  {'reserve0': 14160249143395, 'reserve1': 34248...  "
      ]
     },
     "execution_count": 14,
     "metadata": {},
     "output_type": "execute_result"
    }
   ],
   "source": [
    "last_block = connect.get_w3().eth.block_number\n",
    "start_block = last_block - 100\n",
    "\n",
    "# Grab batch sync events from pool\n",
    "rEvents = RetrieveEvents(connect, abi)\n",
    "events = rEvents.apply(EventType.SYNC, address = PAIR_ADDRESS_UNIV2, start_block=start_block, end_block=last_block)\n",
    "rEvents.to_dataframe(events).head(2)"
   ]
  },
  {
   "cell_type": "markdown",
   "id": "aec273bb-f6fb-4ca8-8c24-39ffa44c7341",
   "metadata": {},
   "source": [
    "## Uniswap V3"
   ]
  },
  {
   "cell_type": "code",
   "execution_count": 24,
   "id": "7cfa4c53-b005-470f-8fb0-9ea490991bc8",
   "metadata": {},
   "outputs": [],
   "source": [
    "time.sleep(2)"
   ]
  },
  {
   "cell_type": "code",
   "execution_count": 15,
   "id": "969332cc-84f3-4f87-a6bc-e76bbbc1a0b4",
   "metadata": {},
   "outputs": [],
   "source": [
    "PAIR_ADDRESS_UNIV3 = \"0x8ad599c3a0ff1de082011efddc58f1908eb6e6d8\"\n",
    "ABI_NAME_UNIV3 = JSONContract.UniswapV3Pool"
   ]
  },
  {
   "cell_type": "code",
   "execution_count": 16,
   "id": "3999073e-092c-4175-a9ee-7bdb2f740914",
   "metadata": {},
   "outputs": [],
   "source": [
    "abi = ABILoad(PLATFORM, ABI_NAME_UNIV3)\n",
    "connect = ConnectW3(PROVIDER_URL)\n",
    "connect.apply()"
   ]
  },
  {
   "cell_type": "markdown",
   "id": "2fdcfcfc-405c-4792-8ad3-d5cad4f14530",
   "metadata": {},
   "source": [
    "### Extract Mint Events"
   ]
  },
  {
   "cell_type": "code",
   "execution_count": 17,
   "id": "938da6e1-3051-428a-8c31-f6e2ca6118b1",
   "metadata": {},
   "outputs": [],
   "source": [
    "rEvents = RetrieveEvents(connect, abi)\n",
    "last_block = rEvents.latest_block()\n",
    "start_block = last_block - 2000"
   ]
  },
  {
   "cell_type": "code",
   "execution_count": 18,
   "id": "ebe6a8b8-ac53-46f3-9e86-2f30f219b543",
   "metadata": {},
   "outputs": [
    {
     "data": {
      "text/html": [
       "<div>\n",
       "<style scoped>\n",
       "    .dataframe tbody tr th:only-of-type {\n",
       "        vertical-align: middle;\n",
       "    }\n",
       "\n",
       "    .dataframe tbody tr th {\n",
       "        vertical-align: top;\n",
       "    }\n",
       "\n",
       "    .dataframe thead th {\n",
       "        text-align: right;\n",
       "    }\n",
       "</style>\n",
       "<table border=\"1\" class=\"dataframe\">\n",
       "  <thead>\n",
       "    <tr style=\"text-align: right;\">\n",
       "      <th></th>\n",
       "      <th>blockNumber</th>\n",
       "      <th>event</th>\n",
       "      <th>address</th>\n",
       "      <th>blockHash</th>\n",
       "      <th>logIndex</th>\n",
       "      <th>transactionHash</th>\n",
       "      <th>transactionIndex</th>\n",
       "      <th>args</th>\n",
       "    </tr>\n",
       "  </thead>\n",
       "  <tbody>\n",
       "    <tr>\n",
       "      <th>0</th>\n",
       "      <td>23463948</td>\n",
       "      <td>Mint</td>\n",
       "      <td>0x8ad599c3A0ff1De082011EFDDc58f1908eb6e6D8</td>\n",
       "      <td>0xec927676fe28a0726104aa70cf3bd59b76ba66af40f1...</td>\n",
       "      <td>505</td>\n",
       "      <td>0x4cee13dee6e51e8004755939261797d6017bee978af9...</td>\n",
       "      <td>195</td>\n",
       "      <td>{'owner': '0xC36442b4a4522E871399CD717aBDD847A...</td>\n",
       "    </tr>\n",
       "    <tr>\n",
       "      <th>1</th>\n",
       "      <td>23464797</td>\n",
       "      <td>Mint</td>\n",
       "      <td>0x8ad599c3A0ff1De082011EFDDc58f1908eb6e6D8</td>\n",
       "      <td>0x7cc3e7aa51b6dfa77822a263c6a4d4b7b95701e811a0...</td>\n",
       "      <td>92</td>\n",
       "      <td>0x98a4930de3206c2542eea8a3f50cee357b460cf90c07...</td>\n",
       "      <td>15</td>\n",
       "      <td>{'owner': '0xC36442b4a4522E871399CD717aBDD847A...</td>\n",
       "    </tr>\n",
       "  </tbody>\n",
       "</table>\n",
       "</div>"
      ],
      "text/plain": [
       "   blockNumber event                                     address  \\\n",
       "0     23463948  Mint  0x8ad599c3A0ff1De082011EFDDc58f1908eb6e6D8   \n",
       "1     23464797  Mint  0x8ad599c3A0ff1De082011EFDDc58f1908eb6e6D8   \n",
       "\n",
       "                                           blockHash  logIndex  \\\n",
       "0  0xec927676fe28a0726104aa70cf3bd59b76ba66af40f1...       505   \n",
       "1  0x7cc3e7aa51b6dfa77822a263c6a4d4b7b95701e811a0...        92   \n",
       "\n",
       "                                     transactionHash  transactionIndex  \\\n",
       "0  0x4cee13dee6e51e8004755939261797d6017bee978af9...               195   \n",
       "1  0x98a4930de3206c2542eea8a3f50cee357b460cf90c07...                15   \n",
       "\n",
       "                                                args  \n",
       "0  {'owner': '0xC36442b4a4522E871399CD717aBDD847A...  \n",
       "1  {'owner': '0xC36442b4a4522E871399CD717aBDD847A...  "
      ]
     },
     "execution_count": 18,
     "metadata": {},
     "output_type": "execute_result"
    }
   ],
   "source": [
    "events = rEvents.apply(EventType.MINT, address = PAIR_ADDRESS_UNIV3, start_block=start_block, end_block=last_block)\n",
    "rEvents.to_dataframe(events).head(2)"
   ]
  },
  {
   "cell_type": "markdown",
   "id": "1bb4ca5d-76d5-4000-8193-f59e21a216c4",
   "metadata": {},
   "source": [
    "### Extract Swap Events"
   ]
  },
  {
   "cell_type": "code",
   "execution_count": 19,
   "id": "b96036b2-b743-4f4a-b733-749c876164c0",
   "metadata": {},
   "outputs": [],
   "source": [
    "time.sleep(2)"
   ]
  },
  {
   "cell_type": "code",
   "execution_count": 20,
   "id": "852aff1d-e235-4b1a-9710-bbd1193113e3",
   "metadata": {},
   "outputs": [],
   "source": [
    "rEvents = RetrieveEvents(connect, abi)\n",
    "last_block = rEvents.latest_block()\n",
    "start_block = last_block - 100"
   ]
  },
  {
   "cell_type": "code",
   "execution_count": 21,
   "id": "eabafd00-3fad-4181-8f99-0849cbc71e52",
   "metadata": {},
   "outputs": [
    {
     "data": {
      "text/html": [
       "<div>\n",
       "<style scoped>\n",
       "    .dataframe tbody tr th:only-of-type {\n",
       "        vertical-align: middle;\n",
       "    }\n",
       "\n",
       "    .dataframe tbody tr th {\n",
       "        vertical-align: top;\n",
       "    }\n",
       "\n",
       "    .dataframe thead th {\n",
       "        text-align: right;\n",
       "    }\n",
       "</style>\n",
       "<table border=\"1\" class=\"dataframe\">\n",
       "  <thead>\n",
       "    <tr style=\"text-align: right;\">\n",
       "      <th></th>\n",
       "      <th>blockNumber</th>\n",
       "      <th>event</th>\n",
       "      <th>address</th>\n",
       "      <th>blockHash</th>\n",
       "      <th>logIndex</th>\n",
       "      <th>transactionHash</th>\n",
       "      <th>transactionIndex</th>\n",
       "      <th>args</th>\n",
       "    </tr>\n",
       "  </thead>\n",
       "  <tbody>\n",
       "    <tr>\n",
       "      <th>0</th>\n",
       "      <td>23465350</td>\n",
       "      <td>Swap</td>\n",
       "      <td>0x8ad599c3A0ff1De082011EFDDc58f1908eb6e6D8</td>\n",
       "      <td>0xc56723fa7ebeb75d7a8b205e778f6cedbf883436e493...</td>\n",
       "      <td>192</td>\n",
       "      <td>0x824cccb416cb05ff1f99d486061a73fe145dfa3b51ae...</td>\n",
       "      <td>72</td>\n",
       "      <td>{'sender': '0x06CFf7088619C7178F5e14f0B119458d...</td>\n",
       "    </tr>\n",
       "    <tr>\n",
       "      <th>1</th>\n",
       "      <td>23465364</td>\n",
       "      <td>Swap</td>\n",
       "      <td>0x8ad599c3A0ff1De082011EFDDc58f1908eb6e6D8</td>\n",
       "      <td>0x0cd490eb10b49b3bfd392642b507ea9e041ba37ff05d...</td>\n",
       "      <td>346</td>\n",
       "      <td>0x72208ff6cba8cc337becd07813aabc5ba9e67b18fa49...</td>\n",
       "      <td>53</td>\n",
       "      <td>{'sender': '0x68b3465833fb72A70ecDF485E0e4C7bD...</td>\n",
       "    </tr>\n",
       "  </tbody>\n",
       "</table>\n",
       "</div>"
      ],
      "text/plain": [
       "   blockNumber event                                     address  \\\n",
       "0     23465350  Swap  0x8ad599c3A0ff1De082011EFDDc58f1908eb6e6D8   \n",
       "1     23465364  Swap  0x8ad599c3A0ff1De082011EFDDc58f1908eb6e6D8   \n",
       "\n",
       "                                           blockHash  logIndex  \\\n",
       "0  0xc56723fa7ebeb75d7a8b205e778f6cedbf883436e493...       192   \n",
       "1  0x0cd490eb10b49b3bfd392642b507ea9e041ba37ff05d...       346   \n",
       "\n",
       "                                     transactionHash  transactionIndex  \\\n",
       "0  0x824cccb416cb05ff1f99d486061a73fe145dfa3b51ae...                72   \n",
       "1  0x72208ff6cba8cc337becd07813aabc5ba9e67b18fa49...                53   \n",
       "\n",
       "                                                args  \n",
       "0  {'sender': '0x06CFf7088619C7178F5e14f0B119458d...  \n",
       "1  {'sender': '0x68b3465833fb72A70ecDF485E0e4C7bD...  "
      ]
     },
     "execution_count": 21,
     "metadata": {},
     "output_type": "execute_result"
    }
   ],
   "source": [
    "events = rEvents.apply(EventType.SWAP, address = PAIR_ADDRESS_UNIV3, start_block=start_block, end_block=last_block)\n",
    "rEvents.to_dataframe(events).head(2)"
   ]
  },
  {
   "cell_type": "markdown",
   "id": "7c041dd5-5e21-49b0-a7e9-7588a01fcdfd",
   "metadata": {},
   "source": [
    "### Extract Burn Events"
   ]
  },
  {
   "cell_type": "code",
   "execution_count": 22,
   "id": "d7745660-18e9-4db4-95d4-25d4a389f998",
   "metadata": {},
   "outputs": [],
   "source": [
    "rEvents = RetrieveEvents(connect, abi)\n",
    "last_block = rEvents.latest_block()\n",
    "start_block = last_block - 1000"
   ]
  },
  {
   "cell_type": "code",
   "execution_count": 23,
   "id": "96aa0b81-0906-4410-949f-7485dc0f903c",
   "metadata": {},
   "outputs": [
    {
     "data": {
      "text/html": [
       "<div>\n",
       "<style scoped>\n",
       "    .dataframe tbody tr th:only-of-type {\n",
       "        vertical-align: middle;\n",
       "    }\n",
       "\n",
       "    .dataframe tbody tr th {\n",
       "        vertical-align: top;\n",
       "    }\n",
       "\n",
       "    .dataframe thead th {\n",
       "        text-align: right;\n",
       "    }\n",
       "</style>\n",
       "<table border=\"1\" class=\"dataframe\">\n",
       "  <thead>\n",
       "    <tr style=\"text-align: right;\">\n",
       "      <th></th>\n",
       "      <th>blockNumber</th>\n",
       "      <th>event</th>\n",
       "      <th>address</th>\n",
       "      <th>blockHash</th>\n",
       "      <th>logIndex</th>\n",
       "      <th>transactionHash</th>\n",
       "      <th>transactionIndex</th>\n",
       "      <th>args</th>\n",
       "    </tr>\n",
       "  </thead>\n",
       "  <tbody>\n",
       "    <tr>\n",
       "      <th>0</th>\n",
       "      <td>23464722</td>\n",
       "      <td>Burn</td>\n",
       "      <td>0x8ad599c3A0ff1De082011EFDDc58f1908eb6e6D8</td>\n",
       "      <td>0x4b1ff3fb22d29c37213207bb5bc41790beb022667a3c...</td>\n",
       "      <td>103</td>\n",
       "      <td>0x25e1c38c28d31049e4c186a8495bd32e1091edc76182...</td>\n",
       "      <td>32</td>\n",
       "      <td>{'owner': '0xC36442b4a4522E871399CD717aBDD847A...</td>\n",
       "    </tr>\n",
       "    <tr>\n",
       "      <th>1</th>\n",
       "      <td>23464753</td>\n",
       "      <td>Burn</td>\n",
       "      <td>0x8ad599c3A0ff1De082011EFDDc58f1908eb6e6D8</td>\n",
       "      <td>0xa3d9db942f44447cb9cdda442b3f3ddc094fa1e65695...</td>\n",
       "      <td>87</td>\n",
       "      <td>0x66c54efa2b7395a1332c4e8eceb4b9fd45ca3182ad72...</td>\n",
       "      <td>29</td>\n",
       "      <td>{'owner': '0xC36442b4a4522E871399CD717aBDD847A...</td>\n",
       "    </tr>\n",
       "  </tbody>\n",
       "</table>\n",
       "</div>"
      ],
      "text/plain": [
       "   blockNumber event                                     address  \\\n",
       "0     23464722  Burn  0x8ad599c3A0ff1De082011EFDDc58f1908eb6e6D8   \n",
       "1     23464753  Burn  0x8ad599c3A0ff1De082011EFDDc58f1908eb6e6D8   \n",
       "\n",
       "                                           blockHash  logIndex  \\\n",
       "0  0x4b1ff3fb22d29c37213207bb5bc41790beb022667a3c...       103   \n",
       "1  0xa3d9db942f44447cb9cdda442b3f3ddc094fa1e65695...        87   \n",
       "\n",
       "                                     transactionHash  transactionIndex  \\\n",
       "0  0x25e1c38c28d31049e4c186a8495bd32e1091edc76182...                32   \n",
       "1  0x66c54efa2b7395a1332c4e8eceb4b9fd45ca3182ad72...                29   \n",
       "\n",
       "                                                args  \n",
       "0  {'owner': '0xC36442b4a4522E871399CD717aBDD847A...  \n",
       "1  {'owner': '0xC36442b4a4522E871399CD717aBDD847A...  "
      ]
     },
     "execution_count": 23,
     "metadata": {},
     "output_type": "execute_result"
    }
   ],
   "source": [
    "events = rEvents.apply(EventType.BURN, address = PAIR_ADDRESS_UNIV3, start_block=start_block, end_block=last_block)\n",
    "rEvents.to_dataframe(events).head(2)"
   ]
  }
 ],
 "metadata": {
  "kernelspec": {
   "display_name": "Python 3 (ipykernel)",
   "language": "python",
   "name": "python3"
  },
  "language_info": {
   "codemirror_mode": {
    "name": "ipython",
    "version": 3
   },
   "file_extension": ".py",
   "mimetype": "text/x-python",
   "name": "python",
   "nbconvert_exporter": "python",
   "pygments_lexer": "ipython3",
   "version": "3.10.0rc2"
  }
 },
 "nbformat": 4,
 "nbformat_minor": 5
}
