{
 "cells": [
  {
   "cell_type": "markdown",
   "id": "8ee9b46b-75c6-4f77-b113-98766534604c",
   "metadata": {},
   "source": [
    "# Abstract Interface (V3)\n",
    "\n",
    "* 📘 **Join**: joins X and Y amounts to pool \n",
    "* 📘 **Swap**: swaps X for Y (and vice verse) \n",
    "* 📘 **AddLiquidity**: double-sided deposit; adds liquidity using only X or Y amounts \n",
    "* 📘 **RemoveLiquidity**: double-sided withdrawal; removes liquidity using only X or Y amounts \n",
    "* 📘 **SwapDeposit**: single-sided deposit; deposit exact x or y by coming to pool with just one token from trading pair to make a deposit \n",
    "* 📘 **WithdrawSwap**: single-sided withdrawal; withdraw exact x or y by leaving pool with desired token from trading pair\n",
    "* 📘 **LPQuote**: Quote liquidity pool, via either: (a) token price; (b) LP token amount to token amount; or (c) token amount to LP token amount\n",
    "\n",
    "To download notebook to this tutorial, see [here](https://github.com/defipy-devs/uniswappy/blob/main/notebooks/tutorials/uniswap_v3.ipynb) "
   ]
  },
  {
   "cell_type": "code",
   "execution_count": 19,
   "id": "440f92b5-615b-4550-83d6-a3e8c2875184",
   "metadata": {},
   "outputs": [],
   "source": [
    "from defipy import *"
   ]
  },
  {
   "cell_type": "code",
   "execution_count": 20,
   "id": "1e68a541-b6c0-4733-949d-d6ac123f2b72",
   "metadata": {},
   "outputs": [],
   "source": [
    "user_nm = 'user0'\n",
    "eth_amount = 1000\n",
    "tkn_amount = 100000\n",
    "\n",
    "fee = UniV3Utils.FeeAmount.MEDIUM\n",
    "tick_spacing = UniV3Utils.TICK_SPACINGS[fee]\n",
    "lwr_tick = UniV3Utils.getMinTick(tick_spacing)\n",
    "upr_tick = UniV3Utils.getMaxTick(tick_spacing)"
   ]
  },
  {
   "cell_type": "markdown",
   "id": "a8174d88-cd4e-43ff-8be0-bc43f678eb9b",
   "metadata": {},
   "source": [
    "### 📘 Join\n",
    "\n",
    "* **Class**: 📘 ``defipy.process.Join`` \n",
    "    * **Purpose**: Simplifies initial liquidity addition to Uniswap V3 pools.\n",
    "    * **Methods**:\n",
    "        * ``apply(pool, user: str, amount0: float, amount1: float)``\n",
    "            * **Parameters**:\n",
    "                * ``pool``: Pool instance (e.g., created via Primitive Interface).\n",
    "                * ``user``: User address.\n",
    "                * ``amount0``: Amount of token0.\n",
    "                * ``amount1``: Amount of token1.\n",
    "                * ``lwr_tick``: Lower tick of the position.\n",
    "                * ``upr_tick``: Upper tick of the position.\n",
    "    * **Output**: Liquidity added to the pool."
   ]
  },
  {
   "cell_type": "code",
   "execution_count": 21,
   "id": "1e5f4597-be69-4eec-ac30-ddbd812b3df0",
   "metadata": {},
   "outputs": [
    {
     "name": "stdout",
     "output_type": "stream",
     "text": [
      "Exchange ETH-TKN (LP)\n",
      "Real Reserves:   ETH = 1000.0, TKN = 100000.0\n",
      "Gross Liquidity: 10000.0 \n",
      "\n"
     ]
    }
   ],
   "source": [
    "eth = ERC20(\"ETH\", \"0x09\")\n",
    "tkn = ERC20(\"TKN\", \"0x111\")\n",
    "\n",
    "exchg_data = UniswapExchangeData(tkn0 = eth, tkn1 = tkn, symbol=\"LP\", \n",
    "                                   address=\"0x011\", version = 'V3', \n",
    "                                   tick_spacing = tick_spacing, \n",
    "                                   fee = fee)\n",
    "\n",
    "factory = UniswapFactory(\"ETH pool factory\", \"0x2\")\n",
    "lp = factory.deploy(exchg_data)\n",
    "\n",
    "Join().apply(lp, user_nm, eth_amount, tkn_amount, lwr_tick, upr_tick)\n",
    "lp.summary()"
   ]
  },
  {
   "cell_type": "markdown",
   "id": "4d1a3d37-a5b7-42c9-84f6-35a049bf4826",
   "metadata": {},
   "source": [
    "### 📘 Swap\n",
    "\n",
    "* **Class**: 📘 ``defipy.process.Swap`` \n",
    "    * **Purpose**: Facilitates token swaps on Uniswap V3 pools with slippage tolerance and deadline control.\n",
    "    * **Methods**:\n",
    "        * ``apply(pool, token_in: ERC20, user: str, amount_in: float)``\n",
    "            * **Parameters**:\n",
    "                * ``pool``: Pool instance to perform the swap on.\n",
    "                * ``token_in``: ERC20 token to swap from.\n",
    "                * ``user``: User address (string) executing the swap.\n",
    "                * ``amount_in``: Amount of `token_in` to swap.\n",
    "        * **Output**: Executes the swap from `token_in` to `token_out` for the user"
   ]
  },
  {
   "cell_type": "code",
   "execution_count": 22,
   "id": "b1d1f2c2-a3c5-40dc-956b-bc6390fd7789",
   "metadata": {},
   "outputs": [
    {
     "name": "stdout",
     "output_type": "stream",
     "text": [
      "Exchange ETH-TKN (LP)\n",
      "Real Reserves:   ETH = 1000.0, TKN = 100000.0\n",
      "Gross Liquidity: 10000.0 \n",
      "\n",
      "Exchange ETH-TKN (LP)\n",
      "Real Reserves:   ETH = 990.1284196560293, TKN = 101000.0\n",
      "Gross Liquidity: 10000.0 \n",
      "\n"
     ]
    }
   ],
   "source": [
    "eth = ERC20(\"ETH\", \"0x09\")\n",
    "tkn = ERC20(\"TKN\", \"0x111\")\n",
    "\n",
    "exchg_data = UniswapExchangeData(tkn0 = eth, tkn1 = tkn, symbol=\"LP\", \n",
    "                                   address=\"0x011\", version = 'V3', \n",
    "                                   tick_spacing = tick_spacing, \n",
    "                                   fee = fee)\n",
    "\n",
    "factory = UniswapFactory(\"ETH pool factory\", \"0x2\")\n",
    "lp = factory.deploy(exchg_data)\n",
    "\n",
    "Join().apply(lp, user_nm, eth_amount, tkn_amount, lwr_tick, upr_tick)\n",
    "lp.summary()\n",
    "\n",
    "Swap().apply(lp, tkn, user_nm, 1000)\n",
    "lp.summary()"
   ]
  },
  {
   "cell_type": "markdown",
   "id": "865bc323-fd14-42b5-9cfd-26d923a39f23",
   "metadata": {},
   "source": [
    "**Swap: tkn1 for tkn0**"
   ]
  },
  {
   "cell_type": "code",
   "execution_count": 23,
   "id": "901298ea-eb06-479d-b05f-711da5d80331",
   "metadata": {},
   "outputs": [
    {
     "name": "stdout",
     "output_type": "stream",
     "text": [
      "Exchange ETH-TKN (LP)\n",
      "Real Reserves:   ETH = 1000.0, TKN = 100000.0\n",
      "Gross Liquidity: 10000.0 \n",
      "\n",
      "Exchange ETH-TKN (LP)\n",
      "Real Reserves:   ETH = 1010.0, TKN = 99012.84196560294\n",
      "Gross Liquidity: 10000.0 \n",
      "\n"
     ]
    }
   ],
   "source": [
    "eth = ERC20(\"ETH\", \"0x09\")\n",
    "tkn = ERC20(\"TKN\", \"0x111\")\n",
    "\n",
    "exchg_data = UniswapExchangeData(tkn0 = eth, tkn1 = tkn, symbol=\"LP\", \n",
    "                                   address=\"0x011\", version = 'V3', \n",
    "                                   tick_spacing = tick_spacing, \n",
    "                                   fee = fee)\n",
    "\n",
    "factory = UniswapFactory(\"ETH pool factory\", \"0x2\")\n",
    "lp = factory.deploy(exchg_data)\n",
    "\n",
    "Join().apply(lp, user_nm, eth_amount, tkn_amount, lwr_tick, upr_tick)\n",
    "lp.summary()\n",
    "\n",
    "Swap().apply(lp, eth, user_nm, 10)\n",
    "lp.summary()"
   ]
  },
  {
   "cell_type": "markdown",
   "id": "1f6e9045-2637-4a29-8577-95d07ba9343e",
   "metadata": {},
   "source": [
    "### 📘 AddLiquidity\n",
    "\n",
    "* **Class**: 📘 ``defipy.process.AddLiquidity`` \n",
    "    * **Purpose**: Double-sided deposit; adds liquidity to existing Uniswap V3 pools, handling token amounts and liquidity tokens minting; input one token amount and the other token amount is calculated\n",
    "    * **Methods**:\n",
    "        * ``apply(pool, token_in: ERC20, user: str, amount_in: float)``\n",
    "            * **Parameters**:\n",
    "                * ``pool``: Pool instance to perform token addition.\n",
    "                * ``user``: ERC20 token to add.\n",
    "                * ``user``: User address (string) providing liquidity.\n",
    "                * ``amount_in``: Amount of `token_in` to add; the other token amount is calculated\n",
    "                * ``lwr_tick``: Lower tick of the position.\n",
    "                * ``upr_tick``: Upper tick of the position.\n",
    "        * **Output**: Adds the specified token amounts to the pool and mints liquidity tokens to the user."
   ]
  },
  {
   "cell_type": "code",
   "execution_count": 24,
   "id": "1fd83152-c93e-491d-89bf-e780ba079dd5",
   "metadata": {},
   "outputs": [
    {
     "name": "stdout",
     "output_type": "stream",
     "text": [
      "Exchange ETH-TKN (LP)\n",
      "Real Reserves:   ETH = 1000.0, TKN = 100000.0\n",
      "Gross Liquidity: 10000.0 \n",
      "\n",
      "Exchange ETH-TKN (LP)\n",
      "Real Reserves:   ETH = 1010.0, TKN = 101000.0\n",
      "Gross Liquidity: 10100.0 \n",
      "\n"
     ]
    }
   ],
   "source": [
    "eth = ERC20(\"ETH\", \"0x09\")\n",
    "tkn = ERC20(\"TKN\", \"0x111\")\n",
    "\n",
    "exchg_data = UniswapExchangeData(tkn0 = eth, tkn1 = tkn, symbol=\"LP\", \n",
    "                                   address=\"0x011\", version = 'V3', \n",
    "                                   tick_spacing = tick_spacing, \n",
    "                                   fee = fee)\n",
    "\n",
    "factory = UniswapFactory(\"ETH pool factory\", \"0x2\")\n",
    "lp = factory.deploy(exchg_data)\n",
    "\n",
    "Join().apply(lp, user_nm, eth_amount, tkn_amount, lwr_tick, upr_tick)\n",
    "lp.summary()\n",
    "\n",
    "AddLiquidity().apply(lp, tkn, user_nm, 1000, lwr_tick, upr_tick)\n",
    "lp.summary()"
   ]
  },
  {
   "cell_type": "markdown",
   "id": "7667ae3b-93a9-4253-948e-27653c7852bf",
   "metadata": {},
   "source": [
    "**Add: tkn0 and determine tkn1**"
   ]
  },
  {
   "cell_type": "code",
   "execution_count": 25,
   "id": "f65c0db1-f95f-4274-930f-e2633066605c",
   "metadata": {},
   "outputs": [
    {
     "name": "stdout",
     "output_type": "stream",
     "text": [
      "Exchange ETH-TKN (LP)\n",
      "Real Reserves:   ETH = 1000.0, TKN = 100000.0\n",
      "Gross Liquidity: 10000.0 \n",
      "\n",
      "Exchange ETH-TKN (LP)\n",
      "Real Reserves:   ETH = 1100.0, TKN = 110000.0\n",
      "Gross Liquidity: 11000.0 \n",
      "\n"
     ]
    }
   ],
   "source": [
    "eth = ERC20(\"ETH\", \"0x09\")\n",
    "tkn = ERC20(\"TKN\", \"0x111\")\n",
    "\n",
    "exchg_data = UniswapExchangeData(tkn0 = eth, tkn1 = tkn, symbol=\"LP\", \n",
    "                                   address=\"0x011\", version = 'V3', \n",
    "                                   tick_spacing = tick_spacing, \n",
    "                                   fee = fee)\n",
    "\n",
    "factory = UniswapFactory(\"ETH pool factory\", \"0x2\")\n",
    "lp = factory.deploy(exchg_data)\n",
    "\n",
    "Join().apply(lp, user_nm, eth_amount, tkn_amount, lwr_tick, upr_tick)\n",
    "lp.summary()\n",
    "\n",
    "AddLiquidity().apply(lp, eth, user_nm, 100, lwr_tick, upr_tick)\n",
    "lp.summary()"
   ]
  },
  {
   "cell_type": "markdown",
   "id": "a05d867f-0e2b-43dc-9a22-23b650290c74",
   "metadata": {},
   "source": [
    "### 📘 RemoveLiquidity\n",
    "\n",
    "* **Class**: 📘 ``defipy.process.RemoveLiquidity`` \n",
    "    * **Purpose**: Double-sided withdraw; removes liquidity from Uniswap V3 pools, returning underlying tokens to the user; input one token amount and the other token amount is calculated\n",
    "    * **Methods**:\n",
    "        * ``apply(pool, token_out: ERC20, user: str, amount_out: float)``\n",
    "            * **Parameters**:\n",
    "                * ``pool``: Pool instance to perform token removal.\n",
    "                * ``token_out``: ERC20 token to remove.\n",
    "                * ``user``: User address (string) withdrawing liquidity.\n",
    "                * ``amount_out``: Amount of `token_out` to remove; the other token amount is calculated\n",
    "                * ``lwr_tick``: Lower tick of the position.\n",
    "                * ``upr_tick``: Upper tick of the position.\n",
    "        * **Output**: Removes the specified liquidity tokens and transfers the corresponding amounts of underlying tokens back to the user."
   ]
  },
  {
   "cell_type": "code",
   "execution_count": 26,
   "id": "2300eb80-153d-4538-a6f8-dd34839f42c2",
   "metadata": {},
   "outputs": [
    {
     "name": "stdout",
     "output_type": "stream",
     "text": [
      "Exchange ETH-TKN (LP)\n",
      "Real Reserves:   ETH = 1000.0, TKN = 100000.0\n",
      "Gross Liquidity: 10000.0 \n",
      "\n",
      "Exchange ETH-TKN (LP)\n",
      "Real Reserves:   ETH = 990.0, TKN = 99000.0\n",
      "Gross Liquidity: 9900.0 \n",
      "\n"
     ]
    }
   ],
   "source": [
    "eth = ERC20(\"ETH\", \"0x09\")\n",
    "tkn = ERC20(\"TKN\", \"0x111\")\n",
    "\n",
    "exchg_data = UniswapExchangeData(tkn0 = eth, tkn1 = tkn, symbol=\"LP\", \n",
    "                                   address=\"0x011\", version = 'V3', \n",
    "                                   tick_spacing = tick_spacing, \n",
    "                                   fee = fee)\n",
    "\n",
    "factory = UniswapFactory(\"ETH pool factory\", \"0x2\")\n",
    "lp = factory.deploy(exchg_data)\n",
    "\n",
    "Join().apply(lp, user_nm, eth_amount, tkn_amount, lwr_tick, upr_tick)\n",
    "lp.summary()\n",
    "\n",
    "RemoveLiquidity().apply(lp, tkn, user_nm, 1000, lwr_tick, upr_tick)\n",
    "lp.summary()"
   ]
  },
  {
   "cell_type": "markdown",
   "id": "33e01ddc-4751-4db3-95c3-0f4b76286cdf",
   "metadata": {},
   "source": [
    "**Remove: tkn0 and determine tkn1**"
   ]
  },
  {
   "cell_type": "code",
   "execution_count": 27,
   "id": "5cdf6d7b-049d-42cc-b815-ba5978112c83",
   "metadata": {},
   "outputs": [
    {
     "name": "stdout",
     "output_type": "stream",
     "text": [
      "Exchange ETH-TKN (LP)\n",
      "Real Reserves:   ETH = 1000.0, TKN = 100000.0\n",
      "Gross Liquidity: 10000.0 \n",
      "\n",
      "Exchange ETH-TKN (LP)\n",
      "Real Reserves:   ETH = 990.0, TKN = 99000.0\n",
      "Gross Liquidity: 9900.0 \n",
      "\n"
     ]
    }
   ],
   "source": [
    "eth = ERC20(\"ETH\", \"0x09\")\n",
    "tkn = ERC20(\"TKN\", \"0x111\")\n",
    "\n",
    "exchg_data = UniswapExchangeData(tkn0 = eth, tkn1 = tkn, symbol=\"LP\", \n",
    "                                   address=\"0x011\", version = 'V3', \n",
    "                                   tick_spacing = tick_spacing, \n",
    "                                   fee = fee)\n",
    "\n",
    "factory = UniswapFactory(\"ETH pool factory\", \"0x2\")\n",
    "lp = factory.deploy(exchg_data)\n",
    "\n",
    "Join().apply(lp, user_nm, eth_amount, tkn_amount, lwr_tick, upr_tick)\n",
    "lp.summary()\n",
    "\n",
    "RemoveLiquidity().apply(lp, eth, user_nm, 10, lwr_tick, upr_tick)\n",
    "lp.summary()"
   ]
  },
  {
   "cell_type": "markdown",
   "id": "a244262b-a3d9-4096-9fdc-73d964c59c4d",
   "metadata": {},
   "source": [
    "### 📘 SwapDeposit\n",
    "\n",
    "* **Class**: 📘 ``uniswappy.process.SwapDeposit`` \n",
    "    * **Purpose**: Single-sided deposit; combines token swapping and liquidity deposit into a single operation on Uniswap V3 pools.\n",
    "    * **Methods**:\n",
    "        * ``apply(pool, token_in: ERC20, user: str, amount_in: float)``\n",
    "            * **Parameters**:\n",
    "                * `pool`: Pool instance from which liquidity will be removed.\n",
    "                * `token_in`: ERC20 object of the token to remove from.\n",
    "                * `user`: User address (string) withdrawing liquidity.\n",
    "                * `amount_in`: Amount of token to swap in.\n",
    "                * ``lwr_tick``: Lower tick of the position.\n",
    "                * ``upr_tick``: Upper tick of the position.\n",
    "        * **Output**: Executes the swap of `token_in` and deposits the specified amounts of token0 and token1 into the pool as liquidity for the user."
   ]
  },
  {
   "cell_type": "code",
   "execution_count": 28,
   "id": "dd65eee3-b8d0-4b83-8c04-cf99ea55fcc4",
   "metadata": {},
   "outputs": [
    {
     "name": "stdout",
     "output_type": "stream",
     "text": [
      "Exchange ETH-TKN (LP)\n",
      "Real Reserves:   ETH = 1000.0, TKN = 100000.0\n",
      "Gross Liquidity: 10000.0 \n",
      "\n",
      "Exchange ETH-TKN (LP)\n",
      "Real Reserves:   ETH = 1000.0, TKN = 100100.00000001659\n",
      "Gross Liquidity: 10004.991244978852 \n",
      "\n"
     ]
    }
   ],
   "source": [
    "eth = ERC20(\"ETH\", \"0x09\")\n",
    "tkn = ERC20(\"TKN\", \"0x111\")\n",
    "\n",
    "exchg_data = UniswapExchangeData(tkn0 = eth, tkn1 = tkn, symbol=\"LP\", \n",
    "                                   address=\"0x011\", version = 'V3', \n",
    "                                   tick_spacing = tick_spacing, \n",
    "                                   fee = fee)\n",
    "\n",
    "factory = UniswapFactory(\"ETH pool factory\", \"0x2\")\n",
    "lp = factory.deploy(exchg_data)\n",
    "\n",
    "Join().apply(lp, user_nm, eth_amount, tkn_amount, lwr_tick, upr_tick)\n",
    "lp.summary()\n",
    "\n",
    "SwapDeposit().apply(lp, tkn, user_nm, 100, lwr_tick, upr_tick)\n",
    "lp.summary() "
   ]
  },
  {
   "cell_type": "markdown",
   "id": "ab3beefc-0392-4ea4-a6f2-6151eda3ea5e",
   "metadata": {},
   "source": [
    "**Swap exact tkn0 for tkn1**\n",
    "\n",
    "* deposit desired token -> perform 50% swap ->  perform 50/50 deposit"
   ]
  },
  {
   "cell_type": "code",
   "execution_count": 29,
   "id": "e411ba09-3688-4998-94b4-c0453f4700d9",
   "metadata": {},
   "outputs": [
    {
     "name": "stdout",
     "output_type": "stream",
     "text": [
      "Exchange ETH-TKN (LP)\n",
      "Real Reserves:   ETH = 1000.0, TKN = 100000.0\n",
      "Gross Liquidity: 10000.0 \n",
      "\n",
      "Exchange ETH-TKN (LP)\n",
      "Real Reserves:   ETH = 1009.9999999867499, TKN = 100000.0\n",
      "Gross Liquidity: 10049.801066245287 \n",
      "\n"
     ]
    }
   ],
   "source": [
    "eth = ERC20(\"ETH\", \"0x09\")\n",
    "tkn = ERC20(\"TKN\", \"0x111\")\n",
    "\n",
    "exchg_data = UniswapExchangeData(tkn0 = eth, tkn1 = tkn, symbol=\"LP\", \n",
    "                                   address=\"0x011\", version = 'V3', \n",
    "                                   tick_spacing = tick_spacing, \n",
    "                                   fee = fee)\n",
    "\n",
    "factory = UniswapFactory(\"ETH pool factory\", \"0x2\")\n",
    "lp = factory.deploy(exchg_data)\n",
    "\n",
    "Join().apply(lp, user_nm, eth_amount, tkn_amount, lwr_tick, upr_tick)\n",
    "lp.summary()\n",
    "\n",
    "SwapDeposit().apply(lp, eth, user_nm, 10, lwr_tick, upr_tick)\n",
    "lp.summary() "
   ]
  },
  {
   "cell_type": "markdown",
   "id": "b28f8cfb-5073-4314-9341-17b30bde3886",
   "metadata": {},
   "source": [
    "### 📘 WithdrawSwap\n",
    "\n",
    "* **Class**: 📘 ``uniswappy.process.WithdrawSwap`` \n",
    "    * **Purpose**: Single-sided withdraw; facilitates withdrawing liquidity from a Uniswap V3 pool and swapping the withdrawn tokens into a desired token.\n",
    "    * **Methods**:\n",
    "        * ``apply(pool, token_in: ERC20, user: str, amount_in: float)``\n",
    "            * **Parameters**:\n",
    "                * `pool`: Pool instance from which liquidity will be removed.\n",
    "                * `token_in`: ERC20 object of the token to remove from.\n",
    "                * `user`: User address (string) withdrawing liquidity.\n",
    "                * `amount_in`:Amount of token to swap out.\n",
    "                * ``lwr_tick``: Lower tick of the position.\n",
    "                * ``upr_tick``: Upper tick of the position.\n",
    "        * **Output**: Removes liquidity from the pool, swaps the underlying tokens to `token_out`, and transfers the resulting tokens to the user, respecting slippage and deadline constraints."
   ]
  },
  {
   "cell_type": "code",
   "execution_count": 30,
   "id": "90fa05cd-f102-4ccc-bf7f-38cfb6d90fe6",
   "metadata": {},
   "outputs": [
    {
     "name": "stdout",
     "output_type": "stream",
     "text": [
      "Exchange ETH-TKN (LP)\n",
      "Real Reserves:   ETH = 1000.0, TKN = 100000.0\n",
      "Gross Liquidity: 10000.0 \n",
      "\n",
      "Exchange ETH-TKN (LP)\n",
      "Real Reserves:   ETH = 999.0000000000001, TKN = 100000.0\n",
      "Gross Liquidity: 9994.991239989282 \n",
      "\n"
     ]
    }
   ],
   "source": [
    "eth = ERC20(\"ETH\", \"0x09\")\n",
    "tkn = ERC20(\"TKN\", \"0x111\")\n",
    "\n",
    "exchg_data = UniswapExchangeData(tkn0 = eth, tkn1 = tkn, symbol=\"LP\", \n",
    "                                   address=\"0x011\", version = 'V3', \n",
    "                                   tick_spacing = tick_spacing, \n",
    "                                   fee = fee)\n",
    "\n",
    "factory = UniswapFactory(\"ETH pool factory\", \"0x2\")\n",
    "lp = factory.deploy(exchg_data)\n",
    "\n",
    "Join().apply(lp, user_nm, eth_amount, tkn_amount, lwr_tick, upr_tick)\n",
    "lp.summary()\n",
    "\n",
    "WithdrawSwap().apply(lp, eth, user_nm, 1, lwr_tick, upr_tick)\n",
    "lp.summary()"
   ]
  },
  {
   "cell_type": "markdown",
   "id": "2a60bf10-f474-4224-b02b-127dcd77b1d6",
   "metadata": {},
   "source": [
    "**Withdraw: exact tkn0**\n",
    "\n",
    "* withdraw LP based upon expected amount of tkn"
   ]
  },
  {
   "cell_type": "code",
   "execution_count": 31,
   "id": "e6f8a1eb-d1ea-45bd-a6fa-30f206f5c48b",
   "metadata": {},
   "outputs": [
    {
     "name": "stdout",
     "output_type": "stream",
     "text": [
      "Exchange ETH-TKN (LP)\n",
      "Real Reserves:   ETH = 1000.0, TKN = 100000.0\n",
      "Gross Liquidity: 10000.0 \n",
      "\n",
      "Exchange ETH-TKN (LP)\n",
      "Real Reserves:   ETH = 1000.0, TKN = 99900.00000000001\n",
      "Gross Liquidity: 9994.991239989282 \n",
      "\n"
     ]
    }
   ],
   "source": [
    "eth = ERC20(\"ETH\", \"0x09\")\n",
    "tkn = ERC20(\"TKN\", \"0x111\")\n",
    "\n",
    "exchg_data = UniswapExchangeData(tkn0 = eth, tkn1 = tkn, symbol=\"LP\", \n",
    "                                   address=\"0x011\", version = 'V3', \n",
    "                                   tick_spacing = tick_spacing, \n",
    "                                   fee = fee)\n",
    "\n",
    "factory = UniswapFactory(\"ETH pool factory\", \"0x2\")\n",
    "lp = factory.deploy(exchg_data)\n",
    "\n",
    "Join().apply(lp, user_nm, eth_amount, tkn_amount, lwr_tick, upr_tick)\n",
    "lp.summary()\n",
    "\n",
    "expected_amount_out = WithdrawSwap().apply(lp, tkn, user_nm, 100,lwr_tick, upr_tick)\n",
    "lp.summary()"
   ]
  },
  {
   "cell_type": "markdown",
   "id": "83558212-5037-4c8d-9207-949d928337db",
   "metadata": {},
   "source": [
    "### 📘 LPQuote\n",
    "\n",
    "* **Class**: 📘 ``defipy.cpt.index.LPQuote`` \n",
    "    * **Purpose**: Liquidity pool token quotes (ie, price, reserve and liquidity).\n",
    "    * **Methods**:\n",
    "        * ``get_price(pool, token_in: ERC20)``\n",
    "        * ``get_amount(pool, token_in: ERC20, amount_tkn: float, lwr_tick: int, upr_tick: int)``\n",
    "        * ``get_amount_from_lp(pool, token_in: ERC20, amount_lp: float, lwr_tick: int, upr_tick: int)``\n",
    "        * ``get_lp_from_amount(pool, token_in: ERC20, amount_tkn: float, lwr_tick: int, upr_tick: int)``"
   ]
  },
  {
   "cell_type": "code",
   "execution_count": 32,
   "id": "a839c2b8-d991-45eb-b8b3-5431c2c5077d",
   "metadata": {},
   "outputs": [
    {
     "name": "stdout",
     "output_type": "stream",
     "text": [
      "Exchange ETH-TKN (LP)\n",
      "Real Reserves:   ETH = 1000.0, TKN = 100000.0\n",
      "Gross Liquidity: 10000.0 \n",
      "\n"
     ]
    }
   ],
   "source": [
    "eth = ERC20(\"ETH\", \"0x09\")\n",
    "tkn = ERC20(\"TKN\", \"0x111\")\n",
    "\n",
    "exchg_data = UniswapExchangeData(tkn0 = eth, tkn1 = tkn, symbol=\"LP\", \n",
    "                                   address=\"0x011\", version = 'V3', \n",
    "                                   tick_spacing = tick_spacing, \n",
    "                                   fee = fee)\n",
    "\n",
    "factory = UniswapFactory(\"ETH pool factory\", \"0x2\")\n",
    "lp = factory.deploy(exchg_data)\n",
    "\n",
    "Join().apply(lp, user_nm, eth_amount, tkn_amount, lwr_tick, upr_tick)\n",
    "lp.summary()"
   ]
  },
  {
   "cell_type": "markdown",
   "id": "ef53fe36-583a-4c03-9a13-1ffe86b8981f",
   "metadata": {},
   "source": [
    "Retrieve LP prices"
   ]
  },
  {
   "cell_type": "code",
   "execution_count": 33,
   "id": "803aad80-517e-4864-8ae5-3f1db7505145",
   "metadata": {},
   "outputs": [
    {
     "name": "stdout",
     "output_type": "stream",
     "text": [
      "The price of ETH in TKN is 100.0\n",
      "The price of TKN in ETH is 0.01\n"
     ]
    }
   ],
   "source": [
    "p_eth = LPQuote().get_price(lp, eth)\n",
    "p_tkn = LPQuote().get_price(lp, tkn)\n",
    "print(f'The price of {eth.token_name} in {tkn.token_name} is {p_eth}') \n",
    "print(f'The price of {tkn.token_name} in {eth.token_name} is {p_tkn}') "
   ]
  },
  {
   "cell_type": "markdown",
   "id": "48749026-6829-4921-b6eb-8e14956bcbea",
   "metadata": {},
   "source": [
    "Retrieve token settlement amount given opposing token amount"
   ]
  },
  {
   "cell_type": "code",
   "execution_count": 34,
   "id": "1b273451-2328-4f03-8eff-604edb5d9c2e",
   "metadata": {},
   "outputs": [
    {
     "name": "stdout",
     "output_type": "stream",
     "text": [
      "1 ETH token is worth 0.009969900600093062 TKN\n",
      "1 TKN token is worth 99.60069810398764 ETH\n"
     ]
    }
   ],
   "source": [
    "amt_eth = LPQuote().get_amount(lp, eth, 1, lwr_tick, upr_tick)\n",
    "amt_tkn = LPQuote().get_amount(lp, tkn, 1, lwr_tick, upr_tick)\n",
    "print(f'1 {eth.token_name} token is worth {amt_tkn} {tkn.token_name}')\n",
    "print(f'1 {tkn.token_name} token is worth {amt_eth} {eth.token_name}')"
   ]
  },
  {
   "cell_type": "markdown",
   "id": "47be2a5f-fc2d-46b1-a0a9-8cec412dd687",
   "metadata": {},
   "source": [
    "Retrieve rebased token settlement amount given amount of LP token"
   ]
  },
  {
   "cell_type": "code",
   "execution_count": 35,
   "id": "90770d2b-8cab-42fb-8ad3-835d4829c90e",
   "metadata": {},
   "outputs": [
    {
     "name": "stdout",
     "output_type": "stream",
     "text": [
      "1 LP token is worth 0.19969005990709154 ETH after swap fees\n",
      "1 LP token is worth 19.905136039497506 TKN after swap fees\n"
     ]
    }
   ],
   "source": [
    "amt_eth = LPQuote(False).get_amount_from_lp(lp, eth, 1, lwr_tick, upr_tick)\n",
    "amt_tkn = LPQuote().get_amount_from_lp(lp, eth, 1, lwr_tick, upr_tick)\n",
    "print(f'1 LP token is worth {amt_eth} {eth.token_name} after swap fees')\n",
    "print(f'1 LP token is worth {amt_tkn} {tkn.token_name} after swap fees')"
   ]
  },
  {
   "cell_type": "markdown",
   "id": "15ab4950-4763-4d47-aedc-8e8c2cfddec2",
   "metadata": {},
   "source": [
    "Retrieve LP token settlement amount given amount of asset token"
   ]
  },
  {
   "cell_type": "code",
   "execution_count": 36,
   "id": "3d1d3a8e-d23c-42a5-8c4f-80744f633aa7",
   "metadata": {},
   "outputs": [
    {
     "name": "stdout",
     "output_type": "stream",
     "text": [
      "1 ETH token is worth 5.008760010717809 LP tokens\n",
      "1 TKN token is worth 0.05007523748208768 LP tokens\n"
     ]
    }
   ],
   "source": [
    "amt_eth_lp = LPQuote(False).get_lp_from_amount(lp, eth, 1, lwr_tick, upr_tick)\n",
    "amt_tkn_lp = LPQuote(False).get_lp_from_amount(lp, tkn, 1, lwr_tick, upr_tick)\n",
    "print(f'1 {eth.token_name} token is worth {amt_eth_lp} LP tokens')\n",
    "print(f'1 {tkn.token_name} token is worth {amt_tkn_lp} LP tokens')"
   ]
  }
 ],
 "metadata": {
  "kernelspec": {
   "display_name": "py3",
   "language": "python",
   "name": "py3"
  },
  "language_info": {
   "codemirror_mode": {
    "name": "ipython",
    "version": 3
   },
   "file_extension": ".py",
   "mimetype": "text/x-python",
   "name": "python",
   "nbconvert_exporter": "python",
   "pygments_lexer": "ipython3",
   "version": "3.10.0rc2"
  }
 },
 "nbformat": 4,
 "nbformat_minor": 5
}
