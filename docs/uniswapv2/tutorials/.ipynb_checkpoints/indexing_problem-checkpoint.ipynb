{
 "cells": [
  {
   "cell_type": "markdown",
   "id": "e9f47450-2dfd-4ebb-ac70-49aa18375e80",
   "metadata": {},
   "source": [
    "# Indexing Problem\n",
    "\n",
    "To download notebook to this tutorial, see [here](https://github.com/defipy-devs/uniswappy/blob/main/notebooks/medium_articles/indexing_problem.ipynb) "
   ]
  },
  {
   "cell_type": "code",
   "execution_count": 16,
   "id": "21f896cf-e005-4a42-9f1c-6cfc129954c2",
   "metadata": {},
   "outputs": [
    {
     "name": "stdout",
     "output_type": "stream",
     "text": [
      "Exchange ETH-DAI (LP)\n",
      "Reserves: ETH = 1000.0, DAI = 1000000.0\n",
      "Liquidity: 31622.776601683792 \n",
      "\n"
     ]
    }
   ],
   "source": [
    "from uniswappy import *\n",
    "\n",
    "user_nm = 'user_test'\n",
    "eth_amount = 1000\n",
    "dai_amount = 1000000\n",
    "\n",
    "dai = ERC20(\"DAI\", \"0x111\")\n",
    "eth = ERC20(\"ETH\", \"0x09\")\n",
    "exchg_data = UniswapExchangeData(tkn0 = eth, tkn1 = dai, symbol=\"LP\", address=\"0x011\")\n",
    "\n",
    "factory = UniswapFactory(\"ETH pool factory\", \"0x2\")\n",
    "lp = factory.deploy(exchg_data)\n",
    "lp.add_liquidity(user_nm, eth_amount, dai_amount, eth_amount, dai_amount)\n",
    "lp.summary()"
   ]
  },
  {
   "cell_type": "markdown",
   "id": "7517b93e-f2aa-4b94-a1f7-fc5276a8e5e7",
   "metadata": {},
   "source": [
    "#### Problem Defined\n",
    "\n",
    "* We have some liquidity token (dL), and want to know home much x or y its worth\n",
    "* Let's start with the **Naive approach** \n",
    "\n",
    "> $x = \\frac{L^2}{y}$\n",
    "\n",
    "> $\\frac{dx}{dL} = \\frac{2L}{y}$  \n",
    "\n",
    "Substitute ($y = \\frac{L^2}{x}$) into above\n",
    "\n",
    "> $\\frac{dx}{dL} = \\frac{2x}{L}$ \n",
    "\n",
    "Hence $\\Delta x $ approximates to:\n",
    "\n",
    "> $\\Delta x \\sim \\frac{2x \\Delta L }{L}$ \n",
    "\n",
    "Likewise $\\Delta L$ approximates to:\n",
    "\n",
    "> $\\Delta L \\sim \\frac{L \\Delta x }{2x}$ \n",
    "\n",
    "Logically, this works ok for small values of $\\Delta x$ and $\\Delta L$, so let's assume $\\Delta L$ is 1% of total supply "
   ]
  },
  {
   "cell_type": "code",
   "execution_count": 17,
   "id": "442ef8ed-0637-477a-84f7-1e0ad7651b4a",
   "metadata": {},
   "outputs": [
    {
     "name": "stdout",
     "output_type": "stream",
     "text": [
      "316.22777 LP token is worth 0.00000 ETH tokens using the Naive \n",
      "approach with 1% of LP\n"
     ]
    }
   ],
   "source": [
    "lp_position = 0.01*lp.get_liquidity() \n",
    "naive_approximation = 2*lp.get_reserve(eth)*lp_position/(lp.total_supply)\n",
    "\n",
    "print(f'{lp_position:.5f} LP token is worth {naive_approximation:.5f} ETH tokens using the Naive \\napproach with 1% of LP')"
   ]
  },
  {
   "cell_type": "markdown",
   "id": "4824b597-1900-48e6-85b6-66b4dcb9e8c5",
   "metadata": {},
   "source": [
    "However, not for large values; let's assume $\\Delta L$ is 100% of total supply "
   ]
  },
  {
   "cell_type": "code",
   "execution_count": 18,
   "id": "bfa52f97-22ef-42d0-b425-6bc15d688b7e",
   "metadata": {},
   "outputs": [
    {
     "name": "stdout",
     "output_type": "stream",
     "text": [
      "31622.77660 LP token is worth 0.00000 ETH tokens using the Naive approach with 100% of LP\n"
     ]
    }
   ],
   "source": [
    "lp_position = lp.get_liquidity() \n",
    "naive_approximation = 2*lp.get_reserve(eth)*lp_position/(lp.total_supply)\n",
    "\n",
    "print(f'{lp_position:.5f} LP token is worth {naive_approximation:.5f} ETH tokens using the Naive approach with 100% of LP')"
   ]
  },
  {
   "cell_type": "markdown",
   "id": "b5d4b572-d80f-4470-b7bd-7972305c55ed",
   "metadata": {},
   "source": [
    "2000 ETH is completely off, as there are only 1000 ETH in the pool!"
   ]
  },
  {
   "cell_type": "markdown",
   "id": "cdcbf8de-0792-4738-96f8-6b5bf0ad9d23",
   "metadata": {},
   "source": [
    "### Uniswap Indexing Problem\n",
    "\n",
    "We have a certain amount of LP token and want to know how much its worth in x or y \n",
    "\n",
    "<img src=\"./indexed_tkn.png\" alt=\"Alt Text\" width=\"300\"/>"
   ]
  },
  {
   "cell_type": "markdown",
   "id": "3e4aa35c-5ba3-4635-891c-effc51847238",
   "metadata": {},
   "source": [
    "Given the definition of **_constant product trading_** (CPT) as:\n",
    "\n",
    "> $(x-\\Delta x)(y - \\gamma\\Delta y) = L^2$\n",
    "\n",
    "where \n",
    "* $x$ -> reserve0 (r0)\n",
    "* $y$ -> reserve1 (r1)\n",
    "* $\\Delta x$ -> swap x (a0)\n",
    "* $\\Delta y$ -> swap y (a1)\n",
    "* $L$ -> total supply\n",
    "* $\\gamma$ -> fee $\\left(ie, \\frac{997}{1000} \\right)$\n",
    "\n",
    "We define the **_indexing problem_** via the following linear system of equations:\n",
    "\n",
    "> (Eq. 1) $\\Delta x = \\frac{\\Delta L x}{L}$\n",
    "\n",
    "> (Eq. 2) $\\Delta y  = \\frac{\\Delta L  y}{L}$\n",
    "\n",
    "> (Eq. 3) $\\Delta y_{(i)} = \\Delta y  + \\frac{\\gamma \\Delta x(y-\\Delta y)}{(x - \\Delta x) + \\gamma \\Delta x}$\n",
    "\n",
    "where \n",
    "\n",
    "* $\\Delta y_{(i)}$ -> indexed token\n",
    "* $\\Delta L$ -> liquidity deposit"
   ]
  },
  {
   "cell_type": "code",
   "execution_count": 19,
   "id": "fb306d8a-93d9-4145-9d58-f57961d3598e",
   "metadata": {},
   "outputs": [],
   "source": [
    "def calc_tkn_settlement(lp, token_in, dL):\n",
    "\n",
    "    if(token_in.token_name == lp.token1):\n",
    "        x = lp.reserve0\n",
    "        y = lp.reserve1\n",
    "    else: \n",
    "        x = lp.reserve1\n",
    "        y = lp.reserve0\n",
    "\n",
    "    L = lp.total_supply\n",
    "    a0 = dL*x/L\n",
    "    a1 = dL*y/L\n",
    "    gamma = 997/1000\n",
    "\n",
    "    dy1 = a1\n",
    "    dy2 = gamma*a0*(y - a1)/(x - a0 + gamma*a0)\n",
    "    itkn_amt = dy1 + dy2\n",
    "\n",
    "    return itkn_amt if itkn_amt > 0 else 0    "
   ]
  },
  {
   "cell_type": "code",
   "execution_count": 20,
   "id": "a671c78a-d660-48b7-afcc-2b6c40d9a4c9",
   "metadata": {},
   "outputs": [
    {
     "name": "stdout",
     "output_type": "stream",
     "text": [
      "1 LP token is worth 0.06315 ETH\n",
      "1 LP token is worth 63.15068 DAI\n"
     ]
    }
   ],
   "source": [
    "delta_L = 1\n",
    "delta_eth = calc_tkn_settlement(lp, eth, delta_L)\n",
    "delta_dai = calc_tkn_settlement(lp, dai, delta_L)\n",
    "print(f'1 LP token is worth {delta_eth:.5f} {eth.token_name}')\n",
    "print(f'1 LP token is worth {delta_dai:.5f} {dai.token_name}')"
   ]
  },
  {
   "cell_type": "markdown",
   "id": "3eb98c27-a899-4f3c-a64a-ddc399ba5d06",
   "metadata": {},
   "source": [
    "### Uniswap Settlement Problem\n",
    "\n",
    "We have x or y and want to know how much LP token it is worth\n",
    "\n",
    "<img src=\"./settlement_lp_tkn.png\" alt=\"Alt Text\" width=\"300\"/>"
   ]
  },
  {
   "cell_type": "markdown",
   "id": "6e5f242b-ddea-42c6-a042-80561b386ea7",
   "metadata": {},
   "source": [
    "Let's now address the problem; using the system of equations outlined in the **_indexing problem_**, Eq. 3 can be rearranged as:\n",
    "> $(\\Delta y_{(i)}x) - (\\Delta y_{(i)}\\Delta x) + (\\gamma \\Delta y_{(i)} \\Delta x) - (\\Delta y x) + (\\Delta y\\Delta x) - (\\gamma y\\Delta x) = 0$\n",
    "\n",
    "Plug Eq. 1 and Eq. 2 into above, and we get:\n",
    "> $(\\Delta y_{(i)} x) - (\\frac{\\Delta y_{(i)} \\Delta L x}{L}) + (\\frac{\\Delta y_{(i)} \\gamma \\Delta L x}{L}) - (\\frac{\\Delta L xy}{L}) + (\\frac{\\Delta L^2 xy}{L^2}) - (\\frac{\\Delta L \\gamma x y}{L}) = 0$\n",
    "\n",
    "The above equation gets reduced to the following quadratic:\n",
    "> $\\Delta L^2 \\left( \\frac{xy}{L^2} \\right) - \\Delta L \\left(\\frac{1000 \\Delta y_{(i)} x - 997\\Delta y_{(i)} x + 1000xy + 997 xy}{1000L} \\right) + \\Delta y_{(i)} x = 0$\n",
    "\n",
    "Now, solve for $\\Delta L$ using ```calc_lp_settlement``` "
   ]
  },
  {
   "cell_type": "code",
   "execution_count": 21,
   "id": "34fa8ad5-838e-4347-9866-488040545046",
   "metadata": {},
   "outputs": [],
   "source": [
    "import math\n",
    "\n",
    "def calc_lp_settlement(lp, token_in, itkn_amt):\n",
    "\n",
    "    if(token_in.token_name == lp.token1):\n",
    "        x = lp.reserve0\n",
    "        y = lp.reserve1\n",
    "    else: \n",
    "        x = lp.reserve1\n",
    "        y = lp.reserve0\n",
    "\n",
    "    L = lp.total_supply\n",
    "    gamma = 997\n",
    "\n",
    "    a1 = x*y/L\n",
    "    a2 = L\n",
    "    a = a1/a2\n",
    "    b = (1000*itkn_amt*x - itkn_amt*gamma*x + 1000*x*y + x*y*gamma)/(1000*L);\n",
    "    c = itkn_amt*x;\n",
    "\n",
    "    dL = (b*a2 - a2*math.sqrt(b*b - 4*a1*c/a2)) / (2*a1);\n",
    "    return dL"
   ]
  },
  {
   "cell_type": "code",
   "execution_count": 22,
   "id": "6bd16cab-a87c-419f-afde-978bf71d5db3",
   "metadata": {},
   "outputs": [
    {
     "name": "stdout",
     "output_type": "stream",
     "text": [
      "0.06315 ETH token is worth 0.00000 LP tokens\n",
      "63.15068 DAI token is worth 0.00000 LP tokens\n"
     ]
    }
   ],
   "source": [
    "print(f'{delta_eth:.5f} {eth.token_name} token is worth {calc_lp_settlement(lp, eth, delta_eth):.5f} LP tokens')\n",
    "print(f'{delta_dai:.5f} {dai.token_name} token is worth {calc_lp_settlement(lp, dai, delta_dai):.5f} LP tokens')"
   ]
  },
  {
   "cell_type": "markdown",
   "id": "3ab55cf2-ee92-4890-a586-43bc9d7a5519",
   "metadata": {},
   "source": [
    "#### Using UniswapPy\n",
    "* Use LPQuote and set quote_opposing = False"
   ]
  },
  {
   "cell_type": "code",
   "execution_count": 23,
   "id": "6437455f-f473-42cb-b648-e4a3e99f50db",
   "metadata": {},
   "outputs": [
    {
     "name": "stdout",
     "output_type": "stream",
     "text": [
      "1 LP token is worth 0.06315 ETH\n",
      "1 LP token is worth 63.14969 DAI\n"
     ]
    }
   ],
   "source": [
    "delta_eth = LPQuote(quote_opposing = False).get_amount_from_lp(lp, eth, 1)\n",
    "delta_dai = LPQuote(quote_opposing = False).get_amount_from_lp(lp, dai, 1)\n",
    "print(f'1 LP token is worth {delta_eth:.5f} {eth.token_name}')\n",
    "print(f'1 LP token is worth {delta_dai:.5f} {dai.token_name}')"
   ]
  },
  {
   "cell_type": "code",
   "execution_count": 24,
   "id": "b0d7a7b2-8181-44f4-9e47-a43d75bef9f0",
   "metadata": {},
   "outputs": [
    {
     "name": "stdout",
     "output_type": "stream",
     "text": [
      "0.06315 ETH token is worth 1.00000 LP tokens\n",
      "63.14969 DAI token is worth 1.00000 LP tokens\n"
     ]
    }
   ],
   "source": [
    "delta_eth_lp = LPQuote(quote_opposing = False).get_lp_from_amount(lp, eth, delta_eth)\n",
    "delta_dai_lp = LPQuote(quote_opposing = False).get_lp_from_amount(lp, dai, delta_dai)\n",
    "print(f'{delta_eth:.5f} {eth.token_name} token is worth {delta_eth_lp:.5f} LP tokens')\n",
    "print(f'{delta_dai:.5f} {dai.token_name} token is worth {delta_dai_lp:.5f} LP tokens')"
   ]
  },
  {
   "cell_type": "markdown",
   "id": "f48036fc-154b-414d-af48-deb811515d83",
   "metadata": {},
   "source": [
    "As we can see this quoting mechanisim is validated as we get back to the original 1 LP token for both assets"
   ]
  },
  {
   "cell_type": "markdown",
   "id": "1e986b91-af7c-4a83-b99b-336eb41ec269",
   "metadata": {},
   "source": [
    "#### Naive Approach\n",
    "\n",
    "Finally, let's see how Indexed approach sizes up against the Naive approach"
   ]
  },
  {
   "cell_type": "code",
   "execution_count": 25,
   "id": "3fd1075f-87b2-453e-8720-29c8fe7d6c22",
   "metadata": {},
   "outputs": [
    {
     "name": "stdout",
     "output_type": "stream",
     "text": [
      "316.23 LP token is worth 0.00 ETH tokens using the Naive approach with 1% of LP\n",
      "316.23 LP token is worth 19.87 ETH tokens using the Indexed approach with 1% of LP\n"
     ]
    }
   ],
   "source": [
    "lp_position = 0.01*lp.get_liquidity()\n",
    "naive_approximation = 2*lp.get_reserve(eth)*lp_position/(lp.total_supply)\n",
    "indexed_approach = LPQuote(quote_opposing = False).get_amount_from_lp(lp, eth, lp_position)\n",
    "\n",
    "print(f'{lp_position:.2f} LP token is worth {naive_approximation:.2f} ETH tokens using the Naive approach with 1% of LP')\n",
    "print(f'{lp_position:.2f} LP token is worth {indexed_approach:.2f} ETH tokens using the Indexed approach with 1% of LP')"
   ]
  },
  {
   "cell_type": "markdown",
   "id": "ebfbb123-00f0-4e73-802f-42ff4105ca66",
   "metadata": {},
   "source": [
    "#### Indexed Approach\n",
    "We can see that the Naive approximation is pretty close to our Indexed solution (with 1% LP); let's now try 100%"
   ]
  },
  {
   "cell_type": "code",
   "execution_count": 26,
   "id": "41b5b05f-fd42-43b9-a685-8a3fb7a9119c",
   "metadata": {},
   "outputs": [
    {
     "name": "stdout",
     "output_type": "stream",
     "text": [
      "31622.78 LP token is worth 0.00 ETH tokens using the Naive approach with 100% of LP\n",
      "31622.78 LP token is worth 1000.00 ETH tokens using the Indexed approach with 100% of LP\n"
     ]
    }
   ],
   "source": [
    "lp_position = lp.get_liquidity()\n",
    "naive_approximation = 2*lp.get_reserve(eth)*lp_position/(lp.total_supply)\n",
    "indexed_approach = LPQuote(quote_opposing = False).get_amount_from_lp(lp, eth, lp_position)\n",
    "\n",
    "print(f'{lp_position:.2f} LP token is worth {naive_approximation:.2f} ETH tokens using the Naive approach with 100% of LP')\n",
    "print(f'{lp_position:.2f} LP token is worth {indexed_approach:.2f} ETH tokens using the Indexed approach with 100% of LP')"
   ]
  },
  {
   "cell_type": "markdown",
   "id": "a2bed3bf-e0f7-4232-97dd-2d0e59572463",
   "metadata": {},
   "source": [
    "#### Final Check\n",
    "Excellent, we see that with our Indexed solution all 1000 ETH are accounted for using the indexed approach"
   ]
  },
  {
   "cell_type": "code",
   "execution_count": 27,
   "id": "27364bf3-b631-473a-99ea-43ac5743e0e7",
   "metadata": {},
   "outputs": [
    {
     "name": "stdout",
     "output_type": "stream",
     "text": [
      "Exchange ETH-DAI (LP)\n",
      "Reserves: ETH = 1000.0, DAI = 1000000.0\n",
      "Liquidity: 31622.776601683792 \n",
      "\n"
     ]
    }
   ],
   "source": [
    "dai = ERC20(\"DAI\", \"0x111\")\n",
    "eth = ERC20(\"ETH\", \"0x09\")\n",
    "exchg_data = UniswapExchangeData(tkn0 = eth, tkn1 = dai, symbol=\"LP\", address=\"0x011\")\n",
    "\n",
    "factory = UniswapFactory(\"ETH pool factory\", \"0x2\")\n",
    "lp = factory.deploy(exchg_data)\n",
    "lp.add_liquidity(user_nm, eth_amount, dai_amount, eth_amount, dai_amount)\n",
    "lp.summary()"
   ]
  },
  {
   "cell_type": "code",
   "execution_count": 28,
   "id": "37e88774-a696-4e63-9ece-b6fc44af88b3",
   "metadata": {},
   "outputs": [
    {
     "data": {
      "text/plain": [
       "0.0158351449592624"
      ]
     },
     "execution_count": 28,
     "metadata": {},
     "output_type": "execute_result"
    }
   ],
   "source": [
    "delta_dai_lp = LPQuote(quote_opposing = False).get_lp_from_amount(lp, dai, 1)\n",
    "delta_dai_lp"
   ]
  }
 ],
 "metadata": {
  "kernelspec": {
   "display_name": "py3",
   "language": "python",
   "name": "py3"
  },
  "language_info": {
   "codemirror_mode": {
    "name": "ipython",
    "version": 3
   },
   "file_extension": ".py",
   "mimetype": "text/x-python",
   "name": "python",
   "nbconvert_exporter": "python",
   "pygments_lexer": "ipython3",
   "version": "3.10.0rc2"
  }
 },
 "nbformat": 4,
 "nbformat_minor": 5
}
