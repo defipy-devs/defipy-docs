{
 "cells": [
  {
   "cell_type": "markdown",
   "id": "640ee2f8-da48-4540-820e-e031b66b025d",
   "metadata": {},
   "source": [
    "# Impermanent Loss Agent\n",
    "\n",
    "The `ImpermanentLossAgent` monitors a when value of investment falls below a certain threshold using ``UniswapImpLoss`` object. It integrates DeFiPy’s LPQuote for exits and Web3Scout’s event feeds for real-time updates, supporting off-chain testing and on-chain execution."
   ]
  },
  {
   "cell_type": "markdown",
   "id": "fa648be1-cd1a-415a-a48a-c3a41698f571",
   "metadata": {},
   "source": [
    "### 📘 Notable Classes\n",
    "\n",
    "---\n",
    "\n",
    "* **Class**: 📘 ``defipy.agents.config.ImpermanentLossConfig`` \n",
    "    * **Purpose**: Configuration for volume threshold agent.\n",
    "        * **Parameters**:\n",
    "            * `volume_threshold`: Volume threshold to check (`float`).\n",
    "            * `pool_address`: UniV2 pool address (`str`).\n",
    "            * `provider_url`: Provider URL (eg, infura.io)(`str`).\n",
    "            * `platform`: Platform where pool resides (eg, uniswap) (`str`).\n",
    "            * `abi_name`: ABI handle pointing to pool contract in JSON (eg, UniswapV2Pair) (`str`).\n",
    "\n",
    "---\n",
    "         \n",
    "* **Class**: 📘 ``defipy.agents.ImpermanentLossAgent`` \n",
    "    * **Purpose**: Reactive DeFi agent for determining price threshold.\n",
    "        * **Parameters**:\n",
    "            * `config`: Agent configuration parameters (`PriceThresholdConfig`).\n",
    "    * **Methods**:\n",
    "        * ``apply()``\n",
    "            * **Purpose**: Apply price threshold agent\n",
    "        * ``run_batch(lp: UniswapExchange, tkn: ERC20, user_nm: str, events: dict)``\n",
    "            * **Purpose**: Run AI price agent on batch data \n",
    "            * **Parameters**:\n",
    "                * `lp`: Swap token (`UniswapExchange`).  \n",
    "                * `tkn`: Swap token (`ERC20`).\n",
    "                * `user_nm`: Account name (`str`).\n",
    "                * `events`: Dictionary of sync events (`dict`).\n",
    "        * ``apply(lp: UniswapExchange, tkn: ERC20, user_nm: str, block_num: int)``\n",
    "            * **Purpose**: Apply TVL check\n",
    "            * **Parameters**:\n",
    "                * `lp`: Exchange (`UniswapExchange`).  \n",
    "                * `tkn`: Swap token (`ERC20`).\n",
    "                * `user_nm`: Account name (`str`).\n",
    "                * `block_num`: Block number (`int`).          \n",
    "        * ``check_condition(tkn: ERC20, threshold: float)``\n",
    "            * **Purpose**: Check if position is below threshold  \n",
    "            * **Parameters**:\n",
    "                * `tkn`: Swap token (`ERC20`).\n",
    "                * `threshold`: override config price threshold (optional) (`float`).\n",
    "        * ``get_current_position_value(tkn: ERC20)``\n",
    "            * **Purpose**: Check if TVL is below threshold  \n",
    "            * **Parameters**:\n",
    "                * `tkn`: Swap token (`ERC20`).\n",
    "        * ``take_mock_position(lp: UniswapExchange, tkn: ERC20, user_nm: str, amt: float)``\n",
    "            * **Purpose**: Check if TVL is below threshold  \n",
    "            * **Parameters**:\n",
    "                * `lp`: Exchange (`UniswapExchange`).  \n",
    "                * `tkn`: Swap token (`ERC20`).\n",
    "                * `user_nm`: Account name (`str`).\n",
    "                * `amt`: Mock token amount (`float`).\n",
    "        * ``withdraw_mock_position(lp: UniswapExchange, tkn: ERC20, user_nm: str, lp_amt: float)``\n",
    "            * **Purpose**: Check if TVL is below threshold  \n",
    "            * **Parameters**:\n",
    "                * `lp`: Exchange (`UniswapExchange`).  \n",
    "                * `tkn`: Swap token (`ERC20`).\n",
    "                * `user_nm`: Account name (`str`).\n",
    "                * `lp_amt`: Mock LP amount (`float`).\n",
    "        * ``update_mock_pool(lp: UniswapExchange, cur_block: int)``\n",
    "            * **Purpose**: Check if TVL is below threshold  \n",
    "            * **Parameters**:\n",
    "                * `lp`: Exchange (`UniswapExchange`).  \n",
    "                * `cur_block`: Current block number (`int`).\n",
    "        * ``prime_mock_pool(start_block: int, user_nm: str)``\n",
    "            * **Purpose**: Initialize off-chain pool using information in start_block\n",
    "            * **Parameters**:\n",
    "                * `start_block`: Start block (`int`).\n",
    "                * `user_nm`: Account name of mock off-chain pool (`str`).\n",
    "        * ``get_impermanent_loss()``\n",
    "            * **Purpose**: Getter function for impermanent loss of position measured in (%)\n",
    "        * ``def get_current_position_value()``\n",
    "            * **Purpose**: Getter function for current position value of investment\n",
    "        * ``get_w3()``\n",
    "            * **Purpose**: Getter function for web3.py connector object\n",
    "        * ``get_abi()``\n",
    "            * **Purpose**: Getter function for ABI json data\n",
    "        * ``get_contract_instance()``\n",
    "            * **Purpose**: Getter function for pool contract instance\n",
    "        * ``get_lp_data()``\n",
    "            * **Purpose**: Getter function for pool data associated with `pool_address` from config\n",
    "        * ``def get_iloss()``\n",
    "            * **Purpose**: Getter function for ImpLoss object.\n"
   ]
  },
  {
   "cell_type": "code",
   "execution_count": 1,
   "id": "c9438126-ac32-46ab-a891-84deac9a8610",
   "metadata": {},
   "outputs": [],
   "source": [
    "from defipy import *\n",
    "from web3scout import *"
   ]
  },
  {
   "cell_type": "code",
   "execution_count": 2,
   "id": "1a853524-ef68-4d73-b3da-e62a877f9728",
   "metadata": {},
   "outputs": [
    {
     "name": "stdout",
     "output_type": "stream",
     "text": [
      "Monitoring TVL changes @ pool address 0xB4e16d0168e52d35CaCD2c6185b44281Ec28C9Dc\n"
     ]
    }
   ],
   "source": [
    "il_threshold = 99.70\n",
    "pair_address = \"0xB4e16d0168e52d35CaCD2c6185b44281Ec28C9Dc\"\n",
    "provider_url = \"https://mainnet.infura.io/v3/xxxxxxxxxxxxx\"\n",
    "platform = Platform.AGNOSTIC\n",
    "abi_name = JSONContract.UniswapV2Pair\n",
    "user_position = 100\n",
    "exit_percentage = 5\n",
    "\n",
    "config = ImpermanentLossConfig(\n",
    "    il_threshold = il_threshold,\n",
    "    pool_address = pair_address,\n",
    "    provider_url = provider_url,\n",
    "    platform = platform,\n",
    "    abi_name = abi_name,\n",
    "    user_position = user_position,\n",
    "    exit_percentage = exit_percentage\n",
    ")\n",
    "\n",
    "agent = ImpermanentLossAgent(config)\n",
    "agent.init()\n",
    "\n",
    "print(f\"Monitoring TVL changes @ pool address {pair_address}\")"
   ]
  },
  {
   "cell_type": "code",
   "execution_count": 3,
   "id": "ef5e24ef-ab8c-4865-91b4-b59a26224ccb",
   "metadata": {},
   "outputs": [
    {
     "data": {
      "text/html": [
       "<div>\n",
       "<style scoped>\n",
       "    .dataframe tbody tr th:only-of-type {\n",
       "        vertical-align: middle;\n",
       "    }\n",
       "\n",
       "    .dataframe tbody tr th {\n",
       "        vertical-align: top;\n",
       "    }\n",
       "\n",
       "    .dataframe thead th {\n",
       "        text-align: right;\n",
       "    }\n",
       "</style>\n",
       "<table border=\"1\" class=\"dataframe\">\n",
       "  <thead>\n",
       "    <tr style=\"text-align: right;\">\n",
       "      <th></th>\n",
       "      <th>blockNumber</th>\n",
       "      <th>event</th>\n",
       "      <th>address</th>\n",
       "      <th>blockHash</th>\n",
       "      <th>logIndex</th>\n",
       "      <th>transactionHash</th>\n",
       "      <th>transactionIndex</th>\n",
       "      <th>args</th>\n",
       "    </tr>\n",
       "  </thead>\n",
       "  <tbody>\n",
       "    <tr>\n",
       "      <th>0</th>\n",
       "      <td>23465266</td>\n",
       "      <td>Swap</td>\n",
       "      <td>0xB4e16d0168e52d35CaCD2c6185b44281Ec28C9Dc</td>\n",
       "      <td>0xdcddce03378ef0979a7324268bc434f17ab26496466f...</td>\n",
       "      <td>596</td>\n",
       "      <td>0xa7c3a5cbd3792cda4c8b75fe36b9e8f97aabbe169c10...</td>\n",
       "      <td>155</td>\n",
       "      <td>{'sender': '0x5141B82f5fFDa4c6fE1E372978F1C542...</td>\n",
       "    </tr>\n",
       "    <tr>\n",
       "      <th>1</th>\n",
       "      <td>23465297</td>\n",
       "      <td>Swap</td>\n",
       "      <td>0xB4e16d0168e52d35CaCD2c6185b44281Ec28C9Dc</td>\n",
       "      <td>0x9222687c4e46e75da9ffa9b0a6272cfbcb4bb89a6ceb...</td>\n",
       "      <td>288</td>\n",
       "      <td>0xf986f4b7cf60f36502b9f2d424db4398bfc736712d89...</td>\n",
       "      <td>64</td>\n",
       "      <td>{'sender': '0x7a250d5630B4cF539739dF2C5dAcb4c6...</td>\n",
       "    </tr>\n",
       "  </tbody>\n",
       "</table>\n",
       "</div>"
      ],
      "text/plain": [
       "   blockNumber event                                     address  \\\n",
       "0     23465266  Swap  0xB4e16d0168e52d35CaCD2c6185b44281Ec28C9Dc   \n",
       "1     23465297  Swap  0xB4e16d0168e52d35CaCD2c6185b44281Ec28C9Dc   \n",
       "\n",
       "                                           blockHash  logIndex  \\\n",
       "0  0xdcddce03378ef0979a7324268bc434f17ab26496466f...       596   \n",
       "1  0x9222687c4e46e75da9ffa9b0a6272cfbcb4bb89a6ceb...       288   \n",
       "\n",
       "                                     transactionHash  transactionIndex  \\\n",
       "0  0xa7c3a5cbd3792cda4c8b75fe36b9e8f97aabbe169c10...               155   \n",
       "1  0xf986f4b7cf60f36502b9f2d424db4398bfc736712d89...                64   \n",
       "\n",
       "                                                args  \n",
       "0  {'sender': '0x5141B82f5fFDa4c6fE1E372978F1C542...  \n",
       "1  {'sender': '0x7a250d5630B4cF539739dF2C5dAcb4c6...  "
      ]
     },
     "execution_count": 3,
     "metadata": {},
     "output_type": "execute_result"
    }
   ],
   "source": [
    "abi = ABILoad(platform, abi_name)\n",
    "connect = ConnectW3(provider_url)\n",
    "connect.apply()\n",
    "\n",
    "last_block = connect.get_w3().eth.block_number\n",
    "start_block = last_block - 100\n",
    "\n",
    "# Grab batch sync events from pool\n",
    "rEvents = RetrieveEvents(connect, abi)\n",
    "events = rEvents.apply(EventType.SWAP, address = pair_address, start_block=start_block, end_block=last_block)\n",
    "df_events = rEvents.to_dataframe(events)\n",
    "df_events.head(2)"
   ]
  },
  {
   "cell_type": "markdown",
   "id": "05bac0b9-eac5-437a-855f-937ff7aecc06",
   "metadata": {},
   "source": [
    "### Agent Run #1"
   ]
  },
  {
   "cell_type": "code",
   "execution_count": 4,
   "id": "6c67beab-5341-43ea-95d4-cff2a943a825",
   "metadata": {},
   "outputs": [
    {
     "name": "stdout",
     "output_type": "stream",
     "text": [
      "Exchange USDC-WETH (LP)\n",
      "Reserves: USDC = 14160246.665848, WETH = 3424.8649425013764\n",
      "Liquidity: 0.08143220235298784 \n",
      "\n"
     ]
    }
   ],
   "source": [
    "tkn0 = agent.get_lp_data().tkn0\n",
    "tkn1 = agent.get_lp_data().tkn1\n",
    "lp = agent.prime_mock_pool(start_block, 'user')\n",
    "lp.summary()"
   ]
  },
  {
   "cell_type": "code",
   "execution_count": 5,
   "id": "502a9d56-569b-41fe-8920-06944c6fe9a3",
   "metadata": {},
   "outputs": [],
   "source": [
    "# Take a position\n",
    "lp_pos = agent.take_mock_position(lp, tkn0, 'user', 100)"
   ]
  },
  {
   "cell_type": "code",
   "execution_count": 6,
   "id": "f3d056ee-0eef-474a-bcc0-83c07691ab4e",
   "metadata": {},
   "outputs": [
    {
     "name": "stdout",
     "output_type": "stream",
     "text": [
      "Block 23465266: Value (USDC) = 99.6996420512981, outside loss threshold 99.7\n",
      "Block 23465297: Value (USDC) = 99.69965483382371, outside loss threshold 99.7\n",
      "Block 23465299: Value (USDC) = 99.69966645871294, outside loss threshold 99.7\n",
      "Block 23465301: Value (USDC) = 99.69967698120095, outside loss threshold 99.7\n",
      "Block 23465305: Value threshold condition met for USDC-WETH LP\n",
      "Block 23465307: Value threshold condition met for USDC-WETH LP\n",
      "Block 23465319: Value threshold condition met for USDC-WETH LP\n",
      "Block 23465319: Value threshold condition met for USDC-WETH LP\n",
      "Block 23465326: Value threshold condition met for USDC-WETH LP\n",
      "Block 23465333: Value threshold condition met for USDC-WETH LP\n",
      "Block 23465337: Value threshold condition met for USDC-WETH LP\n"
     ]
    }
   ],
   "source": [
    "# Run impermanent loss analysis\n",
    "agent.run_batch(lp, tkn0, 'user', events)"
   ]
  }
 ],
 "metadata": {
  "kernelspec": {
   "display_name": "Python 3 (ipykernel)",
   "language": "python",
   "name": "python3"
  },
  "language_info": {
   "codemirror_mode": {
    "name": "ipython",
    "version": 3
   },
   "file_extension": ".py",
   "mimetype": "text/x-python",
   "name": "python",
   "nbconvert_exporter": "python",
   "pygments_lexer": "ipython3",
   "version": "3.10.0rc2"
  }
 },
 "nbformat": 4,
 "nbformat_minor": 5
}
