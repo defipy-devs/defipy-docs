{
 "cells": [
  {
   "cell_type": "markdown",
   "id": "9a59d930-6727-49aa-8040-c1e50469e70e",
   "metadata": {},
   "source": [
    "# Pool Events\n",
    "\n",
    "This script shows how to leverage the Web3Scout package to read pool events, effectively serving as an extension of web3.py package. These pool events can serve as data feeds for DeFiPy analytics tooling.\n"
   ]
  },
  {
   "cell_type": "markdown",
   "id": "4a198106-9b86-4083-a4f0-ed0279a2774e",
   "metadata": {},
   "source": [
    "## Uniswap V2"
   ]
  },
  {
   "cell_type": "markdown",
   "id": "19c3e46d-9c6a-4a84-8ec9-0c58bdfc024f",
   "metadata": {},
   "source": [
    "### 📘 Notable Classes\n",
    "\n",
    "---\n",
    "\n",
    "* **Class**: 📘 ``web3scout.abi.ABILoad`` \n",
    "    * **Purpose**: Load Web3Scout embedded Solidity JSON ABI\n",
    "    * **Methods**:\n",
    "        * `` apply(web3: Web3, address: Optional[str] = None)``  \n",
    "        * **Parameters**:\n",
    "            * `web3`: Web3.py object (`Web3`).\n",
    "            * `address`: List of addresses (optional)(`list`).\n",
    "             \n",
    "* **Class**: 📘 ``web3scout.utils.connect.ConnectW3`` \n",
    "    * **Purpose**: Connect to a remote node using Web3.py\n",
    "    * **Methods**:\n",
    "        * ``apply()``\n",
    "     \n",
    "* **Class**: 📘 ``web3scout.event.process.RetrieveEvents`` \n",
    "    * **Purpose**: Retrieve pool events\n",
    "    * **Methods**:\n",
    "        * ``apply(event_type: str, address: str = None, start_block = None, end_block = None)``\n",
    "        * **Parameters**:\n",
    "            * `event_type`: EventType (eg, SWAP, MINT, etc.)  (`str`).\n",
    "            * `address`: address (`str`).\n",
    "            * `start_block`: start block number (`int`).\n",
    "            * `end_block`: end block number (`int`)."
   ]
  },
  {
   "cell_type": "code",
   "execution_count": 1,
   "id": "1834d1f6-a675-4a19-855e-c43b3e8b9449",
   "metadata": {},
   "outputs": [
    {
     "name": "stderr",
     "output_type": "stream",
     "text": [
      "/Library/Frameworks/Python.framework/Versions/3.10/lib/python3.10/site-packages/eth_tester/__init__.py:1: UserWarning: pkg_resources is deprecated as an API. See https://setuptools.pypa.io/en/latest/pkg_resources.html. The pkg_resources package is slated for removal as early as 2025-11-30. Refrain from using this package or pin to Setuptools<81.\n",
      "  import pkg_resources\n"
     ]
    }
   ],
   "source": [
    "import json\n",
    "import time\n",
    "from web3scout import *"
   ]
  },
  {
   "cell_type": "code",
   "execution_count": 2,
   "id": "7a57fb8e-201f-4fdd-9275-6b2b0cc2e326",
   "metadata": {},
   "outputs": [],
   "source": [
    "abi = ABILoad(Platform.SUSHI, JSONContract.UniswapV2Pair)"
   ]
  },
  {
   "cell_type": "code",
   "execution_count": 3,
   "id": "9066be4c-6337-4f54-8922-16b7c7d3ae46",
   "metadata": {},
   "outputs": [],
   "source": [
    "connect = ConnectW3(Net.POLYGON)\n",
    "connect.apply()"
   ]
  },
  {
   "cell_type": "code",
   "execution_count": 4,
   "id": "2d011e0a-4038-4c7a-9673-dfca7fa3fbdf",
   "metadata": {},
   "outputs": [],
   "source": [
    "rEvents = RetrieveEvents(connect, abi)\n",
    "last_block = rEvents.latest_block()\n",
    "start_block = last_block - 100"
   ]
  },
  {
   "cell_type": "markdown",
   "id": "3c8e1ebd-4be4-4759-ae61-d132738d9ed8",
   "metadata": {},
   "source": [
    "### Extract Mint Events"
   ]
  },
  {
   "cell_type": "code",
   "execution_count": 5,
   "id": "d3413d6c-0d83-4865-8d72-05ba16c9a9ae",
   "metadata": {},
   "outputs": [
    {
     "ename": "AssertionError",
     "evalue": "WEB3SCOUT Event Reader: NO_ADDRESS",
     "output_type": "error",
     "traceback": [
      "\u001b[0;31m---------------------------------------------------------------------------\u001b[0m",
      "\u001b[0;31mAssertionError\u001b[0m                            Traceback (most recent call last)",
      "Cell \u001b[0;32mIn[5], line 1\u001b[0m\n\u001b[0;32m----> 1\u001b[0m dict_events \u001b[38;5;241m=\u001b[39m \u001b[43mrEvents\u001b[49m\u001b[38;5;241;43m.\u001b[39;49m\u001b[43mapply\u001b[49m\u001b[43m(\u001b[49m\u001b[43mEventType\u001b[49m\u001b[38;5;241;43m.\u001b[39;49m\u001b[43mMINT\u001b[49m\u001b[43m,\u001b[49m\u001b[43m \u001b[49m\u001b[43mstart_block\u001b[49m\u001b[38;5;241;43m=\u001b[39;49m\u001b[43mstart_block\u001b[49m\u001b[43m,\u001b[49m\u001b[43m \u001b[49m\u001b[43mend_block\u001b[49m\u001b[38;5;241;43m=\u001b[39;49m\u001b[43mlast_block\u001b[49m\u001b[43m)\u001b[49m\n",
      "File \u001b[0;32m/Library/Frameworks/Python.framework/Versions/3.10/lib/python3.10/site-packages/web3scout/event/process/retrieve_events.py:32\u001b[0m, in \u001b[0;36mRetrieveEvents.apply\u001b[0;34m(self, event_type, address, start_block, end_block)\u001b[0m\n\u001b[1;32m     29\u001b[0m \u001b[38;5;28;01mdef\u001b[39;00m \u001b[38;5;21mapply\u001b[39m(\u001b[38;5;28mself\u001b[39m, event_type, address \u001b[38;5;241m=\u001b[39m \u001b[38;5;28;01mNone\u001b[39;00m, start_block \u001b[38;5;241m=\u001b[39m \u001b[38;5;28;01mNone\u001b[39;00m, end_block \u001b[38;5;241m=\u001b[39m \u001b[38;5;28;01mNone\u001b[39;00m):\n\u001b[1;32m     31\u001b[0m     \u001b[38;5;28;01massert\u001b[39;00m \u001b[38;5;28mself\u001b[39m\u001b[38;5;241m.\u001b[39m__connect\u001b[38;5;241m.\u001b[39mis_connect(), \u001b[38;5;124m'\u001b[39m\u001b[38;5;124mWEB3SCOUT Event Reader: NOT_CONNECTED\u001b[39m\u001b[38;5;124m'\u001b[39m\n\u001b[0;32m---> 32\u001b[0m     \u001b[38;5;28;01massert\u001b[39;00m address \u001b[38;5;241m!=\u001b[39m \u001b[38;5;28;01mNone\u001b[39;00m, \u001b[38;5;124m'\u001b[39m\u001b[38;5;124mWEB3SCOUT Event Reader: NO_ADDRESS\u001b[39m\u001b[38;5;124m'\u001b[39m\n\u001b[1;32m     34\u001b[0m     \u001b[38;5;28mself\u001b[39m\u001b[38;5;241m.\u001b[39m__contract \u001b[38;5;241m=\u001b[39m \u001b[38;5;28mself\u001b[39m\u001b[38;5;241m.\u001b[39mretrieve_contract(address)\n\u001b[1;32m     35\u001b[0m     event \u001b[38;5;241m=\u001b[39m InitEvent()\u001b[38;5;241m.\u001b[39mapply(\u001b[38;5;28mself\u001b[39m\u001b[38;5;241m.\u001b[39m__connect, event_type)\n",
      "\u001b[0;31mAssertionError\u001b[0m: WEB3SCOUT Event Reader: NO_ADDRESS"
     ]
    }
   ],
   "source": [
    "dict_events = rEvents.apply(EventType.MINT, start_block=start_block, end_block=last_block)"
   ]
  },
  {
   "cell_type": "code",
   "execution_count": null,
   "id": "9382520b-2ef1-410d-8fcb-5b57e5e3ea36",
   "metadata": {},
   "outputs": [],
   "source": [
    "df_events = rEvents.to_dataframe(dict_events)\n",
    "df_events.head(5)"
   ]
  },
  {
   "cell_type": "markdown",
   "id": "2971d7f2-aeb2-42ac-a873-a27fe5d60552",
   "metadata": {},
   "source": [
    "### Extract Swap Events"
   ]
  },
  {
   "cell_type": "code",
   "execution_count": null,
   "id": "c98a5d7c-b8e7-40c2-ab4b-4e5c5e262325",
   "metadata": {},
   "outputs": [],
   "source": [
    "connect = ConnectW3(Net.POLYGON)\n",
    "connect.apply()"
   ]
  },
  {
   "cell_type": "code",
   "execution_count": null,
   "id": "76be17b2-4163-4ee6-afd6-314ceb6cee27",
   "metadata": {},
   "outputs": [],
   "source": [
    "rEvents = RetrieveEvents(connect, abi)\n",
    "last_block = rEvents.latest_block()\n",
    "start_block = last_block - 3"
   ]
  },
  {
   "cell_type": "code",
   "execution_count": null,
   "id": "ffbfd69c-db7b-4c1d-b18f-8eb2d02a96d9",
   "metadata": {},
   "outputs": [],
   "source": [
    "dict_events = rEvents.apply(EventType.SWAP, start_block=start_block, end_block=last_block)"
   ]
  },
  {
   "cell_type": "code",
   "execution_count": null,
   "id": "f2fbe7a5-2eeb-4c3e-9767-12df1c7aac77",
   "metadata": {},
   "outputs": [],
   "source": [
    "df_events = rEvents.to_dataframe(dict_events)\n",
    "df_events.head(5)"
   ]
  },
  {
   "cell_type": "markdown",
   "id": "73f3494c-c5dd-41e4-b4be-3bc5e339da35",
   "metadata": {},
   "source": [
    "### Extract Burn Events"
   ]
  },
  {
   "cell_type": "code",
   "execution_count": null,
   "id": "ad241068-5de6-44c4-ac89-ae159ff84db7",
   "metadata": {},
   "outputs": [],
   "source": [
    "connect = ConnectW3(Net.POLYGON)\n",
    "connect.apply()"
   ]
  },
  {
   "cell_type": "code",
   "execution_count": null,
   "id": "da6fa72b-3561-438c-84fa-cd94c1eabeab",
   "metadata": {},
   "outputs": [],
   "source": [
    "rEvents = RetrieveEvents(connect, abi)\n",
    "last_block = rEvents.latest_block()\n",
    "start_block = last_block - 250"
   ]
  },
  {
   "cell_type": "code",
   "execution_count": null,
   "id": "ccdd4e8d-dd3d-4a1e-8e30-bde797b20e99",
   "metadata": {},
   "outputs": [],
   "source": [
    "dict_events = rEvents.apply(EventType.BURN, start_block=start_block, end_block=last_block)"
   ]
  },
  {
   "cell_type": "code",
   "execution_count": null,
   "id": "f4f51f54-13dc-44d4-83dd-1c972a5aa958",
   "metadata": {},
   "outputs": [],
   "source": [
    "df_events = rEvents.to_dataframe(dict_events)\n",
    "df_events.head(5)"
   ]
  },
  {
   "cell_type": "markdown",
   "id": "2863ae57-f498-45c0-971f-d4afc1c58449",
   "metadata": {},
   "source": [
    "### Extract Sync Events (Price Oracle)"
   ]
  },
  {
   "cell_type": "code",
   "execution_count": null,
   "id": "dc8e8574-9b51-44b3-9c07-c4dc07d28438",
   "metadata": {},
   "outputs": [],
   "source": [
    "connect = ConnectW3(Net.POLYGON)\n",
    "connect.apply()"
   ]
  },
  {
   "cell_type": "code",
   "execution_count": null,
   "id": "51ce2bcd-ee6d-485a-9fe2-0a8d3d69a8f0",
   "metadata": {},
   "outputs": [],
   "source": [
    "rEvents = RetrieveEvents(connect, abi)\n",
    "last_block = rEvents.latest_block()\n",
    "start_block = last_block - 10"
   ]
  },
  {
   "cell_type": "code",
   "execution_count": null,
   "id": "cd8639f6-cc8a-49ef-9711-6bb44c731f82",
   "metadata": {},
   "outputs": [],
   "source": [
    "dict_events = rEvents.apply(EventType.SYNC, start_block=start_block, end_block=last_block)"
   ]
  },
  {
   "cell_type": "code",
   "execution_count": null,
   "id": "d386b791-9afe-4e1b-8a9f-17d231b67ed6",
   "metadata": {},
   "outputs": [],
   "source": [
    "df_events = rEvents.to_dataframe(dict_events)\n",
    "df_events.head(5)"
   ]
  },
  {
   "cell_type": "markdown",
   "id": "aec273bb-f6fb-4ca8-8c24-39ffa44c7341",
   "metadata": {},
   "source": [
    "## Uniswap V3"
   ]
  },
  {
   "cell_type": "code",
   "execution_count": null,
   "id": "3999073e-092c-4175-a9ee-7bdb2f740914",
   "metadata": {},
   "outputs": [],
   "source": [
    "abi = ABILoad(Platform.UNIV3, JSONContract.UniswapV3Pool)"
   ]
  },
  {
   "cell_type": "markdown",
   "id": "2fdcfcfc-405c-4792-8ad3-d5cad4f14530",
   "metadata": {},
   "source": [
    "### Extract Mint Events"
   ]
  },
  {
   "cell_type": "code",
   "execution_count": null,
   "id": "627e530b-6ebc-4f13-86c7-eaf6d13664ae",
   "metadata": {},
   "outputs": [],
   "source": [
    "connect = ConnectW3(Net.POLYGON)\n",
    "connect.apply()"
   ]
  },
  {
   "cell_type": "code",
   "execution_count": null,
   "id": "938da6e1-3051-428a-8c31-f6e2ca6118b1",
   "metadata": {},
   "outputs": [],
   "source": [
    "rEvents = RetrieveEvents(connect, abi)\n",
    "last_block = rEvents.latest_block()\n",
    "start_block = last_block - 15"
   ]
  },
  {
   "cell_type": "code",
   "execution_count": null,
   "id": "ebe6a8b8-ac53-46f3-9e86-2f30f219b543",
   "metadata": {},
   "outputs": [],
   "source": [
    "dict_events = rEvents.apply(EventType.MINT, start_block=start_block, end_block=last_block)"
   ]
  },
  {
   "cell_type": "code",
   "execution_count": null,
   "id": "9f3c0580-1686-4d92-bc18-1420ca87c1f5",
   "metadata": {},
   "outputs": [],
   "source": [
    "df_events = rEvents.to_dataframe(dict_events)\n",
    "df_events.head(5)"
   ]
  },
  {
   "cell_type": "markdown",
   "id": "1bb4ca5d-76d5-4000-8193-f59e21a216c4",
   "metadata": {},
   "source": [
    "### Extract Swap Events"
   ]
  },
  {
   "cell_type": "code",
   "execution_count": null,
   "id": "852aff1d-e235-4b1a-9710-bbd1193113e3",
   "metadata": {},
   "outputs": [],
   "source": [
    "connect = ConnectW3(Net.POLYGON)\n",
    "connect.apply()"
   ]
  },
  {
   "cell_type": "code",
   "execution_count": null,
   "id": "428a61bc-7667-4132-a159-d29b4af640d9",
   "metadata": {},
   "outputs": [],
   "source": [
    "rEvents = RetrieveEvents(connect, abi)\n",
    "last_block = rEvents.latest_block()\n",
    "start_block = last_block - 3"
   ]
  },
  {
   "cell_type": "code",
   "execution_count": null,
   "id": "eabafd00-3fad-4181-8f99-0849cbc71e52",
   "metadata": {},
   "outputs": [],
   "source": [
    "dict_events = rEvents.apply(EventType.SWAP, start_block=start_block, end_block=last_block)"
   ]
  },
  {
   "cell_type": "code",
   "execution_count": null,
   "id": "7a512a7a-ba33-4a4d-9880-2131d9e8ff9f",
   "metadata": {},
   "outputs": [],
   "source": [
    "df_events = rEvents.to_dataframe(dict_events)\n",
    "df_events.head(5)"
   ]
  },
  {
   "cell_type": "markdown",
   "id": "7c041dd5-5e21-49b0-a7e9-7588a01fcdfd",
   "metadata": {},
   "source": [
    "### Extract Burn Events"
   ]
  },
  {
   "cell_type": "code",
   "execution_count": null,
   "id": "d7745660-18e9-4db4-95d4-25d4a389f998",
   "metadata": {},
   "outputs": [],
   "source": [
    "connect = ConnectW3(Net.POLYGON)\n",
    "connect.apply()"
   ]
  },
  {
   "cell_type": "code",
   "execution_count": null,
   "id": "709dd64a-2084-404f-a53b-657aca43cc79",
   "metadata": {},
   "outputs": [],
   "source": [
    "rEvents = RetrieveEvents(connect, abi)\n",
    "last_block = rEvents.latest_block()\n",
    "start_block = last_block - 250"
   ]
  },
  {
   "cell_type": "code",
   "execution_count": null,
   "id": "96aa0b81-0906-4410-949f-7485dc0f903c",
   "metadata": {},
   "outputs": [],
   "source": [
    "dict_events = rEvents.apply(EventType.BURN, start_block=start_block, end_block=last_block)"
   ]
  },
  {
   "cell_type": "code",
   "execution_count": null,
   "id": "b3d10692-b02e-454d-a760-3b3480397a6f",
   "metadata": {},
   "outputs": [],
   "source": [
    "df_events = rEvents.to_dataframe(dict_events)\n",
    "df_events.head(5)"
   ]
  },
  {
   "cell_type": "markdown",
   "id": "67188149-3d10-4b4b-8d9d-64c5b9d418e0",
   "metadata": {},
   "source": [
    "### Create Events"
   ]
  },
  {
   "cell_type": "code",
   "execution_count": null,
   "id": "157ed49c-f029-4301-94de-8bdfacdc76ff",
   "metadata": {},
   "outputs": [],
   "source": [
    "abi = ABILoad(Platform.UNIV3, JSONContract.UniswapV3Factory)"
   ]
  },
  {
   "cell_type": "code",
   "execution_count": null,
   "id": "71da43b3-a799-4d40-aeea-cab2ee27608b",
   "metadata": {},
   "outputs": [],
   "source": [
    "connect = ConnectW3(Net.POLYGON)\n",
    "connect.apply()"
   ]
  },
  {
   "cell_type": "code",
   "execution_count": null,
   "id": "03b6bcf9-2fc2-454f-bbb2-9523dc07ab46",
   "metadata": {},
   "outputs": [],
   "source": [
    "rEvents = RetrieveEvents(connect, abi)\n",
    "last_block = rEvents.latest_block()\n",
    "start_block = last_block - 5000"
   ]
  },
  {
   "cell_type": "code",
   "execution_count": null,
   "id": "e0ae941f-5fc9-44cc-8197-c4bca1c4868b",
   "metadata": {},
   "outputs": [],
   "source": [
    "dict_events = rEvents.apply(EventType.CREATE, start_block=start_block, end_block=last_block)"
   ]
  },
  {
   "cell_type": "code",
   "execution_count": null,
   "id": "da68f08d-00c6-41ae-a5ae-02790afb7632",
   "metadata": {},
   "outputs": [],
   "source": [
    "df_events = rEvents.to_dataframe(dict_events)\n",
    "df_events.head(5)"
   ]
  }
 ],
 "metadata": {
  "kernelspec": {
   "display_name": "Python 3 (ipykernel)",
   "language": "python",
   "name": "python3"
  },
  "language_info": {
   "codemirror_mode": {
    "name": "ipython",
    "version": 3
   },
   "file_extension": ".py",
   "mimetype": "text/x-python",
   "name": "python",
   "nbconvert_exporter": "python",
   "pygments_lexer": "ipython3",
   "version": "3.10.0rc2"
  }
 },
 "nbformat": 4,
 "nbformat_minor": 5
}
