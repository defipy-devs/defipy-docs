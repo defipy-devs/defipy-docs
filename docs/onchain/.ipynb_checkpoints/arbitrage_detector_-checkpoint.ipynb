{
 "cells": [
  {
   "cell_type": "markdown",
   "id": "850e8856-5381-4640-a7f3-ede054554012",
   "metadata": {},
   "source": [
    "# Arbitrage Detector Agent\n",
    "\n",
    "The ``ArbitrageDetectorAgent` monitors price discrepancies between two liquidity pools (e.g., Uniswap V2 and another exchange) for the same token pair and sends notifications when the difference exceeds a specified percentage threshold, highlighting potential arbitrage opportunities after accounting for fee"
   ]
  },
  {
   "cell_type": "markdown",
   "id": "5c94a97d-6d55-4b3d-a831-ced306c58591",
   "metadata": {},
   "source": [
    "### 📘 Notable Classes\n",
    "\n",
    "---\n",
    "\n",
    "* **Class**: 📘 ``defipy.agents.config.ArbitrageDetectorConfig`` \n",
    "    * **Purpose**: Configuration for volume threshold agent.\n",
    "        * **Parameters**:\n",
    "            * `volume_threshold`: Volume threshold to check (`float`).\n",
    "            * `pool_address`: UniV2 pool address (`str`).\n",
    "            * `provider_url`: Provider URL (eg, infura.io)(`str`).\n",
    "            * `platform`: Platform where pool resides (eg, uniswap) (`str`).\n",
    "            * `abi_name`: ABI handle pointing to pool contract in JSON (eg, UniswapV2Pair) (`str`).\n",
    "\n",
    "---\n",
    "         \n",
    "* **Class**: 📘 ``defipy.agents.ArbitrageDetectorAgent`` \n",
    "    * **Purpose**: Reactive DeFi agent for determining price threshold.\n",
    "        * **Parameters**:\n",
    "            * `config`: Agent configuration parameters (`PriceThresholdConfig`).\n",
    "    * **Methods**:\n",
    "        * ``apply()``\n",
    "            * **Purpose**: Apply price threshold agent\n",
    "        * ``run_batch(lp: UniswapExchange, tkn: ERC20, user_nm: str, events: dict)``\n",
    "            * **Purpose**: Run AI price agent on batch data \n",
    "            * **Parameters**:\n",
    "                * `lp`: Swap token (`UniswapExchange`).  \n",
    "                * `tkn`: Swap token (`ERC20`).\n",
    "                * `user_nm`: Account name (`str`).\n",
    "                * `events`: Dictionary of sync events (`dict`).\n",
    "        * ``apply(lp: UniswapExchange, tkn: ERC20, user_nm: str, block_num: int)``\n",
    "            * **Purpose**: Apply TVL check\n",
    "            * **Parameters**:\n",
    "                * `lp`: Exchange (`UniswapExchange`).  \n",
    "                * `tkn`: Swap token (`ERC20`).\n",
    "                * `user_nm`: Account name (`str`).\n",
    "                * `block_num`: Block number (`int`).             \n",
    "        * ``check_condition(lp: UniswapExchange, tkn: ERC20, threshold: float, block_num: int)``\n",
    "            * **Purpose**: Check if TVL is below threshold  \n",
    "            * **Parameters**:\n",
    "                * `lp`: Exchange (`UniswapExchange`).  \n",
    "                * `tkn`: Swap token (`ERC20`).\n",
    "                * `threshold`: override config price threshold (optional) (`float`).\n",
    "                * `block_num`: Block number (`int`).\n",
    "        * ``get_pool_volume(lp: UniswapExchange, tkn: ERC20, block_num: int)``\n",
    "            * **Purpose**: Check if TVL is below threshold  \n",
    "            * **Parameters**:\n",
    "                * `lp`: Exchange (`UniswapExchange`).  \n",
    "                * `tkn`: Swap token (`ERC20`).\n",
    "                * `block_num`: Block number (`int`).\n",
    "        * ``take_mock_position(lp: UniswapExchange, tkn: ERC20, user_nm: str, amt: float)``\n",
    "            * **Purpose**: Check if TVL is below threshold  \n",
    "            * **Parameters**:\n",
    "                * `lp`: Exchange (`UniswapExchange`).  \n",
    "                * `tkn`: Swap token (`ERC20`).\n",
    "                * `user_nm`: Account name (`str`).\n",
    "                * `amt`: Mock token amount (`float`).\n",
    "        * ``withdraw_mock_position(lp: UniswapExchange, tkn: ERC20, user_nm: str, lp_amt: float)``\n",
    "            * **Purpose**: Check if TVL is below threshold  \n",
    "            * **Parameters**:\n",
    "                * `lp`: Exchange (`UniswapExchange`).  \n",
    "                * `tkn`: Swap token (`ERC20`).\n",
    "                * `user_nm`: Account name (`str`).\n",
    "                * `lp_amt`: Mock LP amount (`float`).\n",
    "        * ``update_mock_pool(lp: UniswapExchange, cur_block: int)``\n",
    "            * **Purpose**: Check if TVL is below threshold  \n",
    "            * **Parameters**:\n",
    "                * `lp`: Exchange (`UniswapExchange`).  \n",
    "                * `cur_block`: Current block number (`int`).\n",
    "        * ``prime_mock_pool(start_block: int, user_nm: str)``\n",
    "            * **Purpose**: Initialize off-chain pool using information in start_block\n",
    "            * **Parameters**:\n",
    "                * `start_block`: Start block (`int`).\n",
    "                * `user_nm`: Account name of mock off-chain pool (`str`). \n",
    "        * ``get_w3()``\n",
    "            * **Purpose**: Getter function for web3.py connector object\n",
    "        * ``get_abi()``\n",
    "            * **Purpose**: Getter function for ABI json data\n",
    "        * ``get_contract_instance()``\n",
    "            * **Purpose**: Getter function for pool contract instance\n",
    "        * ``get_lp_data()``\n",
    "            * **Purpose**: Getter function for pool data associated with `pool_address` from config\n"
   ]
  },
  {
   "cell_type": "code",
   "execution_count": 1,
   "id": "611a68ed-4832-4957-bc0e-66cab2fc0729",
   "metadata": {},
   "outputs": [
    {
     "name": "stderr",
     "output_type": "stream",
     "text": [
      "/Library/Frameworks/Python.framework/Versions/3.10/lib/python3.10/site-packages/eth_tester/__init__.py:1: UserWarning: pkg_resources is deprecated as an API. See https://setuptools.pypa.io/en/latest/pkg_resources.html. The pkg_resources package is slated for removal as early as 2025-11-30. Refrain from using this package or pin to Setuptools<81.\n",
      "  import pkg_resources\n"
     ]
    }
   ],
   "source": [
    "from defipy import *\n",
    "from web3scout import *"
   ]
  },
  {
   "cell_type": "code",
   "execution_count": 2,
   "id": "17c480cf-f03d-4bf9-8ae2-0e9182fd5269",
   "metadata": {},
   "outputs": [
    {
     "ename": "NameError",
     "evalue": "name 'ArbitrageDetectorConfig' is not defined",
     "output_type": "error",
     "traceback": [
      "\u001b[0;31m---------------------------------------------------------------------------\u001b[0m",
      "\u001b[0;31mNameError\u001b[0m                                 Traceback (most recent call last)",
      "Cell \u001b[0;32mIn[2], line 9\u001b[0m\n\u001b[1;32m      6\u001b[0m abi_name \u001b[38;5;241m=\u001b[39m JSONContract\u001b[38;5;241m.\u001b[39mUniswapV2Pair\n\u001b[1;32m      7\u001b[0m user_position \u001b[38;5;241m=\u001b[39m \u001b[38;5;241m10\u001b[39m\n\u001b[0;32m----> 9\u001b[0m config \u001b[38;5;241m=\u001b[39m \u001b[43mArbitrageDetectorConfig\u001b[49m(\n\u001b[1;32m     10\u001b[0m     volume_threshold \u001b[38;5;241m=\u001b[39m volume_threshold,\n\u001b[1;32m     11\u001b[0m     pool_address \u001b[38;5;241m=\u001b[39m pair_address,\n\u001b[1;32m     12\u001b[0m     provider_url \u001b[38;5;241m=\u001b[39m provider_url,\n\u001b[1;32m     13\u001b[0m     platform \u001b[38;5;241m=\u001b[39m platform,\n\u001b[1;32m     14\u001b[0m     abi_name \u001b[38;5;241m=\u001b[39m abi_name,\n\u001b[1;32m     15\u001b[0m     user_position \u001b[38;5;241m=\u001b[39m user_position\n\u001b[1;32m     16\u001b[0m )\n\u001b[1;32m     18\u001b[0m agent \u001b[38;5;241m=\u001b[39m ArbitrageDetectorAgent(config)\n\u001b[1;32m     19\u001b[0m agent\u001b[38;5;241m.\u001b[39minit()\n",
      "\u001b[0;31mNameError\u001b[0m: name 'ArbitrageDetectorConfig' is not defined"
     ]
    }
   ],
   "source": [
    "volume_threshold = 1000\n",
    "pair_address1 = \"0xB4e16d0168e52d35CaCD2c6185b44281Ec28C9Dc\"\n",
    "#pair_address2 = \"0x397ff1542f962076d0bfe58ea045ffa2d347aca0\"\n",
    "provider_url = \"https://mainnet.infura.io/v3/9624e3e5c40f4ac3958b79fa5aa2562d\"\n",
    "platform = Platform.AGNOSTIC\n",
    "abi_name = JSONContract.UniswapV2Pair\n",
    "user_position = 10\n",
    "\n",
    "config = ArbitrageDetectorConfig(\n",
    "    volume_threshold = volume_threshold,\n",
    "    pool_address = pair_address,\n",
    "    provider_url = provider_url,\n",
    "    platform = platform,\n",
    "    abi_name = abi_name,\n",
    "    user_position = user_position\n",
    ")\n",
    "\n",
    "agent = ArbitrageDetectorAgent(config)\n",
    "agent.init()\n",
    "\n",
    "print(f\"Monitoring TVL changes @ pool address {pair_address}\")"
   ]
  },
  {
   "cell_type": "code",
   "execution_count": null,
   "id": "b6b9506b-0a8a-4e4d-ae98-c270444a11cc",
   "metadata": {},
   "outputs": [],
   "source": [
    "#pair_address = \"0x397ff1542f962076d0bfe58ea045ffa2d347aca0\""
   ]
  },
  {
   "cell_type": "code",
   "execution_count": null,
   "id": "9f555a0e-4903-4a26-bc78-7a749d494b9a",
   "metadata": {},
   "outputs": [],
   "source": [
    "abi = ABILoad(platform, abi_name)\n",
    "connect = ConnectW3(provider_url)\n",
    "connect.apply()\n",
    "\n",
    "last_block = connect.get_w3().eth.block_number\n",
    "start_block = last_block - 100\n",
    "\n",
    "# Grab batch sync events from pool\n",
    "rEvents = RetrieveEvents(connect, abi)\n",
    "events = rEvents.apply(EventType.SWAP, address = pair_address, start_block=start_block, end_block=last_block)\n",
    "df_events = rEvents.to_dataframe(events)\n",
    "df_events.head(2)"
   ]
  },
  {
   "cell_type": "markdown",
   "id": "e56cf25c-3a06-44d1-b377-aae1f0f465ce",
   "metadata": {},
   "source": [
    "### Agent Run #1"
   ]
  },
  {
   "cell_type": "code",
   "execution_count": null,
   "id": "858b325c-83ab-4d89-94e8-3d2ccfb17ab4",
   "metadata": {},
   "outputs": [],
   "source": [
    "tkn0 = agent.get_lp_data().tkn0\n",
    "tkn1 = agent.get_lp_data().tkn1\n",
    "lp = agent.prime_mock_pool(start_block, 'user')\n",
    "lp.summary()"
   ]
  },
  {
   "cell_type": "code",
   "execution_count": null,
   "id": "175cb073-9ef3-49d0-a8ce-24822a1b744b",
   "metadata": {},
   "outputs": [],
   "source": [
    "agent.run_batch(lp, tkn0, 'user', events)"
   ]
  }
 ],
 "metadata": {
  "kernelspec": {
   "display_name": "Python 3 (ipykernel)",
   "language": "python",
   "name": "python3"
  },
  "language_info": {
   "codemirror_mode": {
    "name": "ipython",
    "version": 3
   },
   "file_extension": ".py",
   "mimetype": "text/x-python",
   "name": "python",
   "nbconvert_exporter": "python",
   "pygments_lexer": "ipython3",
   "version": "3.10.0rc2"
  }
 },
 "nbformat": 4,
 "nbformat_minor": 5
}
