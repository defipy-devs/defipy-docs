{
 "cells": [
  {
   "cell_type": "markdown",
   "id": "8ee9b46b-75c6-4f77-b113-98766534604c",
   "metadata": {},
   "source": [
    "# Abstract Interface (V2)\n",
    "\n",
    "* **📘 Join**: joins X and Y amounts to pool \n",
    "* **📘 Swap**: swaps X for Y (and vice verse) \n",
    "* **📘 AddLiquidity**: double-sided deposit; adds liquidity using only X or Y amounts \n",
    "* **📘 RemoveLiquidity**: double-sided withdrawal; removes liquidity using only X or Y amounts \n",
    "* **📘 SwapDeposit**: single-sided deposit; deposit exact x or y by coming to pool with just one token from trading pair to make a deposit \n",
    "* **📘 WithdrawSwap**: single-sided withdrawal; withdraw exact x or y by leaving pool with desired token from trading pair\n",
    "* **📘 LPQuote**: Quote liquidity pool, via either: (a) token price; (b) LP token amount to token amount; or (c) token amount to LP token amount\n",
    "\n",
    "To download notebook to this tutorial, see [here](https://github.com/defipy-devs/uniswappy/blob/main/notebooks/tutorials/uniswap_v2.ipynb) "
   ]
  },
  {
   "cell_type": "code",
   "execution_count": 35,
   "id": "440f92b5-615b-4550-83d6-a3e8c2875184",
   "metadata": {},
   "outputs": [],
   "source": [
    "from defipy import *"
   ]
  },
  {
   "cell_type": "code",
   "execution_count": 36,
   "id": "1e68a541-b6c0-4733-949d-d6ac123f2b72",
   "metadata": {},
   "outputs": [],
   "source": [
    "user_nm = 'user'\n",
    "eth_amount = 1000\n",
    "tkn_amount = 100000"
   ]
  },
  {
   "cell_type": "code",
   "execution_count": 37,
   "id": "ca6d395f-986c-4de0-95d7-10851b1c8b21",
   "metadata": {},
   "outputs": [
    {
     "name": "stdout",
     "output_type": "stream",
     "text": [
      "Exchange ETH-TKN (LP)\n",
      "Reserves: ETH = 1000.0, TKN = 100000.0\n",
      "Liquidity: 10000.0 \n",
      "\n",
      "Exchange ETH-TKN (LP)\n",
      "Reserves: ETH = 999.0, TKN = 100000.0\n",
      "Liquidity: 9994.991239989282 \n",
      "\n"
     ]
    }
   ],
   "source": [
    "tkn = ERC20(\"TKN\", \"0x111\")\n",
    "eth = ERC20(\"ETH\", \"0x09\")\n",
    "exchg_data = UniswapExchangeData(tkn0 = eth, tkn1 = tkn, symbol=\"LP\", address=\"0x011\")\n",
    "\n",
    "factory = UniswapFactory(\"ETH pool factory\", \"0x2\")\n",
    "lp = factory.deploy(exchg_data)\n",
    "\n",
    "Join().apply(lp, user_nm, eth_amount, tkn_amount)\n",
    "lp.summary()\n",
    "\n",
    "expected_amount_out = WithdrawSwap().apply(lp, eth, user_nm, 1)\n",
    "lp.summary()"
   ]
  },
  {
   "cell_type": "code",
   "execution_count": 38,
   "id": "f87cb5ff-2369-48bc-9e2f-cbfb5f4c76fb",
   "metadata": {},
   "outputs": [
    {
     "name": "stdout",
     "output_type": "stream",
     "text": [
      "Exchange ETH-TKN (LP)\n",
      "Reserves: ETH = 1000.0, TKN = 100000.0\n",
      "Liquidity: 10000.0 \n",
      "\n"
     ]
    }
   ],
   "source": [
    "tkn = ERC20(\"TKN\", \"0x111\")\n",
    "eth = ERC20(\"ETH\", \"0x09\")\n",
    "exchg_data = UniswapExchangeData(tkn0 = eth, tkn1 = tkn, symbol=\"LP\", address=\"0x011\")\n",
    "\n",
    "factory = UniswapFactory(\"ETH pool factory\", \"0x2\")\n",
    "lp = factory.deploy(exchg_data)\n",
    "\n",
    "Join().apply(lp, user_nm, eth_amount, tkn_amount)\n",
    "lp.summary()"
   ]
  },
  {
   "cell_type": "markdown",
   "id": "599bcf5e-00a4-46cb-a8a4-8ec362d9d433",
   "metadata": {},
   "source": [
    "### 📘 Join\n",
    "\n",
    "* **Class**: 📘 ``defipy.process.Join`` \n",
    "    * **Purpose**: Simplifies initial liquidity addition to Uniswap V2 pools.\n",
    "    * **Methods**:\n",
    "        * ``apply(pool, user: str, amount0: float, amount1: float)``\n",
    "            * **Parameters**:\n",
    "                * ``pool``: Pool instance (e.g., created via Primitive Interface).\n",
    "                * ``user``: User address.\n",
    "                * ``amount0``: Amount of token0.\n",
    "                * ``amount1``: Amount of token1.\n",
    "        * **Output**: Liquidity added to the pool."
   ]
  },
  {
   "cell_type": "code",
   "execution_count": 39,
   "id": "b1478560-9c69-4e14-82bd-1759a355ece2",
   "metadata": {},
   "outputs": [
    {
     "name": "stdout",
     "output_type": "stream",
     "text": [
      "Exchange ETH-TKN (LP)\n",
      "Reserves: ETH = 1000.0, TKN = 100000.0\n",
      "Liquidity: 10000.0 \n",
      "\n"
     ]
    }
   ],
   "source": [
    "tkn = ERC20(\"TKN\", \"0x111\")\n",
    "eth = ERC20(\"ETH\", \"0x09\")\n",
    "exchg_data = UniswapExchangeData(tkn0 = eth, tkn1 = tkn, symbol=\"LP\", address=\"0x011\")\n",
    "\n",
    "factory = UniswapFactory(\"ETH pool factory\", \"0x2\")\n",
    "lp = factory.deploy(exchg_data)\n",
    "\n",
    "Join().apply(lp, user_nm, eth_amount, tkn_amount)\n",
    "lp.summary()"
   ]
  },
  {
   "cell_type": "markdown",
   "id": "c155fbe4-286e-452e-a62c-e6fd09d07484",
   "metadata": {},
   "source": [
    "### 📘 Swap\n",
    "\n",
    "* **Class**: 📘 ``defipy.process.Swap`` \n",
    "    * **Purpose**: Facilitates token swaps on Uniswap V2 pools with slippage tolerance and deadline control.\n",
    "    * **Methods**:\n",
    "        * ``apply(pool, token_in: ERC20, user: str, amount_in: float)``\n",
    "            * **Parameters**:\n",
    "                * ``pool``: Pool instance to perform the swap on.\n",
    "                * ``token_in``: ERC20 token to swap from.\n",
    "                * ``user``: User address (string) executing the swap.\n",
    "                * ``amount_in``: Amount of `token_in` to swap.\n",
    "        * **Output**: Executes the swap from `token_in` to `token_out` for the user"
   ]
  },
  {
   "cell_type": "code",
   "execution_count": 40,
   "id": "b1d1f2c2-a3c5-40dc-956b-bc6390fd7789",
   "metadata": {},
   "outputs": [
    {
     "name": "stdout",
     "output_type": "stream",
     "text": [
      "Exchange ETH-TKN (LP)\n",
      "Reserves: ETH = 1000.0, TKN = 100000.0\n",
      "Liquidity: 10000.0 \n",
      "\n",
      "Exchange ETH-TKN (LP)\n",
      "Reserves: ETH = 990.1284196560293, TKN = 101000.0\n",
      "Liquidity: 10000.0 \n",
      "\n"
     ]
    }
   ],
   "source": [
    "tkn = ERC20(\"TKN\", \"0x111\")\n",
    "eth = ERC20(\"ETH\", \"0x09\")\n",
    "exchg_data = UniswapExchangeData(tkn0 = eth, tkn1 = tkn, symbol=\"LP\", address=\"0x011\")\n",
    "\n",
    "factory = UniswapFactory(\"ETH pool factory\", \"0x2\")\n",
    "lp = factory.deploy(exchg_data)\n",
    "\n",
    "Join().apply(lp, user_nm, eth_amount, tkn_amount)\n",
    "lp.summary()\n",
    "\n",
    "out = Swap().apply(lp, tkn, user_nm, 1000)\n",
    "lp.summary()"
   ]
  },
  {
   "cell_type": "markdown",
   "id": "865bc323-fd14-42b5-9cfd-26d923a39f23",
   "metadata": {},
   "source": [
    "**Swap: tkn1 for tkn0**"
   ]
  },
  {
   "cell_type": "code",
   "execution_count": 41,
   "id": "901298ea-eb06-479d-b05f-711da5d80331",
   "metadata": {},
   "outputs": [
    {
     "name": "stdout",
     "output_type": "stream",
     "text": [
      "Exchange ETH-TKN (LP)\n",
      "Reserves: ETH = 1000.0, TKN = 100000.0\n",
      "Liquidity: 10000.0 \n",
      "\n",
      "Exchange ETH-TKN (LP)\n",
      "Reserves: ETH = 1010.0, TKN = 99012.84196560294\n",
      "Liquidity: 10000.0 \n",
      "\n"
     ]
    }
   ],
   "source": [
    "tkn = ERC20(\"TKN\", \"0x111\")\n",
    "eth = ERC20(\"ETH\", \"0x09\")\n",
    "exchg_data = UniswapExchangeData(tkn0 = eth, tkn1 = tkn, symbol=\"LP\", address=\"0x011\")\n",
    "\n",
    "factory = UniswapFactory(\"ETH pool factory\", \"0x2\")\n",
    "lp = factory.deploy(exchg_data)\n",
    "\n",
    "Join().apply(lp, user_nm, eth_amount, tkn_amount)\n",
    "lp.summary()\n",
    "\n",
    "out = Swap().apply(lp, eth, user_nm, 10)\n",
    "lp.summary()"
   ]
  },
  {
   "cell_type": "markdown",
   "id": "64475593-9bb6-4a60-9248-656f92dc0759",
   "metadata": {},
   "source": [
    "**Swap: lp token for tkn1**"
   ]
  },
  {
   "cell_type": "code",
   "execution_count": 42,
   "id": "a7b41d95-d1a9-43bd-bad3-a258bb44f6b3",
   "metadata": {},
   "outputs": [
    {
     "name": "stdout",
     "output_type": "stream",
     "text": [
      "Exchange ETH-TKN (LP)\n",
      "Reserves: ETH = 1000.0, TKN = 100000.0\n",
      "Liquidity: 10000.0 \n",
      "\n",
      "Exchange ETHTKN-LP-TKN (LP2)\n",
      "Reserves: ETHTKN-LP = 10000.0, TKN = 100000.0\n",
      "Liquidity: 31622.776601683792 \n",
      "\n",
      "Exchange ETHTKN-LP-TKN (LP2)\n",
      "Reserves: ETHTKN-LP = 10100.0, TKN = 99012.84196560294\n",
      "Liquidity: 31622.776601683792 \n",
      "\n"
     ]
    }
   ],
   "source": [
    "tkn = ERC20(\"TKN\", \"0x111\")\n",
    "eth = ERC20(\"ETH\", \"0x09\")\n",
    "exchg_data = UniswapExchangeData(tkn0 = eth, tkn1 = tkn, symbol=\"LP\", address=\"0x011\")\n",
    "\n",
    "factory = UniswapFactory(\"ETH pool factory\", \"0x2\")\n",
    "lp_tkn = factory.deploy(exchg_data)\n",
    "\n",
    "Join().apply(lp_tkn, user_nm, eth_amount, tkn_amount)\n",
    "lp_tkn.summary()\n",
    "\n",
    "tkn2 = ERC20(\"TKN\", \"0x112\")\n",
    "lp_tkn_amount = lp_tkn.get_liquidity()\n",
    "exchg_data = UniswapExchangeData(tkn0 = lp_tkn, tkn1 = tkn2, symbol=\"LP2\", address=\"0x012\")\n",
    "lp2 = factory.deploy(exchg_data)\n",
    "\n",
    "Join().apply(lp2, user_nm, lp_tkn_amount, tkn_amount)\n",
    "lp2.summary()\n",
    "\n",
    "out = Swap().apply(lp2, lp_tkn, user_nm, 100)\n",
    "lp2.summary()"
   ]
  },
  {
   "cell_type": "markdown",
   "id": "64bb3bc1-9081-4c26-bff4-b7ede44eed55",
   "metadata": {},
   "source": [
    "**Swap: lp token for tkn0**"
   ]
  },
  {
   "cell_type": "code",
   "execution_count": 43,
   "id": "77ae8f37-8091-4acf-9208-058dbf9ca1ae",
   "metadata": {},
   "outputs": [
    {
     "name": "stdout",
     "output_type": "stream",
     "text": [
      "Exchange ETH-TKN (LP)\n",
      "Reserves: ETH = 1000.0, TKN = 100000.0\n",
      "Liquidity: 10000.0 \n",
      "\n",
      "Exchange ETHTKN-LP-TKN (LP2)\n",
      "Reserves: ETHTKN-LP = 10000.0, TKN = 100000.0\n",
      "Liquidity: 31622.776601683792 \n",
      "\n",
      "Exchange ETHTKN-LP-TKN (LP2)\n",
      "Reserves: ETHTKN-LP = 9990.039930189601, TKN = 100100.0\n",
      "Liquidity: 31622.776601683792 \n",
      "\n"
     ]
    }
   ],
   "source": [
    "tkn = ERC20(\"TKN\", \"0x111\")\n",
    "eth = ERC20(\"ETH\", \"0x09\")\n",
    "exchg_data = UniswapExchangeData(tkn0 = eth, tkn1 = tkn, symbol=\"LP\", address=\"0x011\")\n",
    "\n",
    "factory = UniswapFactory(\"ETH pool factory\", \"0x2\")\n",
    "lp_tkn = factory.deploy(exchg_data)\n",
    "\n",
    "Join().apply(lp_tkn, user_nm, eth_amount, tkn_amount)\n",
    "lp_tkn.summary()\n",
    "\n",
    "tkn2 = ERC20(\"TKN\", \"0x112\")\n",
    "lp_tkn_amount = lp_tkn.get_liquidity()\n",
    "exchg_data = UniswapExchangeData(tkn0 = lp_tkn, tkn1 = tkn2, symbol=\"LP2\", address=\"0x012\")\n",
    "lp2 = factory.deploy(exchg_data)\n",
    "\n",
    "Join().apply(lp2, user_nm, lp_tkn_amount, tkn_amount)\n",
    "lp2.summary()\n",
    "\n",
    "out = Swap().apply(lp2, tkn2, user_nm, 100)\n",
    "lp2.summary()"
   ]
  },
  {
   "cell_type": "markdown",
   "id": "ce834d59-59e3-46f5-92cc-7bb202862c3b",
   "metadata": {},
   "source": [
    "### 📘 AddLiquidity\n",
    "\n",
    "* **Class**: 📘 ``defipy.process.AddLiquidity`` \n",
    "    * **Purpose**: Double-sided deposit; Adds liquidity to existing Uniswap V2 pools, handling token amounts and liquidity tokens minting; input one token amount and the other token amount is calculated\n",
    "    * **Methods**:\n",
    "        * ``apply(pool, token_in: ERC20, user: str, amount_in: float)``\n",
    "            * **Parameters**:\n",
    "                * ``pool``: Pool instance to perform token addition.\n",
    "                * ``token_in``: ERC20 token to add.\n",
    "                * ``user``: User address (string) providing liquidity.\n",
    "                * ``amount_in``: Amount of `token_in` to add; the other token amount is calculated\n",
    "        * **Output**: Adds the specified token amounts to the pool and mints liquidity tokens to the user."
   ]
  },
  {
   "cell_type": "code",
   "execution_count": 44,
   "id": "1fd83152-c93e-491d-89bf-e780ba079dd5",
   "metadata": {},
   "outputs": [
    {
     "name": "stdout",
     "output_type": "stream",
     "text": [
      "Exchange ETH-TKN (LP)\n",
      "Reserves: ETH = 1000.0, TKN = 100000.0\n",
      "Liquidity: 10000.0 \n",
      "\n",
      "Exchange ETH-TKN (LP)\n",
      "Reserves: ETH = 1010.0, TKN = 101000.0\n",
      "Liquidity: 10100.0 \n",
      "\n"
     ]
    }
   ],
   "source": [
    "tkn = ERC20(\"TKN\", \"0x111\")\n",
    "eth = ERC20(\"ETH\", \"0x09\")\n",
    "exchg_data = UniswapExchangeData(tkn0 = eth, tkn1 = tkn, symbol=\"LP\", address=\"0x011\")\n",
    "\n",
    "factory = UniswapFactory(\"ETH pool factory\", \"0x2\")\n",
    "lp = factory.deploy(exchg_data)\n",
    "\n",
    "Join().apply(lp, user_nm, eth_amount, tkn_amount)\n",
    "lp.summary()\n",
    "\n",
    "AddLiquidity().apply(lp, eth, user_nm, 10)\n",
    "lp.summary()"
   ]
  },
  {
   "cell_type": "markdown",
   "id": "7667ae3b-93a9-4253-948e-27653c7852bf",
   "metadata": {},
   "source": [
    "**Add: tkn0 and determine tkn1**"
   ]
  },
  {
   "cell_type": "code",
   "execution_count": 45,
   "id": "f65c0db1-f95f-4274-930f-e2633066605c",
   "metadata": {},
   "outputs": [
    {
     "name": "stdout",
     "output_type": "stream",
     "text": [
      "Exchange ETH-TKN (LP)\n",
      "Reserves: ETH = 1000.0, TKN = 100000.0\n",
      "Liquidity: 10000.0 \n",
      "\n",
      "Exchange ETH-TKN (LP)\n",
      "Reserves: ETH = 1010.0, TKN = 101000.0\n",
      "Liquidity: 10100.0 \n",
      "\n"
     ]
    }
   ],
   "source": [
    "tkn = ERC20(\"TKN\", \"0x111\")\n",
    "eth = ERC20(\"ETH\", \"0x09\")\n",
    "exchg_data = UniswapExchangeData(tkn0 = eth, tkn1 = tkn, symbol=\"LP\", address=\"0x011\")\n",
    "\n",
    "factory = UniswapFactory(\"ETH pool factory\", \"0x2\")\n",
    "lp = factory.deploy(exchg_data)\n",
    "\n",
    "Join().apply(lp, user_nm, eth_amount, tkn_amount)\n",
    "lp.summary()\n",
    "\n",
    "AddLiquidity().apply(lp, tkn, user_nm, 1000)\n",
    "lp.summary()"
   ]
  },
  {
   "cell_type": "markdown",
   "id": "b12993dc-ea79-4a58-8c29-61608e06e04e",
   "metadata": {},
   "source": [
    "**Add: LP based on tkn2**"
   ]
  },
  {
   "cell_type": "code",
   "execution_count": 46,
   "id": "faf86ad2-8c3b-4bf4-9b38-6f2fdbac0973",
   "metadata": {},
   "outputs": [
    {
     "name": "stdout",
     "output_type": "stream",
     "text": [
      "Exchange ETH-TKN (LP)\n",
      "Reserves: ETH = 1000.0, TKN = 100000.0\n",
      "Liquidity: 10000.0 \n",
      "\n",
      "Exchange ETHTKN-LP-TKN (LP2)\n",
      "Reserves: ETHTKN-LP = 10000.0, TKN = 100000.0\n",
      "Liquidity: 31622.776601683792 \n",
      "\n",
      "Exchange ETHTKN-LP-TKN (LP2)\n",
      "Reserves: ETHTKN-LP = 10001.0, TKN = 100010.0\n",
      "Liquidity: 31625.93887934396 \n",
      "\n"
     ]
    }
   ],
   "source": [
    "tkn = ERC20(\"TKN\", \"0x111\")\n",
    "eth = ERC20(\"ETH\", \"0x09\")\n",
    "exchg_data = UniswapExchangeData(tkn0 = eth, tkn1 = tkn, symbol=\"LP\", address=\"0x011\")\n",
    "\n",
    "factory = UniswapFactory(\"ETH pool factory\", \"0x2\")\n",
    "lp_tkn = factory.deploy(exchg_data)\n",
    "\n",
    "Join().apply(lp_tkn, user_nm, eth_amount, tkn_amount)\n",
    "lp_tkn.summary()\n",
    "\n",
    "tkn2 = ERC20(\"TKN\", \"0x112\")\n",
    "lp_tkn_amount = lp_tkn.get_liquidity()\n",
    "exchg_data = UniswapExchangeData(tkn0 = lp_tkn, tkn1 = tkn2, symbol=\"LP2\", address=\"0x012\")\n",
    "lp2 = factory.deploy(exchg_data)\n",
    "\n",
    "Join().apply(lp2, user_nm, lp_tkn_amount, tkn_amount)\n",
    "lp2.summary()\n",
    "\n",
    "AddLiquidity().apply(lp2, tkn2, user_nm, 10)\n",
    "lp2.summary()"
   ]
  },
  {
   "cell_type": "markdown",
   "id": "33e9f7a0-b1df-489e-a979-3812565c3205",
   "metadata": {},
   "source": [
    "**Add: LP based on lp_tkn**"
   ]
  },
  {
   "cell_type": "code",
   "execution_count": 47,
   "id": "ab6ae0c1-234a-4f72-b6d4-ffacbe2f5ba1",
   "metadata": {},
   "outputs": [
    {
     "name": "stdout",
     "output_type": "stream",
     "text": [
      "Exchange ETH-TKN (LP)\n",
      "Reserves: ETH = 1000.0, TKN = 100000.0\n",
      "Liquidity: 10000.0 \n",
      "\n",
      "Exchange ETHTKN-LP-TKN (LP2)\n",
      "Reserves: ETHTKN-LP = 10000.0, TKN = 100000.0\n",
      "Liquidity: 31622.776601683792 \n",
      "\n",
      "Exchange ETHTKN-LP-TKN (LP2)\n",
      "Reserves: ETHTKN-LP = 10010.0, TKN = 100100.0\n",
      "Liquidity: 31654.399378285478 \n",
      "\n"
     ]
    }
   ],
   "source": [
    "tkn = ERC20(\"TKN\", \"0x111\")\n",
    "eth = ERC20(\"ETH\", \"0x09\")\n",
    "exchg_data = UniswapExchangeData(tkn0 = eth, tkn1 = tkn, symbol=\"LP\", address=\"0x011\")\n",
    "\n",
    "factory = UniswapFactory(\"ETH pool factory\", \"0x2\")\n",
    "lp_tkn = factory.deploy(exchg_data)\n",
    "\n",
    "Join().apply(lp_tkn, user_nm, eth_amount, tkn_amount)\n",
    "lp_tkn.summary()\n",
    "\n",
    "tkn2 = ERC20(\"TKN\", \"0x112\")\n",
    "lp_tkn_amount = lp_tkn.get_liquidity()\n",
    "exchg_data = UniswapExchangeData(tkn0 = lp_tkn, tkn1 = tkn2, symbol=\"LP2\", address=\"0x012\")\n",
    "lp2 = factory.deploy(exchg_data)\n",
    "\n",
    "Join().apply(lp2, user_nm, lp_tkn_amount, tkn_amount)\n",
    "lp2.summary()\n",
    "\n",
    "AddLiquidity().apply(lp2, lp_tkn, user_nm, 10)\n",
    "lp2.summary()"
   ]
  },
  {
   "cell_type": "markdown",
   "id": "1cc68ab1-a053-4eb8-83d1-2fc00fb25e16",
   "metadata": {},
   "source": [
    "### 📘 RemoveLiquidity\n",
    "\n",
    "* **Class**: 📘 ``defipy.process.RemoveLiquidity`` \n",
    "    * **Purpose**: Double-sided withdraw; Removes liquidity from Uniswap V2 pools, returning underlying tokens to the user; input one token amount and the other token amount is calculated\n",
    "    * **Methods**:\n",
    "        * ``apply(pool, token_out: ERC20, user: str, amount_out: float)``\n",
    "            * **Parameters**:\n",
    "                * ``pool``: Pool instance to perform token removal.\n",
    "                * ``token_out``: ERC20 token to remove.\n",
    "                * ``user``: User address (string) withdrawing liquidity.\n",
    "                * ``amount_out``: Amount of `token_out` to remove; the other token is calculated\n",
    "        * **Output**: Removes the specified liquidity tokens and transfers the corresponding amounts of underlying tokens back to the user."
   ]
  },
  {
   "cell_type": "code",
   "execution_count": 48,
   "id": "2300eb80-153d-4538-a6f8-dd34839f42c2",
   "metadata": {},
   "outputs": [
    {
     "name": "stdout",
     "output_type": "stream",
     "text": [
      "Exchange ETH-TKN (LP)\n",
      "Reserves: ETH = 1000.0, TKN = 100000.0\n",
      "Liquidity: 10000.0 \n",
      "\n"
     ]
    },
    {
     "data": {
      "text/plain": [
       "{'ETH': 999.0, 'TKN': 99900.0}"
      ]
     },
     "execution_count": 48,
     "metadata": {},
     "output_type": "execute_result"
    }
   ],
   "source": [
    "tkn = ERC20(\"TKN\", \"0x111\")\n",
    "eth = ERC20(\"ETH\", \"0x09\")\n",
    "exchg_data = UniswapExchangeData(tkn0 = eth, tkn1 = tkn, symbol=\"LP\", address=\"0x011\")\n",
    "\n",
    "factory = UniswapFactory(\"ETH pool factory\", \"0x2\")\n",
    "lp = factory.deploy(exchg_data)\n",
    "\n",
    "Join().apply(lp, user_nm, eth_amount, tkn_amount)\n",
    "lp.summary()\n",
    "\n",
    "RemoveLiquidity().apply(lp, eth, user_nm, 999)"
   ]
  },
  {
   "cell_type": "markdown",
   "id": "33e01ddc-4751-4db3-95c3-0f4b76286cdf",
   "metadata": {},
   "source": [
    "**Remove: tkn0 and determine tkn1**"
   ]
  },
  {
   "cell_type": "code",
   "execution_count": 49,
   "id": "5cdf6d7b-049d-42cc-b815-ba5978112c83",
   "metadata": {},
   "outputs": [
    {
     "name": "stdout",
     "output_type": "stream",
     "text": [
      "Exchange ETH-TKN (LP)\n",
      "Reserves: ETH = 1000.0, TKN = 100000.0\n",
      "Liquidity: 10000.0 \n",
      "\n",
      "Exchange ETH-TKN (LP)\n",
      "Reserves: ETH = 999.0, TKN = 99900.0\n",
      "Liquidity: 9990.0 \n",
      "\n"
     ]
    }
   ],
   "source": [
    "tkn = ERC20(\"TKN\", \"0x111\")\n",
    "eth = ERC20(\"ETH\", \"0x09\")\n",
    "exchg_data = UniswapExchangeData(tkn0 = eth, tkn1 = tkn, symbol=\"LP\", address=\"0x011\")\n",
    "\n",
    "factory = UniswapFactory(\"ETH pool factory\", \"0x2\")\n",
    "lp = factory.deploy(exchg_data)\n",
    "\n",
    "Join().apply(lp, user_nm, eth_amount, tkn_amount)\n",
    "lp.summary()\n",
    "\n",
    "RemoveLiquidity().apply(lp, tkn, user_nm, 100)\n",
    "lp.summary()"
   ]
  },
  {
   "cell_type": "markdown",
   "id": "24006a6a-28ed-4b29-8cb2-511622c86dce",
   "metadata": {},
   "source": [
    "**Remove: LP based on tkn2**"
   ]
  },
  {
   "cell_type": "code",
   "execution_count": 50,
   "id": "2edbd570-cccc-4a40-af67-0d98256db72d",
   "metadata": {},
   "outputs": [
    {
     "name": "stdout",
     "output_type": "stream",
     "text": [
      "Exchange ETH-TKN (LP)\n",
      "Reserves: ETH = 1000.0, TKN = 100000.0\n",
      "Liquidity: 10000.0 \n",
      "\n",
      "Exchange ETHTKN-LP-TKN (LP2)\n",
      "Reserves: ETHTKN-LP = 1000.0, TKN = 1000.0\n",
      "Liquidity: 1000.0 \n",
      "\n",
      "Exchange ETHTKN-LP-TKN (LP2)\n",
      "Reserves: ETHTKN-LP = 990.0, TKN = 990.0\n",
      "Liquidity: 990.0 \n",
      "\n"
     ]
    }
   ],
   "source": [
    "tkn = ERC20(\"TKN\", \"0x111\")\n",
    "eth = ERC20(\"ETH\", \"0x09\")\n",
    "exchg_data = UniswapExchangeData(tkn0 = eth, tkn1 = tkn, symbol=\"LP\", address=\"0x011\")\n",
    "\n",
    "factory = UniswapFactory(\"ETH pool factory\", \"0x2\")\n",
    "lp_tkn = factory.deploy(exchg_data)\n",
    "\n",
    "Join().apply(lp_tkn, user_nm, eth_amount, tkn_amount)\n",
    "lp_tkn.summary()\n",
    "\n",
    "tkn2 = ERC20(\"TKN\", \"0x112\")\n",
    "lp_tkn_amount = 1000\n",
    "exchg_data = UniswapExchangeData(tkn0 = lp_tkn, tkn1 = tkn2, symbol=\"LP2\", address=\"0x012\")\n",
    "lp2 = factory.deploy(exchg_data)\n",
    "\n",
    "Join().apply(lp2, user_nm, eth_amount, lp_tkn_amount)\n",
    "lp2.summary()\n",
    "\n",
    "RemoveLiquidity().apply(lp2, tkn2, user_nm, 10)\n",
    "lp2.summary()"
   ]
  },
  {
   "cell_type": "markdown",
   "id": "5bdc7572-9808-4709-9314-50782f0067fc",
   "metadata": {},
   "source": [
    "**Remove: LP based on lp_tkn** "
   ]
  },
  {
   "cell_type": "code",
   "execution_count": 51,
   "id": "ff5c4281-749f-4ecb-a9a5-cd06bf59cd51",
   "metadata": {},
   "outputs": [
    {
     "name": "stdout",
     "output_type": "stream",
     "text": [
      "Exchange ETH-TKN (LP)\n",
      "Reserves: ETH = 1000.0, TKN = 100000.0\n",
      "Liquidity: 10000.0 \n",
      "\n",
      "Exchange ETHTKN-LP-TKN (LP2)\n",
      "Reserves: ETHTKN-LP = 1000.0, TKN = 1000.0\n",
      "Liquidity: 1000.0 \n",
      "\n",
      "Exchange ETHTKN-LP-TKN (LP2)\n",
      "Reserves: ETHTKN-LP = 990.0, TKN = 990.0\n",
      "Liquidity: 990.0 \n",
      "\n"
     ]
    }
   ],
   "source": [
    "tkn = ERC20(\"TKN\", \"0x111\")\n",
    "eth = ERC20(\"ETH\", \"0x09\")\n",
    "exchg_data = UniswapExchangeData(tkn0 = eth, tkn1 = tkn, symbol=\"LP\", address=\"0x011\")\n",
    "\n",
    "factory = UniswapFactory(\"ETH pool factory\", \"0x2\")\n",
    "lp_tkn = factory.deploy(exchg_data)\n",
    "\n",
    "Join().apply(lp_tkn, user_nm, eth_amount, tkn_amount)\n",
    "lp_tkn.summary()\n",
    "\n",
    "tkn2 = ERC20(\"TKN\", \"0x112\")\n",
    "lp_tkn_amount = 1000\n",
    "exchg_data = UniswapExchangeData(tkn0 = lp_tkn, tkn1 = tkn2, symbol=\"LP2\", address=\"0x012\")\n",
    "lp2 = factory.deploy(exchg_data)\n",
    "\n",
    "Join().apply(lp2, user_nm, eth_amount, lp_tkn_amount)\n",
    "lp2.summary()\n",
    "\n",
    "RemoveLiquidity().apply(lp2, lp_tkn, user_nm, 10)\n",
    "lp2.summary()"
   ]
  },
  {
   "cell_type": "markdown",
   "id": "04640ec7-bf71-4e46-a76a-dc96042170c8",
   "metadata": {},
   "source": [
    "### 📘 SwapDeposit\n",
    "\n",
    "* **Class**: 📘 ``defipy.process.SwapDeposit`` \n",
    "    * **Purpose**: Single-sided deposit; combines token swapping and liquidity deposit into a single operation on Uniswap V2 pools.\n",
    "    * **Methods**:\n",
    "        * ``apply(pool, token_in: ERC20, user: str, amount_in: float)``\n",
    "            * **Parameters**:\n",
    "                * `pool`: Pool instance from which liquidity will be removed.\n",
    "                * `token_in`: ERC20 object of the token to remove from.\n",
    "                * `user`: User address (string) withdrawing liquidity.\n",
    "                * `amount_in`: Amount of token to swap in.\n",
    "        * **Output**: Executes the swap of `token_in` and deposits the specified amounts of token0 and token1 into the pool as liquidity for the user."
   ]
  },
  {
   "cell_type": "code",
   "execution_count": 52,
   "id": "dd65eee3-b8d0-4b83-8c04-cf99ea55fcc4",
   "metadata": {},
   "outputs": [
    {
     "name": "stdout",
     "output_type": "stream",
     "text": [
      "Exchange ETH-TKN (LP)\n",
      "Reserves: ETH = 1000.0, TKN = 100000.0\n",
      "Liquidity: 10000.0 \n",
      "\n",
      "Exchange ETH-TKN (LP)\n",
      "Reserves: ETH = 1000.0, TKN = 100100.0\n",
      "Liquidity: 10004.991241237401 \n",
      "\n"
     ]
    }
   ],
   "source": [
    "tkn = ERC20(\"TKN\", \"0x111\")\n",
    "eth = ERC20(\"ETH\", \"0x09\")\n",
    "exchg_data = UniswapExchangeData(tkn0 = eth, tkn1 = tkn, symbol=\"LP\", address=\"0x011\")\n",
    "\n",
    "factory = UniswapFactory(\"ETH pool factory\", \"0x2\")\n",
    "lp = factory.deploy(exchg_data)\n",
    "\n",
    "Join().apply(lp, user_nm, eth_amount, tkn_amount)\n",
    "lp.summary()\n",
    "\n",
    "SwapDeposit().apply(lp, tkn, user_nm, 100)\n",
    "lp.summary() "
   ]
  },
  {
   "cell_type": "markdown",
   "id": "ab3beefc-0392-4ea4-a6f2-6151eda3ea5e",
   "metadata": {},
   "source": [
    "**Swap exact tkn0 for tkn1**\n",
    "\n",
    "* deposit desired token -> perform 50% swap ->  perform 50/50 deposit"
   ]
  },
  {
   "cell_type": "code",
   "execution_count": 53,
   "id": "e411ba09-3688-4998-94b4-c0453f4700d9",
   "metadata": {},
   "outputs": [
    {
     "name": "stdout",
     "output_type": "stream",
     "text": [
      "Exchange ETH-TKN (LP)\n",
      "Reserves: ETH = 1000.0, TKN = 100000.0\n",
      "Liquidity: 10000.0 \n",
      "\n",
      "Exchange ETH-TKN (LP)\n",
      "Reserves: ETH = 1001.0, TKN = 100000.0\n",
      "Liquidity: 10004.991241237401 \n",
      "\n"
     ]
    }
   ],
   "source": [
    "tkn = ERC20(\"TKN\", \"0x111\")\n",
    "eth = ERC20(\"ETH\", \"0x09\")\n",
    "exchg_data = UniswapExchangeData(tkn0 = eth, tkn1 = tkn, symbol=\"LP\", address=\"0x011\")\n",
    "\n",
    "factory = UniswapFactory(\"ETH pool factory\", \"0x2\")\n",
    "lp = factory.deploy(exchg_data)\n",
    "\n",
    "Join().apply(lp, user_nm, eth_amount, tkn_amount)\n",
    "lp.summary()\n",
    "\n",
    "amount_out = SwapDeposit().apply(lp, eth, user_nm, 1)\n",
    "lp.summary()"
   ]
  },
  {
   "cell_type": "markdown",
   "id": "7b92448d-0bb4-4edf-a3a2-95aa1a49c03e",
   "metadata": {},
   "source": [
    "**Deposit: LP with only tkn2**\n",
    "\n",
    "* deposit desired token -> perform 50% swap ->  perform 50/50 deposit"
   ]
  },
  {
   "cell_type": "code",
   "execution_count": 54,
   "id": "22ba41bd-4f26-44a2-9201-4e5b3f28da9c",
   "metadata": {},
   "outputs": [
    {
     "name": "stdout",
     "output_type": "stream",
     "text": [
      "Exchange ETH-TKN (LP)\n",
      "Reserves: ETH = 1000.0, TKN = 100000.0\n",
      "Liquidity: 10000.0 \n",
      "\n",
      "Exchange ETHTKN-LP-TKN (LP2)\n",
      "Reserves: ETHTKN-LP = 1000.0, TKN = 1000.0\n",
      "Liquidity: 1000.0 \n",
      "\n",
      "Exchange ETHTKN-LP-TKN (LP2)\n",
      "Reserves: ETHTKN-LP = 1000.0, TKN = 1010.0\n",
      "Liquidity: 1004.980069557936 \n",
      "\n"
     ]
    }
   ],
   "source": [
    "tkn = ERC20(\"TKN\", \"0x111\")\n",
    "eth = ERC20(\"ETH\", \"0x09\")\n",
    "exchg_data = UniswapExchangeData(tkn0 = eth, tkn1 = tkn, symbol=\"LP\", address=\"0x011\")\n",
    "\n",
    "factory = UniswapFactory(\"ETH pool factory\", \"0x2\")\n",
    "lp_tkn = factory.deploy(exchg_data)\n",
    "\n",
    "Join().apply(lp_tkn, user_nm, eth_amount, tkn_amount)\n",
    "lp_tkn.summary()\n",
    "\n",
    "tkn2 = ERC20(\"TKN\", \"0x112\")\n",
    "exchg_data = UniswapExchangeData(tkn0 = lp_tkn, tkn1 = tkn2, symbol=\"LP2\", address=\"0x012\")\n",
    "lp2 = factory.deploy(exchg_data)\n",
    "\n",
    "Join().apply(lp2, user_nm, eth_amount, lp_tkn_amount)\n",
    "lp2.summary()\n",
    "\n",
    "SwapDeposit().apply(lp2, tkn2, user_nm, 10)\n",
    "lp2.summary() "
   ]
  },
  {
   "cell_type": "markdown",
   "id": "aa173eb9-9334-4371-8b2c-52ceb1ea8a77",
   "metadata": {},
   "source": [
    "**Deposit: LP with only lp_tkn**\n",
    "\n",
    "* deposit desired token -> perform 50% swap ->  perform 50/50 deposit"
   ]
  },
  {
   "cell_type": "code",
   "execution_count": 55,
   "id": "bce4180a-8b99-47cf-9f71-571d2c84bdec",
   "metadata": {},
   "outputs": [
    {
     "name": "stdout",
     "output_type": "stream",
     "text": [
      "Exchange ETH-TKN (LP)\n",
      "Reserves: ETH = 1000.0, TKN = 100000.0\n",
      "Liquidity: 10000.0 \n",
      "\n",
      "Exchange ETHTKN-LP-TKN (LP2)\n",
      "Reserves: ETHTKN-LP = 1000.0, TKN = 1000.0\n",
      "Liquidity: 1000.0 \n",
      "\n",
      "Exchange ETHTKN-LP-TKN (LP2)\n",
      "Reserves: ETHTKN-LP = 1010.0, TKN = 1000.0\n",
      "Liquidity: 1004.980069557936 \n",
      "\n"
     ]
    }
   ],
   "source": [
    "tkn = ERC20(\"TKN\", \"0x111\")\n",
    "eth = ERC20(\"ETH\", \"0x09\")\n",
    "exchg_data = UniswapExchangeData(tkn0 = eth, tkn1 = tkn, symbol=\"LP\", address=\"0x011\")\n",
    "\n",
    "factory = UniswapFactory(\"ETH pool factory\", \"0x2\")\n",
    "lp_tkn = factory.deploy(exchg_data)\n",
    "\n",
    "Join().apply(lp_tkn, user_nm, eth_amount, tkn_amount)\n",
    "lp_tkn.summary()\n",
    "\n",
    "tkn2 = ERC20(\"TKN\", \"0x112\")\n",
    "lp_tkn_amount = 1000\n",
    "exchg_data = UniswapExchangeData(tkn0 = lp_tkn, tkn1 = tkn2, symbol=\"LP2\", address=\"0x012\")\n",
    "lp2 = factory.deploy(exchg_data)\n",
    "\n",
    "Join().apply(lp2, user_nm, eth_amount, lp_tkn_amount)\n",
    "lp2.summary()\n",
    "\n",
    "SwapDeposit().apply(lp2, lp_tkn, user_nm, 10)\n",
    "lp2.summary() "
   ]
  },
  {
   "cell_type": "markdown",
   "id": "90faa3ca-2d22-4a9b-96ab-7421a5bd90ee",
   "metadata": {},
   "source": [
    "### 📘 WithdrawSwap\n",
    "\n",
    "* **Class**: 📘 ``defipy.process.WithdrawSwap`` \n",
    "    * **Purpose**: Single-sided withdraw; facilitates withdrawing liquidity from a Uniswap V2 pool and swapping the withdrawn tokens into a desired token.\n",
    "    * **Methods**:\n",
    "        * ``apply(pool, token_in: ERC20, user: str, amount_in: float)``\n",
    "            * **Parameters**:\n",
    "                * `pool`: Pool instance from which liquidity will be removed.\n",
    "                * `token_in`: ERC20 object of the token to remove from.\n",
    "                * `user`: User address (string) withdrawing liquidity.\n",
    "                * `amount_in`:Amount of token to swap out.\n",
    "        * **Output**: Removes liquidity from the pool, swaps the underlying tokens to `token_out`, and transfers the resulting tokens to the user, respecting slippage and deadline constraints."
   ]
  },
  {
   "cell_type": "code",
   "execution_count": 56,
   "id": "90fa05cd-f102-4ccc-bf7f-38cfb6d90fe6",
   "metadata": {},
   "outputs": [
    {
     "name": "stdout",
     "output_type": "stream",
     "text": [
      "Exchange ETH-TKN (LP)\n",
      "Reserves: ETH = 1000.0, TKN = 100000.0\n",
      "Liquidity: 10000.0 \n",
      "\n",
      "Exchange ETH-TKN (LP)\n",
      "Reserves: ETH = 999.0, TKN = 100000.0\n",
      "Liquidity: 9994.991239989282 \n",
      "\n"
     ]
    }
   ],
   "source": [
    "tkn = ERC20(\"TKN\", \"0x111\")\n",
    "eth = ERC20(\"ETH\", \"0x09\")\n",
    "exchg_data = UniswapExchangeData(tkn0 = eth, tkn1 = tkn, symbol=\"LP\", address=\"0x011\")\n",
    "\n",
    "factory = UniswapFactory(\"ETH pool factory\", \"0x2\")\n",
    "lp = factory.deploy(exchg_data)\n",
    "\n",
    "Join().apply(lp, user_nm, eth_amount, tkn_amount)\n",
    "lp.summary()\n",
    "\n",
    "expected_amount_out = WithdrawSwap().apply(lp, eth, user_nm, 1)\n",
    "lp.summary()"
   ]
  },
  {
   "cell_type": "markdown",
   "id": "2a60bf10-f474-4224-b02b-127dcd77b1d6",
   "metadata": {},
   "source": [
    "**Withdraw: exact tkn0**\n",
    "\n",
    "* withdraw LP based upon expected amount of tkn"
   ]
  },
  {
   "cell_type": "code",
   "execution_count": 57,
   "id": "e6f8a1eb-d1ea-45bd-a6fa-30f206f5c48b",
   "metadata": {},
   "outputs": [
    {
     "name": "stdout",
     "output_type": "stream",
     "text": [
      "Exchange ETH-TKN (LP)\n",
      "Reserves: ETH = 1000.0, TKN = 100000.0\n",
      "Liquidity: 10000.0 \n",
      "\n",
      "Exchange ETH-TKN (LP)\n",
      "Reserves: ETH = 1000.0, TKN = 99900.0\n",
      "Liquidity: 9994.991239989282 \n",
      "\n"
     ]
    }
   ],
   "source": [
    "tkn = ERC20(\"TKN\", \"0x111\")\n",
    "eth = ERC20(\"ETH\", \"0x09\")\n",
    "exchg_data = UniswapExchangeData(tkn0 = eth, tkn1 = tkn, symbol=\"LP\", address=\"0x011\")\n",
    "\n",
    "factory = UniswapFactory(\"ETH pool factory\", \"0x2\")\n",
    "lp = factory.deploy(exchg_data)\n",
    "\n",
    "Join().apply(lp, user_nm, eth_amount, tkn_amount)\n",
    "lp.summary()\n",
    "\n",
    "expected_amount_out = WithdrawSwap().apply(lp, tkn, user_nm, 100)\n",
    "lp.summary()"
   ]
  },
  {
   "cell_type": "markdown",
   "id": "f0f7c60d-b4ea-4568-aafd-ad232bf6edbb",
   "metadata": {},
   "source": [
    "**Withdraw: LP based upon expected amount of tkn2**\n",
    "\n",
    "* perform 50/50 withdraw  -> swap remaining 50% -> return desired token"
   ]
  },
  {
   "cell_type": "code",
   "execution_count": 58,
   "id": "8fc42ffe-053b-4394-8cc4-e5f2a420549c",
   "metadata": {},
   "outputs": [
    {
     "name": "stdout",
     "output_type": "stream",
     "text": [
      "Exchange ETH-TKN (LP)\n",
      "Reserves: ETH = 1000.0, TKN = 100000.0\n",
      "Liquidity: 10000.0 \n",
      "\n",
      "Exchange ETHTKN-LP-TKN (LP2)\n",
      "Reserves: ETHTKN-LP = 1000.0, TKN = 1000.0\n",
      "Liquidity: 1000.0 \n",
      "\n",
      "Exchange ETHTKN-LP-TKN (LP2)\n",
      "Reserves: ETHTKN-LP = 1000.0, TKN = 990.0\n",
      "Liquidity: 994.9799447405356 \n",
      "\n"
     ]
    }
   ],
   "source": [
    "tkn = ERC20(\"TKN\", \"0x111\")\n",
    "eth = ERC20(\"ETH\", \"0x09\")\n",
    "exchg_data = UniswapExchangeData(tkn0 = eth, tkn1 = tkn, symbol=\"LP\", address=\"0x011\")\n",
    "\n",
    "factory = UniswapFactory(\"ETH pool factory\", \"0x2\")\n",
    "lp_tkn = factory.deploy(exchg_data)\n",
    "\n",
    "Join().apply(lp_tkn, user_nm, eth_amount, tkn_amount)\n",
    "lp_tkn.summary()\n",
    "\n",
    "tkn2 = ERC20(\"TKN\", \"0x112\")\n",
    "lp_tkn_amount = 1000\n",
    "exchg_data = UniswapExchangeData(tkn0 = lp_tkn, tkn1 = tkn2, symbol=\"LP2\", address=\"0x012\")\n",
    "lp2 = factory.deploy(exchg_data)\n",
    "\n",
    "Join().apply(lp2, user_nm, eth_amount, lp_tkn_amount)\n",
    "lp2.summary()\n",
    "\n",
    "WithdrawSwap().apply(lp2, tkn2, user_nm, 10)\n",
    "lp2.summary() "
   ]
  },
  {
   "cell_type": "markdown",
   "id": "715e626c-33c2-4f4d-8533-b114b960b30b",
   "metadata": {},
   "source": [
    "**Withdraw: LP based upon expected amount of tkn2**\n",
    "\n",
    "* perform 50/50 withdraw  -> swap remaining 50% -> return desired token"
   ]
  },
  {
   "cell_type": "code",
   "execution_count": 59,
   "id": "20f30955-2980-4dd4-bedf-efaa1611b87f",
   "metadata": {},
   "outputs": [
    {
     "name": "stdout",
     "output_type": "stream",
     "text": [
      "Exchange ETH-TKN (LP)\n",
      "Reserves: ETH = 1000.0, TKN = 100000.0\n",
      "Liquidity: 10000.0 \n",
      "\n",
      "Exchange ETHTKN-LP-TKN (LP2)\n",
      "Reserves: ETHTKN-LP = 1000.0, TKN = 1000.0\n",
      "Liquidity: 1000.0 \n",
      "\n",
      "Exchange ETHTKN-LP-TKN (LP2)\n",
      "Reserves: ETHTKN-LP = 990.0, TKN = 1000.0\n",
      "Liquidity: 994.9799447405356 \n",
      "\n"
     ]
    }
   ],
   "source": [
    "tkn = ERC20(\"TKN\", \"0x111\")\n",
    "eth = ERC20(\"ETH\", \"0x09\")\n",
    "exchg_data = UniswapExchangeData(tkn0 = eth, tkn1 = tkn, symbol=\"LP\", address=\"0x011\")\n",
    "\n",
    "factory = UniswapFactory(\"ETH pool factory\", \"0x2\")\n",
    "lp_tkn = factory.deploy(exchg_data)\n",
    "\n",
    "Join().apply(lp_tkn, user_nm, eth_amount, tkn_amount)\n",
    "lp_tkn.summary()\n",
    "\n",
    "tkn2 = ERC20(\"TKN\", \"0x112\")\n",
    "lp_tkn_amount = 1000\n",
    "exchg_data = UniswapExchangeData(tkn0 = lp_tkn, tkn1 = tkn2, symbol=\"LP2\", address=\"0x012\")\n",
    "lp2 = factory.deploy(exchg_data)\n",
    "\n",
    "Join().apply(lp2, user_nm, eth_amount, lp_tkn_amount)\n",
    "lp2.summary()\n",
    "\n",
    "WithdrawSwap().apply(lp2, lp_tkn, user_nm, 10)\n",
    "lp2.summary() "
   ]
  },
  {
   "cell_type": "markdown",
   "id": "4dd30ab6-c391-4b1f-81bc-4d1fe9920278",
   "metadata": {},
   "source": [
    "### 📘 LPQuote\n",
    "\n",
    "* **Class**: 📘 ``defipy.cpt.index.LPQuote`` \n",
    "    * **Purpose**: Liquidity pool token quotes (ie, price, reserve and liquidity).\n",
    "    * **Methods**:\n",
    "        * ``get_price(pool, token_in: ERC20)``\n",
    "        * ``get_amount(pool, token_in: ERC20, amount_tkn: float)``\n",
    "        * ``get_amount_from_lp(pool, token_in: ERC20, amount_lp: float)``\n",
    "        * ``get_lp_from_amount(pool, token_in: ERC20, amount_tkn: float)``"
   ]
  },
  {
   "cell_type": "code",
   "execution_count": 60,
   "id": "cfcb86d5-0abb-449a-8a2f-ee47ec752f87",
   "metadata": {},
   "outputs": [
    {
     "name": "stdout",
     "output_type": "stream",
     "text": [
      "Exchange ETH-TKN (LP)\n",
      "Reserves: ETH = 1000.0, TKN = 100000.0\n",
      "Liquidity: 10000.0 \n",
      "\n"
     ]
    }
   ],
   "source": [
    "tkn = ERC20(\"TKN\", \"0x111\")\n",
    "eth = ERC20(\"ETH\", \"0x09\")\n",
    "exchg_data = UniswapExchangeData(tkn0 = eth, tkn1 = tkn, symbol=\"LP\", address=\"0x011\")\n",
    "\n",
    "factory = UniswapFactory(\"ETH pool factory\", \"0x2\")\n",
    "lp = factory.deploy(exchg_data)\n",
    "\n",
    "Join().apply(lp, user_nm, eth_amount, tkn_amount)\n",
    "lp.summary()"
   ]
  },
  {
   "cell_type": "markdown",
   "id": "44456728-be9e-4be2-9a6f-eaeabaec58b1",
   "metadata": {},
   "source": [
    "**Retrieve LP prices**"
   ]
  },
  {
   "cell_type": "code",
   "execution_count": 61,
   "id": "0a21747b-6752-4096-85e1-6bde9f2f999a",
   "metadata": {},
   "outputs": [
    {
     "name": "stdout",
     "output_type": "stream",
     "text": [
      "The price of ETH in TKN is 100.0\n",
      "The price of TKN in ETH is 0.01\n"
     ]
    }
   ],
   "source": [
    "p_eth = LPQuote().get_price(lp, eth)\n",
    "p_tkn = LPQuote().get_price(lp, tkn)\n",
    "print(f'The price of {eth.token_name} in {tkn.token_name} is {p_eth}') \n",
    "print(f'The price of {tkn.token_name} in {eth.token_name} is {p_tkn}') "
   ]
  },
  {
   "cell_type": "markdown",
   "id": "8faf3f85-59d6-4274-b368-ff88c33ba8f2",
   "metadata": {},
   "source": [
    "**Retrieve token settlement amount given opposing token amount**"
   ]
  },
  {
   "cell_type": "code",
   "execution_count": 62,
   "id": "01f7a49d-f7d0-4e3a-afe0-217a9ed3f2e2",
   "metadata": {},
   "outputs": [
    {
     "name": "stdout",
     "output_type": "stream",
     "text": [
      "1 ETH token is worth 0.009969900600091019 TKN after swap fees\n",
      "1 TKN token is worth 99.60069810399033 ETH after swap fees\n"
     ]
    }
   ],
   "source": [
    "amt_eth = LPQuote(include_fee = True).get_amount(lp, eth, 1)\n",
    "amt_tkn = LPQuote(include_fee = True).get_amount(lp, tkn, 1)\n",
    "print(f'1 {eth.token_name} token is worth {amt_tkn} {tkn.token_name} after swap fees')\n",
    "print(f'1 {tkn.token_name} token is worth {amt_eth} {eth.token_name} after swap fees')"
   ]
  },
  {
   "cell_type": "markdown",
   "id": "dff37ee5-4f2e-49a2-929f-b880e58e1207",
   "metadata": {},
   "source": [
    "**Retrieve rebased token settlement amount given amount of LP token**"
   ]
  },
  {
   "cell_type": "code",
   "execution_count": 63,
   "id": "d4a18346-1561-4c53-afb4-d3c59868627a",
   "metadata": {},
   "outputs": [
    {
     "name": "stdout",
     "output_type": "stream",
     "text": [
      "1 LP token is worth 0.19969005990701796 ETH\n",
      "1 LP token is worth 19.969005990701795 TKN\n"
     ]
    }
   ],
   "source": [
    "amt_eth = LPQuote(False).get_amount_from_lp(lp, eth, 1)\n",
    "amt_tkn = LPQuote().get_amount_from_lp(lp, eth, 1)\n",
    "print(f'1 LP token is worth {amt_eth} {eth.token_name}')\n",
    "print(f'1 LP token is worth {amt_tkn} {tkn.token_name}')"
   ]
  },
  {
   "cell_type": "markdown",
   "id": "3490aeb0-a69e-43a3-ba3c-0408319f0f07",
   "metadata": {},
   "source": [
    "**Retrieve LP token settlement amount given amount of asset token**"
   ]
  },
  {
   "cell_type": "code",
   "execution_count": 64,
   "id": "5e6531ab-d579-4afb-b9bf-feaf12bbf569",
   "metadata": {},
   "outputs": [
    {
     "name": "stdout",
     "output_type": "stream",
     "text": [
      "1 ETH token is worth 5.00876001071831 LP tokens\n",
      "1 TKN token is worth 0.05007523748156423 LP tokens\n"
     ]
    }
   ],
   "source": [
    "amt_eth_lp = LPQuote(False).get_lp_from_amount(lp, eth, 1)\n",
    "amt_tkn_lp = LPQuote(False).get_lp_from_amount(lp, tkn, 1)\n",
    "print(f'1 {eth.token_name} token is worth {amt_eth_lp} LP tokens')\n",
    "print(f'1 {tkn.token_name} token is worth {amt_tkn_lp} LP tokens')"
   ]
  }
 ],
 "metadata": {
  "kernelspec": {
   "display_name": "py3",
   "language": "python",
   "name": "py3"
  },
  "language_info": {
   "codemirror_mode": {
    "name": "ipython",
    "version": 3
   },
   "file_extension": ".py",
   "mimetype": "text/x-python",
   "name": "python",
   "nbconvert_exporter": "python",
   "pygments_lexer": "ipython3",
   "version": "3.10.0rc2"
  }
 },
 "nbformat": 4,
 "nbformat_minor": 5
}
