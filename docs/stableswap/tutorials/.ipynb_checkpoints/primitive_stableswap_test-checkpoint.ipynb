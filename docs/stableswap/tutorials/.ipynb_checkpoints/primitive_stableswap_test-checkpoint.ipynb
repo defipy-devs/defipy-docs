{
 "cells": [
  {
   "cell_type": "markdown",
   "id": "af029306-ee67-42d2-a243-08a44ff9f157",
   "metadata": {},
   "source": [
    "# Primitive Interface"
   ]
  },
  {
   "cell_type": "code",
   "execution_count": 1,
   "id": "b5f7783b-248a-45e2-845a-79769a364bef",
   "metadata": {},
   "outputs": [],
   "source": [
    "import json\n",
    "import numpy as np\n",
    "from decimal import Decimal"
   ]
  },
  {
   "cell_type": "code",
   "execution_count": 2,
   "id": "0946e1eb-17ad-4300-a54f-74bc42e08c61",
   "metadata": {},
   "outputs": [],
   "source": [
    "from defipy import *"
   ]
  },
  {
   "cell_type": "markdown",
   "id": "fbe1946f-c5c0-4c8a-ba6f-9fed43b847f2",
   "metadata": {},
   "source": [
    "#### Parameters"
   ]
  },
  {
   "cell_type": "code",
   "execution_count": 3,
   "id": "7585d97f-5064-4cb7-a4f8-56138e6fcd17",
   "metadata": {},
   "outputs": [],
   "source": [
    "USER = 'user_test'\n",
    "\n",
    "AMPL_COEFF = 2000 \n",
    "\n",
    "amt_dai = 79566307.559825807715868071\n",
    "decimal_dai = 18\n",
    "\n",
    "amt_usdc = 81345068.187939\n",
    "decimal_usdc = 6\n",
    "\n",
    "amt_usdt = 55663250.772939\n",
    "decimal_usdt = 6"
   ]
  },
  {
   "cell_type": "markdown",
   "id": "74688e49-361d-4575-b172-c3937a2942ed",
   "metadata": {},
   "source": [
    "#### Tokens"
   ]
  },
  {
   "cell_type": "code",
   "execution_count": 4,
   "id": "0556000a-7283-405b-848e-ef3d4db71027",
   "metadata": {},
   "outputs": [],
   "source": [
    "dai = ERC20(\"DAI\", \"0xA0b\", decimal_dai)\n",
    "dai.deposit(None, amt_dai)\n",
    "\n",
    "usdc = ERC20(\"USDC\", \"0xf93\", decimal_usdc)\n",
    "usdc.deposit(None, amt_usdc)\n",
    "\n",
    "usdt = ERC20(\"USDT\", \"0xd7c\", decimal_usdt)\n",
    "usdt.deposit(None, amt_usdt)"
   ]
  },
  {
   "cell_type": "code",
   "execution_count": 5,
   "id": "6298d054-d1ce-4edb-a7a0-3a12f7d1d29d",
   "metadata": {},
   "outputs": [],
   "source": [
    "sgrp = StableswapVault()\n",
    "sgrp.add_token(dai)\n",
    "sgrp.add_token(usdc)\n",
    "sgrp.add_token(usdt)"
   ]
  },
  {
   "cell_type": "markdown",
   "id": "380d2bc3-cb00-4105-b3c9-ead1e5dd39bf",
   "metadata": {},
   "source": [
    "#### Join Stableswap Pool with all Assets"
   ]
  },
  {
   "cell_type": "code",
   "execution_count": 6,
   "id": "15cb5271-a408-4637-ac8b-793b37840061",
   "metadata": {},
   "outputs": [
    {
     "name": "stdout",
     "output_type": "stream",
     "text": [
      "Stableswap Exchange: DAI-USDC-USDT (LP)\n",
      "Reserves: DAI = 79566307.55982581, USDC = 81345068.187939, USDT = 55663250.772939\n",
      "Liquidity: 216573027.91811988 \n",
      "\n"
     ]
    }
   ],
   "source": [
    "sfactory = StableswapFactory(\"Pool factory\", \"0x2\")\n",
    "exchg_data = StableswapExchangeData(vault = sgrp, symbol=\"LP\", address=\"0x011\")\n",
    "lp = sfactory.deploy(exchg_data)\n",
    "lp.join_pool(sgrp, AMPL_COEFF, USER)\n",
    "lp.summary()"
   ]
  },
  {
   "cell_type": "markdown",
   "id": "8c023416-3e29-4c1f-8e49-727cda8271d5",
   "metadata": {},
   "source": [
    "#### Price: USDC/DAI and DAI/USDC"
   ]
  },
  {
   "cell_type": "code",
   "execution_count": 7,
   "id": "7e079c56-ce07-443f-92fc-7134f6e2168f",
   "metadata": {},
   "outputs": [
    {
     "name": "stdout",
     "output_type": "stream",
     "text": [
      "Price of USDC/DAI is 0.9999896456022903 and DAI/USDC is 1.0000103545049244\n"
     ]
    }
   ],
   "source": [
    "p_usdc_dai = lp.get_price(usdc, dai)\n",
    "p_dai_usdc = lp.get_price(dai, usdc)\n",
    "\n",
    "print(f'Price of USDC/DAI is {p_usdc_dai} and DAI/USDC is {p_dai_usdc}')"
   ]
  },
  {
   "cell_type": "markdown",
   "id": "afc2e14c-8b45-480c-9e6d-ef80ce5064ba",
   "metadata": {},
   "source": [
    "#### Swap: USDC for USDT"
   ]
  },
  {
   "cell_type": "code",
   "execution_count": 8,
   "id": "faaade9b-d02d-4bb7-a081-60a298160af9",
   "metadata": {},
   "outputs": [
    {
     "name": "stdout",
     "output_type": "stream",
     "text": [
      "10000 USDC was swapped for 9996.862748 USDT\n"
     ]
    }
   ],
   "source": [
    "usdc_before = lp.get_reserve(usdc)\n",
    "usdt_before = lp.get_reserve(usdt)\n",
    "\n",
    "amt_tkn_in = 10000\n",
    "tkn_in = usdc\n",
    "tkn_out = usdt\n",
    "res = lp.swap(amt_tkn_in, tkn_in, tkn_out, USER)\n",
    "\n",
    "print(f\"{amt_tkn_in} {tkn_in.token_name} was swapped for {res['tkn_out_amt']} {tkn_out.token_name}\")"
   ]
  },
  {
   "cell_type": "code",
   "execution_count": 9,
   "id": "6b0a0795-e4ed-464b-ad0f-4bbc17626ca1",
   "metadata": {},
   "outputs": [
    {
     "name": "stdout",
     "output_type": "stream",
     "text": [
      "Stableswap Exchange: DAI-USDC-USDT (LP)\n",
      "Reserves: DAI = 79566307.55982581, USDC = 81355068.187939, USDT = 55653253.910191\n",
      "Liquidity: 216573027.91811988 \n",
      "\n",
      "Liquidity Leak (USDC): PASS\n",
      "Liquidity Leak (USDT): PASS\n"
     ]
    }
   ],
   "source": [
    "lp.summary()\n",
    "\n",
    "## Check for leaks\n",
    "usdc_check = lp.get_reserve(usdc)-amt_tkn_in\n",
    "usdt_check = lp.get_reserve(usdt)+res['tkn_out_amt']\n",
    "\n",
    "usdc_test = 'PASS' if {usdc_before == usdc_check} else 'FAIL'\n",
    "usdt_test = 'PASS' if {usdt_before == usdt_check} else 'FAIL'\n",
    "print(f'Liquidity Leak (USDC): {usdc_test}')\n",
    "print(f'Liquidity Leak (USDT): {usdt_test}')"
   ]
  },
  {
   "cell_type": "markdown",
   "id": "c229cd4a-4809-4b0c-9589-937d462c1566",
   "metadata": {},
   "source": [
    "#### Swap: USDC for DAI"
   ]
  },
  {
   "cell_type": "code",
   "execution_count": 10,
   "id": "7eebb2aa-e3d3-49c0-821f-6c8d5ef19f79",
   "metadata": {},
   "outputs": [
    {
     "name": "stdout",
     "output_type": "stream",
     "text": [
      "10000 USDC was swapped for 9998.895308918858 DAI\n"
     ]
    }
   ],
   "source": [
    "usdc_before = lp.get_reserve(usdc)\n",
    "dai_before = lp.get_reserve(dai)\n",
    "\n",
    "amt_tkn_in = 10000\n",
    "tkn_in = usdc\n",
    "tkn_out = dai\n",
    "res = lp.swap(amt_tkn_in, tkn_in, tkn_out, USER)\n",
    "\n",
    "print(f\"{amt_tkn_in} {tkn_in.token_name} was swapped for {res['tkn_out_amt']} {tkn_out.token_name}\")"
   ]
  },
  {
   "cell_type": "code",
   "execution_count": 11,
   "id": "00a69d2b-3c9d-44b7-8552-4c3ce0746a86",
   "metadata": {},
   "outputs": [
    {
     "name": "stdout",
     "output_type": "stream",
     "text": [
      "Stableswap Exchange: DAI-USDC-USDT (LP)\n",
      "Reserves: DAI = 79556308.6645169, USDC = 81365068.187939, USDT = 55653253.910191\n",
      "Liquidity: 216573027.91811988 \n",
      "\n",
      "Liquidity Leak (USDC): PASS\n",
      "Liquidity Leak (DAI): PASS\n"
     ]
    }
   ],
   "source": [
    "lp.summary()\n",
    "\n",
    "## Check for leaks\n",
    "usdc_check = lp.get_reserve(usdc)-amt_tkn_in\n",
    "dai_check = lp.get_reserve(dai)+res['tkn_out_amt']\n",
    "\n",
    "usdc_test = 'PASS' if {usdc_before == usdc_check} else 'FAIL'\n",
    "dai_test = 'PASS' if {dai_before == dai_check} else 'FAIL'\n",
    "print(f'Liquidity Leak (USDC): {usdc_test}')\n",
    "print(f'Liquidity Leak (DAI): {dai_test}')"
   ]
  },
  {
   "cell_type": "markdown",
   "id": "c735e8ce-685f-4c00-b9ee-5d7838205421",
   "metadata": {},
   "source": [
    "#### Add Liquidity: USDT"
   ]
  },
  {
   "cell_type": "code",
   "execution_count": 12,
   "id": "92a033f3-2939-4ae1-a6cd-15c704369e33",
   "metadata": {},
   "outputs": [
    {
     "name": "stdout",
     "output_type": "stream",
     "text": [
      "10000 USDT was deposited for 10000.919116999057 LP tokens\n"
     ]
    }
   ],
   "source": [
    "usdt_before = lp.get_reserve(usdt)\n",
    "\n",
    "amt_tkn_in = 10000\n",
    "tkn_in = usdt\n",
    "res = lp.add_liquidity(amt_tkn_in, tkn_in, USER)\n",
    "\n",
    "print(f\"{amt_tkn_in} {tkn_in.token_name} was deposited for {res['liquidity_amt_in']} LP tokens\")"
   ]
  },
  {
   "cell_type": "code",
   "execution_count": 13,
   "id": "e6b5c53a-d19b-4e24-bfa5-3f77bedf8746",
   "metadata": {},
   "outputs": [
    {
     "name": "stdout",
     "output_type": "stream",
     "text": [
      "Stableswap Exchange: DAI-USDC-USDT (LP)\n",
      "Reserves: DAI = 79556308.6645169, USDC = 81365068.187939, USDT = 55663253.910191\n",
      "Liquidity: 216583028.83723688 \n",
      "\n",
      "Liquidity Leak (USDT): PASS\n"
     ]
    }
   ],
   "source": [
    "lp.summary()\n",
    "\n",
    "## Check for leaks\n",
    "usdt_check = lp.get_reserve(usdt)-amt_tkn_in\n",
    "\n",
    "usdt_test = 'PASS' if {usdt_before == usdc_check} else 'FAIL'\n",
    "print(f'Liquidity Leak (USDT): {usdt_test}')"
   ]
  },
  {
   "cell_type": "markdown",
   "id": "c1d30852-cbea-41fb-bbfb-d0016fb08b97",
   "metadata": {},
   "source": [
    "#### Add Liquidity: DAI"
   ]
  },
  {
   "cell_type": "code",
   "execution_count": 14,
   "id": "11096611-aadd-4637-8e89-922d8d4c6b95",
   "metadata": {},
   "outputs": [
    {
     "name": "stdout",
     "output_type": "stream",
     "text": [
      "10000 DAI was deposited for 9998.968444705135 LP tokens\n"
     ]
    }
   ],
   "source": [
    "amt_tkn_in = 10000\n",
    "tkn_in = dai\n",
    "dai_before = lp.get_reserve(dai)\n",
    "res = lp.add_liquidity(amt_tkn_in, tkn_in, USER)\n",
    "\n",
    "print(f\"{amt_tkn_in} {tkn_in.token_name} was deposited for {res['liquidity_amt_in']} LP tokens\")"
   ]
  },
  {
   "cell_type": "code",
   "execution_count": 15,
   "id": "123aa457-307c-48e2-997f-47fa2176bb16",
   "metadata": {},
   "outputs": [
    {
     "name": "stdout",
     "output_type": "stream",
     "text": [
      "Stableswap Exchange: DAI-USDC-USDT (LP)\n",
      "Reserves: DAI = 79566308.6645169, USDC = 81365068.187939, USDT = 55663253.910191\n",
      "Liquidity: 216593027.8056816 \n",
      "\n",
      "Liquidity Leak (USDT): PASS\n"
     ]
    }
   ],
   "source": [
    "lp.summary()\n",
    "\n",
    "## Check for leaks\n",
    "dai_check = lp.get_reserve(dai)-amt_tkn_in\n",
    "\n",
    "dai_test = 'PASS' if {dai_before == dai_check} else 'FAIL'\n",
    "print(f'Liquidity Leak (USDT): {dai_test}')"
   ]
  },
  {
   "cell_type": "markdown",
   "id": "616d1a1d-968d-4865-b19b-67f7a12a1a59",
   "metadata": {},
   "source": [
    "#### Remove Liquidity: DAI"
   ]
  },
  {
   "cell_type": "code",
   "execution_count": 16,
   "id": "750dc3e2-5774-49c4-aab6-3403c69131b7",
   "metadata": {},
   "outputs": [
    {
     "name": "stdout",
     "output_type": "stream",
     "text": [
      "250000 LP tokens as removed for 250001.94300082736 DAI\n"
     ]
    }
   ],
   "source": [
    "amt_lp_out = 250000\n",
    "tkn_out = dai\n",
    "dai_before = lp.get_reserve(dai)\n",
    "lp_amt_before = lp.total_supply\n",
    "res = lp.remove_liquidity(amt_lp_out, tkn_out, USER)\n",
    "\n",
    "print(f\"{amt_lp_out} LP tokens as removed for {res['tkn_out_amt']} {tkn_out.token_name}\")"
   ]
  },
  {
   "cell_type": "code",
   "execution_count": 17,
   "id": "b83baef8-62c7-4913-9108-ce25832601d3",
   "metadata": {},
   "outputs": [
    {
     "name": "stdout",
     "output_type": "stream",
     "text": [
      "Stableswap Exchange: DAI-USDC-USDT (LP)\n",
      "Reserves: DAI = 79316306.72151607, USDC = 81365068.187939, USDT = 55663253.910191\n",
      "Liquidity: 216343027.8056816 \n",
      "\n",
      "Liquidity Leak (DAI): PASS\n",
      "Liquidity Leak (LP AMT): PASS\n"
     ]
    }
   ],
   "source": [
    "lp.summary()\n",
    "\n",
    "## Check for leaks\n",
    "dai_check = lp.get_reserve(dai)-res['tkn_out_amt']\n",
    "lp_amt_check = lp.total_supply - amt_lp_out\n",
    "\n",
    "dai_test = 'PASS' if {dai_before == dai_check} else 'FAIL'\n",
    "lp_amt_test = 'PASS' if {lp_amt_before == lp_amt_check} else 'FAIL'\n",
    "print(f'Liquidity Leak (DAI): {dai_test}')\n",
    "print(f'Liquidity Leak (LP AMT): {lp_amt_test}')"
   ]
  },
  {
   "cell_type": "markdown",
   "id": "75a0859a-8fc6-420b-b6b8-491040dc1073",
   "metadata": {},
   "source": [
    "#### Remove Liquidity: USDC"
   ]
  },
  {
   "cell_type": "code",
   "execution_count": 18,
   "id": "20161f7f-24a2-405f-9b8f-a186bf0ecfcc",
   "metadata": {},
   "outputs": [
    {
     "name": "stdout",
     "output_type": "stream",
     "text": [
      "500000 LP tokens as removed for 500009.469211 USDC\n"
     ]
    }
   ],
   "source": [
    "amt_lp_out = 500000\n",
    "tkn_out = usdc\n",
    "usdc_before = lp.get_reserve(usdc)\n",
    "lp_amt_before = lp.total_supply\n",
    "res = lp.remove_liquidity(amt_lp_out, tkn_out, USER)\n",
    "\n",
    "print(f\"{amt_lp_out} LP tokens as removed for {res['tkn_out_amt']} {tkn_out.token_name}\")"
   ]
  },
  {
   "cell_type": "code",
   "execution_count": 19,
   "id": "5ad030ab-e88b-4db0-b7a0-1f50aba72132",
   "metadata": {},
   "outputs": [
    {
     "name": "stdout",
     "output_type": "stream",
     "text": [
      "Stableswap Exchange: DAI-USDC-USDT (LP)\n",
      "Reserves: DAI = 79316306.72151607, USDC = 80865058.718728, USDT = 55663253.910191\n",
      "Liquidity: 215843027.8056816 \n",
      "\n",
      "Liquidity Leak (USDC): PASS\n",
      "Liquidity Leak (LP AMT): PASS\n"
     ]
    }
   ],
   "source": [
    "lp.summary()\n",
    "\n",
    "## Check for leaks\n",
    "usdc_check = lp.get_reserve(usdc)-res['tkn_out_amt']\n",
    "lp_amt_check = lp.total_supply - amt_lp_out\n",
    "\n",
    "usdc_test = 'PASS' if {usdc_before == usdc_check} else 'FAIL'\n",
    "lp_amt_test = 'PASS' if {lp_amt_before == lp_amt_check} else 'FAIL'\n",
    "print(f'Liquidity Leak (USDC): {usdc_test}')\n",
    "print(f'Liquidity Leak (LP AMT): {lp_amt_test}')"
   ]
  },
  {
   "cell_type": "markdown",
   "id": "ca93526f-2015-44e0-8c2b-2e26192f59cb",
   "metadata": {},
   "source": [
    "#### Remove Liquidity: USDT"
   ]
  },
  {
   "cell_type": "code",
   "execution_count": 20,
   "id": "7a40d3d4-9201-49a4-9137-4c0b23cc21d4",
   "metadata": {},
   "outputs": [
    {
     "name": "stdout",
     "output_type": "stream",
     "text": [
      "500000 LP tokens as removed for 499898.496234 USDT\n"
     ]
    }
   ],
   "source": [
    "amt_lp_out = 500000\n",
    "tkn_out = usdt\n",
    "usdt_before = lp.get_reserve(usdt)\n",
    "lp_amt_before = lp.total_supply\n",
    "res = lp.remove_liquidity(amt_lp_out, tkn_out, USER)\n",
    "\n",
    "print(f\"{amt_lp_out} LP tokens as removed for {res['tkn_out_amt']} {tkn_out.token_name}\")"
   ]
  },
  {
   "cell_type": "code",
   "execution_count": 21,
   "id": "0999b1c5-3a19-41f6-a8ff-59cb5339329c",
   "metadata": {},
   "outputs": [
    {
     "name": "stdout",
     "output_type": "stream",
     "text": [
      "Stableswap Exchange: DAI-USDC-USDT (LP)\n",
      "Reserves: DAI = 79316306.72151607, USDC = 80865058.718728, USDT = 55163355.413957\n",
      "Liquidity: 215343027.8056816 \n",
      "\n",
      "Liquidity Leak (USDT): PASS\n",
      "Liquidity Leak (LP AMT): PASS\n"
     ]
    }
   ],
   "source": [
    "lp.summary()\n",
    "\n",
    "## Check for leaks\n",
    "usdt_check = lp.get_reserve(usdt)-res['tkn_out_amt']\n",
    "lp_amt_check = lp.total_supply - amt_lp_out\n",
    "\n",
    "usdt_test = 'PASS' if {usdt_before == usdt_check} else 'FAIL'\n",
    "lp_amt_test = 'PASS' if {lp_amt_before == lp_amt_check} else 'FAIL'\n",
    "print(f'Liquidity Leak (USDT): {usdt_test}')\n",
    "print(f'Liquidity Leak (LP AMT): {lp_amt_test}')"
   ]
  },
  {
   "cell_type": "markdown",
   "id": "76e6463d-7132-4a0e-aee2-8c2d865420a5",
   "metadata": {},
   "source": [
    "#### Check Exchange / Math Pool / Token Balances"
   ]
  },
  {
   "cell_type": "code",
   "execution_count": 22,
   "id": "9c27030f-a639-43e5-ab3c-48f0fd67d51b",
   "metadata": {},
   "outputs": [],
   "source": [
    "math_pool = lp.get_math_pool()\n",
    "tkn_decimal_amts = sgrp.get_decimal_amts()"
   ]
  },
  {
   "cell_type": "code",
   "execution_count": 23,
   "id": "5c833fd0-ef24-4631-837f-617d26b00386",
   "metadata": {},
   "outputs": [
    {
     "name": "stdout",
     "output_type": "stream",
     "text": [
      "Math Pool LP tkn balance == LP tkn balance: PASS\n"
     ]
    }
   ],
   "source": [
    "lp_test = 'PASS' if {lp.total_supply == round(math_pool.tokens/10**18,6)} else 'FAIL'\n",
    "print(f'Math Pool LP tkn balance == LP tkn balance: {lp_test}')"
   ]
  },
  {
   "cell_type": "code",
   "execution_count": 24,
   "id": "34a679a3-9643-430d-99d4-8663fa1cf03c",
   "metadata": {},
   "outputs": [
    {
     "name": "stdout",
     "output_type": "stream",
     "text": [
      "Math pool [DAI] balance == [DAI] balance: PASS \n",
      "Math pool [USDC] balance == [USDC] balance: PASS \n",
      "Math pool [USDT] balance == [USDT] balance: PASS \n"
     ]
    }
   ],
   "source": [
    "for k, tkn_nm in enumerate(lp.tkn_reserves):\n",
    "    tkn = sgrp.get_token(tkn_nm)\n",
    "    tkn_balance = tkn.token_total\n",
    "    tkn_math_pool_balance = float(Decimal(str(math_pool.balances[k]))/Decimal(str(10**tkn.token_decimal))) \n",
    "    assert round(tkn_balance,5) == round(tkn_math_pool_balance,5), f'ERROR: {tkn_nm} TOKEN VALUE DOES NOT MATCH WITH MATH POOL'\n",
    "    print(f'Math pool [{tkn_nm}] balance == [{tkn_nm}] balance: PASS ')"
   ]
  },
  {
   "cell_type": "code",
   "execution_count": 25,
   "id": "c6faaf67-ab4d-491f-bdfc-101dd1da0c18",
   "metadata": {},
   "outputs": [
    {
     "name": "stdout",
     "output_type": "stream",
     "text": [
      "Math pool [DAI] balance == Reserve [DAI] balance: PASS [DAI]\n",
      "Math pool [USDC] balance == Reserve [USDC] balance: PASS [USDC]\n",
      "Math pool [USDT] balance == Reserve [USDT] balance: PASS [USDT]\n"
     ]
    }
   ],
   "source": [
    "for k, tkn_nm in enumerate(lp.tkn_reserves):\n",
    "    tkn = sgrp.get_token(tkn_nm)\n",
    "    tkn_balance = lp.tkn_reserves[tkn_nm]\n",
    "    tkn_math_pool_balance = float(Decimal(str(math_pool.balances[k]))/Decimal(str(10**tkn.token_decimal))) \n",
    "    assert round(tkn_balance,5) == round(tkn_math_pool_balance,5), f'ERROR: {tkn_nm} TOKEN VALUE DOES NOT MATCH WITH MATH POOL'\n",
    "    print(f'Math pool [{tkn_nm}] balance == Reserve [{tkn_nm}] balance: PASS [{tkn_nm}]')"
   ]
  },
  {
   "cell_type": "code",
   "execution_count": 26,
   "id": "b4a92621-728f-442c-820b-5c6fcb9bf5a3",
   "metadata": {},
   "outputs": [
    {
     "name": "stdout",
     "output_type": "stream",
     "text": [
      "Math pool [DAI] balance == Group [DAI] balance: PASS [DAI] \n",
      "Math pool [USDC] balance == Group [USDC] balance: PASS [USDC] \n",
      "Math pool [USDT] balance == Group [USDT] balance: PASS [USDT] \n"
     ]
    }
   ],
   "source": [
    "for k, tkn_nm in enumerate(tkn_decimal_amts):\n",
    "    tkn = sgrp.get_token(tkn_nm)\n",
    "    tkn_balance = float(Decimal(str(tkn_decimal_amts[tkn_nm]))/Decimal(str(10**tkn.token_decimal)))  \n",
    "    tkn_math_pool_balance = float(Decimal(str(math_pool.balances[k]))/Decimal(str(10**tkn.token_decimal))) \n",
    "    assert round(tkn_balance,5) == round(tkn_math_pool_balance,5), f'ERROR: {tkn_nm} TOKEN VALUE DOES NOT MATCH WITH MATH POOL'\n",
    "    print(f'Math pool [{tkn_nm}] balance == Group [{tkn_nm}] balance: PASS [{tkn_nm}] ')"
   ]
  }
 ],
 "metadata": {
  "kernelspec": {
   "display_name": "py3",
   "language": "python",
   "name": "py3"
  },
  "language_info": {
   "codemirror_mode": {
    "name": "ipython",
    "version": 3
   },
   "file_extension": ".py",
   "mimetype": "text/x-python",
   "name": "python",
   "nbconvert_exporter": "python",
   "pygments_lexer": "ipython3",
   "version": "3.10.0rc2"
  }
 },
 "nbformat": 4,
 "nbformat_minor": 5
}
